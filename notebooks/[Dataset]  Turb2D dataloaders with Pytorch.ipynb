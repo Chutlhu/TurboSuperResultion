{
 "cells": [
  {
   "cell_type": "markdown",
   "id": "ba95c5f6",
   "metadata": {},
   "source": [
    "# Turb2D 2021 Data\n",
    "\n",
    "### On OSPC\n",
    "Data are stored in `'/home/dicarlo_d/Documents/Datasets/Turb2D.hdf5'`"
   ]
  },
  {
   "cell_type": "code",
   "execution_count": 3,
   "id": "2720dbb9",
   "metadata": {},
   "outputs": [],
   "source": [
    "%load_ext autoreload\n",
    "%autoreload 2"
   ]
  },
  {
   "cell_type": "code",
   "execution_count": 4,
   "id": "fadc0c4a",
   "metadata": {},
   "outputs": [],
   "source": [
    "import numpy as np\n",
    "from pathlib import Path\n",
    "\n",
    "import matplotlib.pyplot as plt"
   ]
  },
  {
   "cell_type": "code",
   "execution_count": 5,
   "id": "75819e7c",
   "metadata": {},
   "outputs": [
    {
     "data": {
      "text/plain": [
       "True"
      ]
     },
     "execution_count": 5,
     "metadata": {},
     "output_type": "execute_result"
    }
   ],
   "source": [
    "data_path = Path('/','home','dicarlo_d','Documents','Datasets','Turb2D.hdf5')\n",
    "data_path.exists()"
   ]
  },
  {
   "cell_type": "code",
   "execution_count": 4,
   "id": "09b49a16",
   "metadata": {},
   "outputs": [],
   "source": [
    "from turboflow.datasets.turb2D import Turb2D"
   ]
  },
  {
   "cell_type": "code",
   "execution_count": 5,
   "id": "79464a5e",
   "metadata": {},
   "outputs": [],
   "source": [
    "data_home = Path('/','home','dicarlo_d','Documents','Datasets')\n",
    "turb2D = Turb2D(data_path)"
   ]
  },
  {
   "cell_type": "code",
   "execution_count": 8,
   "id": "e7932731",
   "metadata": {},
   "outputs": [
    {
     "name": "stdout",
     "output_type": "stream",
     "text": [
      "========== BibTeX ==========\n",
      "\n",
      "@misc{heitz2007deliverable,\n",
      "  title={Final report on the evaluation of the tasks of the workpackage 2, FLUID project deliverable 5.4.},\n",
      "  author={Heitz, Dominique and Carlier, Johan and Arroyo, Georges and Szantai, Andr{'e}}\n",
      "  year={2007},\n",
      "}\n",
      "\n"
     ]
    }
   ],
   "source": [
    "turb2D.cite()"
   ]
  },
  {
   "cell_type": "code",
   "execution_count": 9,
   "id": "6a756e9d",
   "metadata": {},
   "outputs": [
    {
     "name": "stdout",
     "output_type": "stream",
     "text": [
      "Check data dimensions... done!\n"
     ]
    }
   ],
   "source": [
    "turb2D.validate()"
   ]
  },
  {
   "cell_type": "markdown",
   "id": "645c2ba5",
   "metadata": {},
   "source": [
    "## Single Image/Time dataloader"
   ]
  },
  {
   "cell_type": "code",
   "execution_count": 6,
   "id": "4514e98b",
   "metadata": {},
   "outputs": [],
   "source": [
    "from turboflow.dataloaders import Turb2DDataset"
   ]
  },
  {
   "cell_type": "code",
   "execution_count": 21,
   "id": "4f8ee365",
   "metadata": {},
   "outputs": [],
   "source": [
    "data_path = Path('/','home','dicarlo_d','Documents','Datasets','Turb2D.hdf5')\n",
    "td = Turb2DDataset(data_path, ds=1, dt=1, time_idx=33)"
   ]
  },
  {
   "cell_type": "code",
   "execution_count": 22,
   "id": "aba354cf",
   "metadata": {},
   "outputs": [
    {
     "name": "stdout",
     "output_type": "stream",
     "text": [
      "0.33\n",
      "torch.Size([65536, 2])\n",
      "torch.Size([65536, 2])\n"
     ]
    }
   ],
   "source": [
    "print(td.t)\n",
    "print(td.X.shape)\n",
    "print(td.y.shape)"
   ]
  },
  {
   "cell_type": "code",
   "execution_count": 34,
   "id": "49859638",
   "metadata": {},
   "outputs": [
    {
     "name": "stdout",
     "output_type": "stream",
     "text": [
      "33\n",
      "None\n",
      "torch.Size([126976, 3])\n"
     ]
    }
   ],
   "source": [
    "from turboflow.dataloaders import TurboFlowDataModule\n",
    "td = TurboFlowDataModule('Turb2D',data_path,batch_size=10,time_idx=33,\n",
    "                         train_downsampling=4, val_downsampling=4, test_downsampling=4,\n",
    "                         num_workers=1)\n",
    "td.setup(stage='fit')\n",
    "X, y = td.train_dataset[:]\n",
    "print(X.shape)"
   ]
  },
  {
   "cell_type": "code",
   "execution_count": null,
   "id": "38419b4b",
   "metadata": {},
   "outputs": [],
   "source": []
  }
 ],
 "metadata": {
  "kernelspec": {
   "display_name": "Python 3 (ipykernel)",
   "language": "python",
   "name": "python3"
  },
  "language_info": {
   "codemirror_mode": {
    "name": "ipython",
    "version": 3
   },
   "file_extension": ".py",
   "mimetype": "text/x-python",
   "name": "python",
   "nbconvert_exporter": "python",
   "pygments_lexer": "ipython3",
   "version": "3.8.5"
  }
 },
 "nbformat": 4,
 "nbformat_minor": 5
}
