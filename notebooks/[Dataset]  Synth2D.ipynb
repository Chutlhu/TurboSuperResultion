{
 "cells": [
  {
   "cell_type": "markdown",
   "id": "ba95c5f6",
   "metadata": {},
   "source": [
    "# Synth 2022 Data\n",
    "\n",
    "### On OSPC"
   ]
  },
  {
   "cell_type": "code",
   "execution_count": null,
   "id": "2720dbb9",
   "metadata": {},
   "outputs": [],
   "source": [
    "%load_ext autoreload\n",
    "%autoreload 2"
   ]
  },
  {
   "cell_type": "code",
   "execution_count": null,
   "id": "fadc0c4a",
   "metadata": {},
   "outputs": [],
   "source": [
    "import numpy as np\n",
    "from pathlib import Path\n",
    "\n",
    "import matplotlib.pyplot as plt"
   ]
  },
  {
   "cell_type": "code",
   "execution_count": null,
   "id": "75819e7c",
   "metadata": {},
   "outputs": [],
   "source": [
    "data_path = Path('/','home','dicarlo_d','Documents','Code','TurboSuperResultion','.cache', 'Synth2D_0001.hdf5')\n",
    "data_path.exists()"
   ]
  },
  {
   "cell_type": "code",
   "execution_count": null,
   "id": "09b49a16",
   "metadata": {},
   "outputs": [],
   "source": [
    "from kolmopy.datasets.synth2D import Synth2D"
   ]
  },
  {
   "cell_type": "code",
   "execution_count": null,
   "id": "79464a5e",
   "metadata": {},
   "outputs": [],
   "source": [
    "dset = Synth2D(data_path)"
   ]
  },
  {
   "cell_type": "code",
   "execution_count": null,
   "id": "e7932731",
   "metadata": {},
   "outputs": [],
   "source": [
    "dset.cite()"
   ]
  },
  {
   "cell_type": "code",
   "execution_count": null,
   "id": "6a756e9d",
   "metadata": {},
   "outputs": [],
   "source": [
    "dset.validate()"
   ]
  },
  {
   "cell_type": "markdown",
   "id": "98b1c9ee",
   "metadata": {},
   "source": [
    "## Multiple images"
   ]
  },
  {
   "cell_type": "code",
   "execution_count": null,
   "id": "080bda60",
   "metadata": {},
   "outputs": [],
   "source": [
    "from tqdm import tqdm\n",
    "from IPython.display import HTML\n",
    "from matplotlib import animation"
   ]
  },
  {
   "cell_type": "code",
   "execution_count": null,
   "id": "c000ef49",
   "metadata": {},
   "outputs": [],
   "source": [
    "t = None\n",
    "dset.load_data(t, only_vel_field=False)"
   ]
  },
  {
   "cell_type": "code",
   "execution_count": null,
   "id": "507370ac",
   "metadata": {},
   "outputs": [],
   "source": [
    "u = dset.u\n",
    "v = dset.v\n",
    "w = dset.v\n",
    "uv = dset.uv\n",
    "print(uv.shape)\n",
    "print(dset.t)\n",
    "print(len(dset.t))\n",
    "diff = dset.diffusion\n",
    "print(diff)"
   ]
  },
  {
   "cell_type": "code",
   "execution_count": null,
   "id": "d23e97be",
   "metadata": {},
   "outputs": [],
   "source": [
    "plt.imshow(u[0,:,:])\n",
    "plt.colorbar()"
   ]
  },
  {
   "cell_type": "code",
   "execution_count": null,
   "id": "15af0266",
   "metadata": {
    "scrolled": false
   },
   "outputs": [],
   "source": [
    "fig, axarr = plt.subplots(1,1, figsize=(10,10))\n",
    "\n",
    "ims = []\n",
    "for i in tqdm(range(0, dset.uv.shape[0], 8)):\n",
    "    \n",
    "    data = dset.uv[i,:,:,0]\n",
    "    im1 = axarr.imshow(data, animated=True)\n",
    "    \n",
    "    ims.append([im1])\n",
    "    \n",
    "ani = animation.ArtistAnimation(fig, ims, interval=100, blit=True, repeat_delay=1000)\n",
    "plt.close()\n",
    "\n",
    "# Show the animation\n",
    "HTML(ani.to_html5_video())"
   ]
  },
  {
   "cell_type": "code",
   "execution_count": null,
   "id": "4aeb1033",
   "metadata": {},
   "outputs": [],
   "source": []
  },
  {
   "cell_type": "code",
   "execution_count": null,
   "id": "12c8266e",
   "metadata": {},
   "outputs": [],
   "source": [
    "X, y = td[:]\n",
    "print(X.shape)\n",
    "print(y.shape)"
   ]
  },
  {
   "cell_type": "code",
   "execution_count": null,
   "id": "4a971c80",
   "metadata": {},
   "outputs": [],
   "source": [
    "R = td.res\n",
    "\n",
    "uv = y.view(R, R, 2)     # (R*R, 2)\n",
    "uv = uv.permute(2, 0, 1) # (R, R, 2) -> (2, R, R)\n",
    "\n",
    "E, k = phy.energy_spectrum(uv)\n",
    "\n",
    "# wavenumber\n",
    "wavenumber = (2*np.pi)*(k*(1/256))\n",
    "\n",
    "plt.loglog(k_bin, Ekt, color='black', lw=1.5, label=r'$3\\mathrm{D}\\,\\, \\mathrm{total}$')\n",
    "c = 0.015\n",
    "plt.loglog([min(k[1:]), max(k)], \n",
    "           [c*min(k[1:])**(-5./3.), c*max(k)**(-5./3.)],\n",
    "           color='black', lw=1, ls='dotted')\n",
    "c = 0.02\n",
    "plt.loglog([min(k[1:]), max(k)],\n",
    "           [c*min(k[1:])**(-3.), c*max(k)**(-3.)],\n",
    "           color='C0', lw=1, ls='dotted')\n",
    "\n",
    "plt.legend()\n",
    "plt.show()"
   ]
  },
  {
   "cell_type": "code",
   "execution_count": null,
   "id": "0dbbdc76",
   "metadata": {},
   "outputs": [],
   "source": [
    "Re = 3000\n",
    "nu = 1/Re\n",
    "\n",
    "print('TKE', phy.tkenergy(uv).item())\n",
    "print('Dissipation', phy.dissipation(uv, viscosity=nu).item())\n",
    "print('RMSE', phy.rmsvelocity(uv).item())\n",
    "print('Taylor Micro scale', phy.tmscale(uv, viscosity=nu).item())\n",
    "print('Taylor-scale Reynolds', phy.tsreynolds(uv, viscosity=nu).item())\n",
    "print('Kolmogorov Time', phy.ktimescale(uv, viscosity=nu))\n",
    "print('Kolmogorov Lenght', phy.klenscale(uv, viscosity=nu))\n",
    "print('Integral scale', phy.intscale(uv))"
   ]
  },
  {
   "cell_type": "markdown",
   "id": "5e2349b8",
   "metadata": {},
   "source": [
    "## PROCESS FILES\n",
    "### Extract TEXT (X,Y,U,V)"
   ]
  },
  {
   "cell_type": "code",
   "execution_count": null,
   "id": "95fbc4df",
   "metadata": {},
   "outputs": [],
   "source": [
    "# img_dir = '../../../Datasets/2021-Turb2D/shifttruth1000-txt.txt/'\n",
    "# imgs = sorted(glob.glob(img_dir + '*.txt'))\n",
    "\n",
    "# nimgs = len(imgs)\n",
    "\n",
    "# Turb2D = np.zeros((nimgs,256,256,4))\n",
    "\n",
    "# for i, img_path in enumerate(tqdm(imgs)):\n",
    "#     img = np.loadtxt(open(img_path, \"rb\"))\n",
    "#     for v in range(4):\n",
    "#         Turb2D[i,:,:,v] = img[:,v].reshape(256,256)\n",
    "\n",
    "# outfile = '../data/2021-Turb2D_velocities.npy'\n",
    "# np.save(outfile, Turb2D)"
   ]
  },
  {
   "cell_type": "markdown",
   "id": "1ae226c3",
   "metadata": {},
   "source": [
    "### Extract Particles"
   ]
  },
  {
   "cell_type": "code",
   "execution_count": null,
   "id": "8c02b40d",
   "metadata": {},
   "outputs": [],
   "source": [
    "# img_dir = '../../../Datasets/2021-Turb2D/particle/'\n",
    "# imgs = sorted(glob.glob(img_dir + '*.tif'))\n",
    "\n",
    "# nimgs = len(imgs)\n",
    "\n",
    "# Turbo2DParticles = np.zeros((nimgs, 256,256))\n",
    "\n",
    "# for i, img_path in enumerate(tqdm(imgs)):\n",
    "#     img = plt.imread(img_path)\n",
    "#     Turbo2DParticles[i,:,:] = img\n",
    "\n",
    "# outfile = '../data/2021-Turb2D_particles.npy'\n",
    "# np.save(outfile, Turbo2DParticles)"
   ]
  },
  {
   "cell_type": "markdown",
   "id": "c52fd07a",
   "metadata": {},
   "source": [
    "## Extract Scalar"
   ]
  },
  {
   "cell_type": "code",
   "execution_count": null,
   "id": "62a0ed0d",
   "metadata": {},
   "outputs": [],
   "source": [
    "# img_dir = '../../../Datasets/2021-Turb2D/scalar/'\n",
    "# imgs = sorted(glob.glob(img_dir + '*.tif'))\n",
    "\n",
    "# nimgs = len(imgs)\n",
    "\n",
    "# Turbo2DScalar = np.zeros((nimgs, 256,256))\n",
    "\n",
    "# for i, img_path in enumerate(tqdm(imgs)):\n",
    "#     img = plt.imread(img_path)\n",
    "#     Turbo2DScalar[i,:,:] = img\n",
    "\n",
    "# outfile = '../data/2021-Turb2D_scalar.npy'\n",
    "# np.save(outfile, Turbo2DScalar)"
   ]
  },
  {
   "cell_type": "markdown",
   "id": "f5feb8a6",
   "metadata": {},
   "source": [
    "## Visualize Data"
   ]
  },
  {
   "cell_type": "code",
   "execution_count": null,
   "id": "b6e49e41",
   "metadata": {},
   "outputs": [],
   "source": [
    "Velocities = np.load('../data/2021-Turb2D_velocities.npy')\n",
    "Scalars = np.load('../data/2021-Turb2D_scalar.npy')\n",
    "Particles = np.load('../data/2021-Turb2D_particles.npy')"
   ]
  },
  {
   "cell_type": "code",
   "execution_count": null,
   "id": "bb0e2a56",
   "metadata": {},
   "outputs": [],
   "source": [
    "img = 10\n",
    "\n",
    "plt.figure(figsize=(5,5))\n",
    "plt.subplot(221)\n",
    "plt.imshow(Velocities[img,:,:,0])\n",
    "plt.subplot(222)\n",
    "plt.imshow(Velocities[img,:,:,1])\n",
    "plt.subplot(223)\n",
    "plt.imshow(Velocities[img,:,:,2])\n",
    "plt.subplot(224)\n",
    "plt.imshow(Velocities[img,:,:,3])\n",
    "\n",
    "plt.figure(figsize=(5,5))\n",
    "plt.imshow(Scalars[img,:,:])\n",
    "\n",
    "plt.figure(figsize=(5,5))\n",
    "plt.imshow(Particles[img,:,:])"
   ]
  },
  {
   "cell_type": "code",
   "execution_count": null,
   "id": "d8da135e",
   "metadata": {},
   "outputs": [],
   "source": [
    "fig, axarr = plt.subplots(1,2, figsize=(10,10))\n",
    "\n",
    "ims = []\n",
    "for i in tqdm(range(100)):\n",
    "       \n",
    "    im1 = axarr[0].imshow(Scalars[i,:,:], animated=True)\n",
    "    im2 = axarr[1].imshow(Particles[i,:,:], animated=True)\n",
    "    \n",
    "    ims.append([im1, im2])\n",
    "    \n",
    "ani = animation.ArtistAnimation(fig, ims, interval=100, blit=True, repeat_delay=1000)\n",
    "\n",
    "plt.close()\n",
    "\n",
    "# Show the animation\n",
    "HTML(ani.to_html5_video())"
   ]
  },
  {
   "cell_type": "markdown",
   "id": "6dea6785",
   "metadata": {},
   "source": [
    "## Process Data"
   ]
  },
  {
   "cell_type": "code",
   "execution_count": null,
   "id": "9eac4cc6",
   "metadata": {},
   "outputs": [],
   "source": [
    "from turboflow.utils import physics as ph"
   ]
  },
  {
   "cell_type": "code",
   "execution_count": null,
   "id": "28dddf00",
   "metadata": {},
   "outputs": [],
   "source": [
    "n = 10\n",
    "\n",
    "U = Velocities[n,:,:,2]\n",
    "V = Velocities[n,:,:,3]\n",
    "\n",
    "# attention might be V <-> U\n",
    "\n",
    "vorticity = ph.compute_vorticity(U, V)\n",
    "\n",
    "plt.figure(figsize=(5,5))\n",
    "plt.imshow(vorticity.T)\n",
    "plt.show()\n",
    "\n",
    "fig, ax = plt.subplots(figsize=(5,5))\n",
    "ph.plot_field(V, U, step=5, scale=1, ax=ax)\n",
    "plt.show()\n",
    "\n",
    "fig, ax = plt.subplots(figsize=(5,5))\n",
    "ph.plot_field(V, U, step=5, scale=1, img=vorticity, ax=ax)\n",
    "plt.show()"
   ]
  },
  {
   "cell_type": "code",
   "execution_count": null,
   "id": "e921c59f",
   "metadata": {},
   "outputs": [],
   "source": [
    "fig, axarr = plt.subplots(figsize=(10,10))\n",
    "\n",
    "ims = []\n",
    "for i in tqdm(range(100)):\n",
    "    \n",
    "    U = Velocities[i,:,:,2]\n",
    "    V = Velocities[i,:,:,3]\n",
    "\n",
    "#     vorticity = ph.compute_vorticity(U, V)\n",
    "       \n",
    "    im1 = ph.plot_field(V, U, step=5, scale=1, ax=axarr)\n",
    "    \n",
    "    ims.append([im1])\n",
    "    \n",
    "ani = animation.ArtistAnimation(fig, ims, interval=50, blit=True, repeat_delay=1000)\n",
    "\n",
    "plt.close()\n",
    "\n",
    "# Show the animation\n",
    "HTML(ani.to_html5_video())"
   ]
  },
  {
   "cell_type": "code",
   "execution_count": null,
   "id": "19d28e8b",
   "metadata": {},
   "outputs": [],
   "source": []
  }
 ],
 "metadata": {
  "kernelspec": {
   "display_name": "Python 3 (ipykernel)",
   "language": "python",
   "name": "python3"
  },
  "language_info": {
   "codemirror_mode": {
    "name": "ipython",
    "version": 3
   },
   "file_extension": ".py",
   "mimetype": "text/x-python",
   "name": "python",
   "nbconvert_exporter": "python",
   "pygments_lexer": "ipython3",
   "version": "3.8.5"
  }
 },
 "nbformat": 4,
 "nbformat_minor": 5
}
