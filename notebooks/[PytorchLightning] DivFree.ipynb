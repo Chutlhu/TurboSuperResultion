{
 "cells": [
  {
   "cell_type": "code",
   "execution_count": 1,
   "id": "d40b6aee",
   "metadata": {},
   "outputs": [],
   "source": [
    "%load_ext autoreload\n",
    "%autoreload 2"
   ]
  },
  {
   "cell_type": "code",
   "execution_count": 3,
   "id": "1b5de5fb",
   "metadata": {},
   "outputs": [],
   "source": [
    "import numpy as np\n",
    "import matplotlib.pyplot as plt\n",
    "from matplotlib import cm\n",
    "\n",
    "# some imports from my project library\n",
    "from turboflow.utils import phy_utils as phy\n",
    "from turboflow.utils import dsp_utils as dsp\n",
    "from turboflow.utils import torch_utils as tch\n",
    "from turboflow.utils import viz_utils as viz\n",
    "from turboflow import evaluation as evl\n",
    "\n",
    "\n",
    "# import torch lib\n",
    "import torch\n",
    "# import pl torch libs\n",
    "import pytorch_lightning as pl\n",
    "from pytorch_lightning.callbacks import EarlyStopping"
   ]
  },
  {
   "cell_type": "code",
   "execution_count": 4,
   "id": "de3496b6",
   "metadata": {},
   "outputs": [],
   "source": [
    "from turboflow.dataloaders import TurboFlowDataModule\n",
    "args = {\n",
    "    'dataset' : 'Turb2D',\n",
    "    'data_dir' : None,\n",
    "    'batch_size' : 100000,\n",
    "    'time_idx' : 42,\n",
    "    'train_downsampling' : 4,\n",
    "    'val_downsampling' : 4,\n",
    "    'test_downsampling' : 1\n",
    "    \n",
    "}\n",
    "dm = TurboFlowDataModule(**args)\n",
    "dm.setup()"
   ]
  },
  {
   "cell_type": "code",
   "execution_count": 5,
   "id": "90f134aa",
   "metadata": {},
   "outputs": [
    {
     "name": "stdout",
     "output_type": "stream",
     "text": [
      "torch.Size([4096, 2]) torch.Size([4096, 2])\n",
      "torch.Size([4096, 2]) torch.Size([4096, 2])\n",
      "tensor([[0.0000, 0.0000],\n",
      "        [0.0000, 0.0157]])\n",
      "tensor(0.0314)\n",
      "torch.Size([65536, 2])\n",
      "torch.Size([65536, 2])\n",
      "tensor([[0.0000, 0.0000],\n",
      "        [0.0000, 0.0039]])\n",
      "0.00784314\n"
     ]
    }
   ],
   "source": [
    "for batch in dm.train_dataloader():\n",
    "    X, y = batch\n",
    "    print(X.shape, y.shape)\n",
    "\n",
    "for batch in dm.val_dataloader():\n",
    "    X, y = batch\n",
    "    print(X.shape, y.shape)\n",
    "    print(X[:2,:])\n",
    "    print(X[2,1]-X[2,0])\n",
    "    \n",
    "for batch in dm.test_dataloader():\n",
    "    X, y = batch\n",
    "    print(X.shape)\n",
    "    print(y.shape)\n",
    "    print(X[:2,:])\n",
    "print('%1.8f' % (X[2,1]-X[2,0]))"
   ]
  },
  {
   "cell_type": "code",
   "execution_count": 6,
   "id": "c87fce1c",
   "metadata": {},
   "outputs": [],
   "source": [
    "from turboflow.models.phyrff_hard import plDivFreeRFFNet\n",
    "\n",
    "args = {\n",
    "    'name':'DivFreeNetRFF',\n",
    "    'mlp_layers_dim' : 256,\n",
    "    'mlp_layers_num' : 3,\n",
    "    'mlp_last_actfn': 'tanh',\n",
    "    'do_rff' :   True, \n",
    "    'rff_num' : 256,\n",
    "    'rff_scale' :  10,\n",
    "    'lam_pde': 1e-4,\n",
    "    'lam_reg': 0,\n",
    "    'lam_sfn': 0,\n",
    "    'sfn_min_x':0.00784314,\n",
    "    'sfn_num_centers'   :50,\n",
    "    'sfn_num_increments':3,\n",
    "    'sfn_patch_dim':32,\n",
    "}\n",
    "\n",
    "model = plDivFreeRFFNet(**args)"
   ]
  },
  {
   "cell_type": "code",
   "execution_count": 7,
   "id": "3fddeb13",
   "metadata": {},
   "outputs": [
    {
     "data": {
      "text/plain": [
       "(tensor([[ 2.0099, -3.4388],\n",
       "         [-5.3524, -1.2877],\n",
       "         [ 0.4447,  4.3464],\n",
       "         [-2.5105,  3.3002],\n",
       "         [-3.1376,  1.7063],\n",
       "         [-7.5726, -8.3330],\n",
       "         [ 0.8607, -1.1402],\n",
       "         [-2.3013, -1.3965],\n",
       "         [ 4.9681,  3.6961],\n",
       "         [ 4.2605,  1.8359]], grad_fn=<CatBackward>),\n",
       " tensor([[-0.1114],\n",
       "         [ 0.0131],\n",
       "         [-0.0046],\n",
       "         [-0.1198],\n",
       "         [-0.1093],\n",
       "         [-0.1660],\n",
       "         [-0.1318],\n",
       "         [-0.0112],\n",
       "         [-0.2841],\n",
       "         [-0.1640]], grad_fn=<TanhBackward>))"
      ]
     },
     "execution_count": 7,
     "metadata": {},
     "output_type": "execute_result"
    }
   ],
   "source": [
    "x = torch.randn(10,2)\n",
    "model(x)"
   ]
  },
  {
   "cell_type": "code",
   "execution_count": null,
   "id": "a3a7f419",
   "metadata": {
    "scrolled": false
   },
   "outputs": [
    {
     "name": "stderr",
     "output_type": "stream",
     "text": [
      "GPU available: True, used: True\n",
      "TPU available: False, using: 0 TPU cores\n",
      "IPU available: False, using: 0 IPUs\n",
      "/home/dicarlo_d/Documents/Code/TurboSuperResultion/venv/lib/python3.8/site-packages/pytorch_lightning/core/datamodule.py:423: LightningDeprecationWarning: DataModule.setup has already been called, so it will not be called again. In v1.6 this behavior will change to always call DataModule.setup.\n",
      "  rank_zero_deprecation(\n",
      "LOCAL_RANK: 0 - CUDA_VISIBLE_DEVICES: [0]\n",
      "2021-10-15 13:55:58.504979: W tensorflow/stream_executor/platform/default/dso_loader.cc:64] Could not load dynamic library 'libcudart.so.11.0'; dlerror: libcudart.so.11.0: cannot open shared object file: No such file or directory\n",
      "2021-10-15 13:55:58.505013: I tensorflow/stream_executor/cuda/cudart_stub.cc:29] Ignore above cudart dlerror if you do not have a GPU set up on your machine.\n",
      "\n",
      "  | Name | Type    | Params\n",
      "---------------------------------\n",
      "0 | rff  | Fourier | 512   \n",
      "1 | mlp  | MLP     | 263 K \n",
      "2 | div  | DivFree | 0     \n",
      "---------------------------------\n",
      "263 K     Trainable params\n",
      "512       Non-trainable params\n",
      "263 K     Total params\n",
      "1.055     Total estimated model params size (MB)\n"
     ]
    },
    {
     "data": {
      "application/vnd.jupyter.widget-view+json": {
       "model_id": "",
       "version_major": 2,
       "version_minor": 0
      },
      "text/plain": [
       "Validation sanity check: 0it [00:00, ?it/s]"
      ]
     },
     "metadata": {},
     "output_type": "display_data"
    },
    {
     "name": "stderr",
     "output_type": "stream",
     "text": [
      "/home/dicarlo_d/Documents/Code/TurboSuperResultion/venv/lib/python3.8/site-packages/pytorch_lightning/trainer/data_loading.py:326: UserWarning: The number of training samples (1) is smaller than the logging interval Trainer(log_every_n_steps=50). Set a lower value for log_every_n_steps if you want to see logs for the training epoch.\n",
      "  rank_zero_warn(\n"
     ]
    },
    {
     "data": {
      "application/vnd.jupyter.widget-view+json": {
       "model_id": "defc998701a74a23adfeb10abb2a36cb",
       "version_major": 2,
       "version_minor": 0
      },
      "text/plain": [
       "Training: -1it [00:00, ?it/s]"
      ]
     },
     "metadata": {},
     "output_type": "display_data"
    },
    {
     "data": {
      "application/vnd.jupyter.widget-view+json": {
       "model_id": "",
       "version_major": 2,
       "version_minor": 0
      },
      "text/plain": [
       "Validating: 0it [00:00, ?it/s]"
      ]
     },
     "metadata": {},
     "output_type": "display_data"
    },
    {
     "data": {
      "application/vnd.jupyter.widget-view+json": {
       "model_id": "",
       "version_major": 2,
       "version_minor": 0
      },
      "text/plain": [
       "Validating: 0it [00:00, ?it/s]"
      ]
     },
     "metadata": {},
     "output_type": "display_data"
    },
    {
     "data": {
      "application/vnd.jupyter.widget-view+json": {
       "model_id": "",
       "version_major": 2,
       "version_minor": 0
      },
      "text/plain": [
       "Validating: 0it [00:00, ?it/s]"
      ]
     },
     "metadata": {},
     "output_type": "display_data"
    },
    {
     "data": {
      "application/vnd.jupyter.widget-view+json": {
       "model_id": "",
       "version_major": 2,
       "version_minor": 0
      },
      "text/plain": [
       "Validating: 0it [00:00, ?it/s]"
      ]
     },
     "metadata": {},
     "output_type": "display_data"
    },
    {
     "data": {
      "application/vnd.jupyter.widget-view+json": {
       "model_id": "",
       "version_major": 2,
       "version_minor": 0
      },
      "text/plain": [
       "Validating: 0it [00:00, ?it/s]"
      ]
     },
     "metadata": {},
     "output_type": "display_data"
    },
    {
     "data": {
      "application/vnd.jupyter.widget-view+json": {
       "model_id": "",
       "version_major": 2,
       "version_minor": 0
      },
      "text/plain": [
       "Validating: 0it [00:00, ?it/s]"
      ]
     },
     "metadata": {},
     "output_type": "display_data"
    }
   ],
   "source": [
    "early_stop_callback = EarlyStopping(monitor='val_loss')\n",
    "\n",
    "trainer = pl.Trainer(gpus=1, \n",
    "                     check_val_every_n_epoch=200, \n",
    "                     max_epochs=5000, \n",
    "                     callbacks=[early_stop_callback])\n",
    "\n",
    "trainer.fit(model, dm)"
   ]
  },
  {
   "cell_type": "code",
   "execution_count": null,
   "id": "1e73ee9f",
   "metadata": {},
   "outputs": [],
   "source": []
  },
  {
   "cell_type": "code",
   "execution_count": null,
   "id": "c1fd70c7",
   "metadata": {},
   "outputs": [],
   "source": []
  }
 ],
 "metadata": {
  "kernelspec": {
   "display_name": "Python 3 (ipykernel)",
   "language": "python",
   "name": "python3"
  },
  "language_info": {
   "codemirror_mode": {
    "name": "ipython",
    "version": 3
   },
   "file_extension": ".py",
   "mimetype": "text/x-python",
   "name": "python",
   "nbconvert_exporter": "python",
   "pygments_lexer": "ipython3",
   "version": "3.8.5"
  }
 },
 "nbformat": 4,
 "nbformat_minor": 5
}
