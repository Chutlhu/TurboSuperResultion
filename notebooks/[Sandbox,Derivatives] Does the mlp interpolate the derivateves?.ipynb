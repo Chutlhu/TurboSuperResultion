{
 "cells": [
  {
   "cell_type": "code",
   "execution_count": 2,
   "id": "c6d26a11",
   "metadata": {},
   "outputs": [],
   "source": [
    "import torch\n",
    "import matplotlib.pyplot as plt"
   ]
  },
  {
   "cell_type": "code",
   "execution_count": 62,
   "id": "77231f80",
   "metadata": {},
   "outputs": [
    {
     "name": "stdout",
     "output_type": "stream",
     "text": [
      "torch.Size([10, 1])\n",
      "torch.Size([10, 1])\n"
     ]
    },
    {
     "data": {
      "text/plain": [
       "[<matplotlib.lines.Line2D at 0x7f5c4c8ef2b0>]"
      ]
     },
     "execution_count": 62,
     "metadata": {},
     "output_type": "execute_result"
    },
    {
     "data": {
      "image/png": "[encoded data removed]",
      "text/plain": [
       "<Figure size 432x288 with 1 Axes>"
      ]
     },
     "metadata": {
      "needs_background": "light"
     },
     "output_type": "display_data"
    }
   ],
   "source": [
    "x = torch.linspace(0,10,10)[:,None]\n",
    "y = x**2\n",
    "\n",
    "print(x.shape)\n",
    "print(y.shape)\n",
    "\n",
    "plt.plot(x, y)"
   ]
  },
  {
   "cell_type": "code",
   "execution_count": 63,
   "id": "05ec0ed3",
   "metadata": {},
   "outputs": [],
   "source": [
    "import torch.nn as nn\n",
    "\n",
    "def LinearTanh(n_in, n_out):\n",
    "    # do not work with ModuleList here either.\n",
    "    block = nn.Sequential(\n",
    "      nn.Linear(n_in, n_out),\n",
    "      nn.Tanh()\n",
    "    )\n",
    "    return block\n",
    "\n",
    "class MLP(nn.Module):\n",
    "    \n",
    "    def __init__(self, dim_layers):\n",
    "        super(MLP, self).__init__()\n",
    "        layers = []\n",
    "        num_layers = len(dim_layers)\n",
    "        \n",
    "        blocks = []\n",
    "        for l in range(num_layers-2):\n",
    "            blocks.append(LinearTanh(dim_layers[l], dim_layers[l+1]))\n",
    "            \n",
    "        blocks.append(nn.Linear(dim_layers[-2], dim_layers[-1]))\n",
    "        blocks.append(nn.Sigmoid())\n",
    "        self.network = nn.Sequential(*blocks)\n",
    "    \n",
    "    def forward(self, x):\n",
    "        return 100*self.network(x)"
   ]
  },
  {
   "cell_type": "code",
   "execution_count": 65,
   "id": "4c546931",
   "metadata": {},
   "outputs": [
    {
     "name": "stdout",
     "output_type": "stream",
     "text": [
      "MLP(\n",
      "  (network): Sequential(\n",
      "    (0): Sequential(\n",
      "      (0): Linear(in_features=1, out_features=64, bias=True)\n",
      "      (1): Tanh()\n",
      "    )\n",
      "    (1): Linear(in_features=64, out_features=1, bias=True)\n",
      "    (2): Sigmoid()\n",
      "  )\n",
      ")\n",
      "tensor([46.0174], device='cuda:0', grad_fn=<SelectBackward>) tensor([0.], device='cuda:0', grad_fn=<PowBackward0>)\n",
      "17129.6953125\n",
      "tensor([0.9881], device='cuda:0', grad_fn=<SelectBackward>) tensor([0.], device='cuda:0', grad_fn=<PowBackward0>)\n",
      "437.9843444824219\n",
      "tensor([0.3856], device='cuda:0', grad_fn=<SelectBackward>) tensor([0.], device='cuda:0', grad_fn=<PowBackward0>)\n",
      "344.2767333984375\n",
      "tensor([0.1782], device='cuda:0', grad_fn=<SelectBackward>) tensor([0.], device='cuda:0', grad_fn=<PowBackward0>)\n",
      "296.5328369140625\n",
      "tensor([0.1084], device='cuda:0', grad_fn=<SelectBackward>) tensor([0.], device='cuda:0', grad_fn=<PowBackward0>)\n",
      "254.9739227294922\n",
      "tensor([0.0771], device='cuda:0', grad_fn=<SelectBackward>) tensor([0.], device='cuda:0', grad_fn=<PowBackward0>)\n",
      "215.3094482421875\n",
      "tensor([0.0455], device='cuda:0', grad_fn=<SelectBackward>) tensor([0.], device='cuda:0', grad_fn=<PowBackward0>)\n",
      "183.30386352539062\n",
      "tensor([0.0306], device='cuda:0', grad_fn=<SelectBackward>) tensor([0.], device='cuda:0', grad_fn=<PowBackward0>)\n",
      "160.39273071289062\n",
      "tensor([0.0202], device='cuda:0', grad_fn=<SelectBackward>) tensor([0.], device='cuda:0', grad_fn=<PowBackward0>)\n",
      "141.92657470703125\n",
      "tensor([0.0146], device='cuda:0', grad_fn=<SelectBackward>) tensor([0.], device='cuda:0', grad_fn=<PowBackward0>)\n",
      "125.73890686035156\n",
      "tensor([0.0146], device='cuda:0', grad_fn=<SelectBackward>) tensor([0.], device='cuda:0', grad_fn=<PowBackward0>)\n",
      "110.54647064208984\n",
      "tensor([0.0157], device='cuda:0', grad_fn=<SelectBackward>) tensor([0.], device='cuda:0', grad_fn=<PowBackward0>)\n",
      "97.2591323852539\n",
      "tensor([0.0163], device='cuda:0', grad_fn=<SelectBackward>) tensor([0.], device='cuda:0', grad_fn=<PowBackward0>)\n",
      "87.2952651977539\n",
      "tensor([0.0140], device='cuda:0', grad_fn=<SelectBackward>) tensor([0.], device='cuda:0', grad_fn=<PowBackward0>)\n",
      "80.2354965209961\n",
      "tensor([0.0113], device='cuda:0', grad_fn=<SelectBackward>) tensor([0.], device='cuda:0', grad_fn=<PowBackward0>)\n",
      "74.61956787109375\n",
      "tensor([0.0096], device='cuda:0', grad_fn=<SelectBackward>) tensor([0.], device='cuda:0', grad_fn=<PowBackward0>)\n",
      "69.39747619628906\n",
      "tensor([0.0077], device='cuda:0', grad_fn=<SelectBackward>) tensor([0.], device='cuda:0', grad_fn=<PowBackward0>)\n",
      "64.42341613769531\n",
      "tensor([0.0058], device='cuda:0', grad_fn=<SelectBackward>) tensor([0.], device='cuda:0', grad_fn=<PowBackward0>)\n",
      "59.86646270751953\n",
      "tensor([0.0044], device='cuda:0', grad_fn=<SelectBackward>) tensor([0.], device='cuda:0', grad_fn=<PowBackward0>)\n",
      "55.28031921386719\n",
      "tensor([0.0035], device='cuda:0', grad_fn=<SelectBackward>) tensor([0.], device='cuda:0', grad_fn=<PowBackward0>)\n",
      "51.117515563964844\n",
      "tensor([0.0028], device='cuda:0', grad_fn=<SelectBackward>) tensor([0.], device='cuda:0', grad_fn=<PowBackward0>)\n",
      "47.22779846191406\n",
      "tensor([0.0022], device='cuda:0', grad_fn=<SelectBackward>) tensor([0.], device='cuda:0', grad_fn=<PowBackward0>)\n",
      "43.50165557861328\n",
      "tensor([0.0016], device='cuda:0', grad_fn=<SelectBackward>) tensor([0.], device='cuda:0', grad_fn=<PowBackward0>)\n",
      "39.994041442871094\n"
     ]
    },
    {
     "ename": "KeyboardInterrupt",
     "evalue": "",
     "output_type": "error",
     "traceback": [
      "\u001b[0;31m---------------------------------------------------------------------------\u001b[0m",
      "\u001b[0;31mKeyboardInterrupt\u001b[0m                         Traceback (most recent call last)",
      "\u001b[0;32m/tmp/ipykernel_4174993/3864043460.py\u001b[0m in \u001b[0;36m<module>\u001b[0;34m\u001b[0m\n\u001b[1;32m     18\u001b[0m     \u001b[0mloss\u001b[0m \u001b[0;34m=\u001b[0m \u001b[0mloss1\u001b[0m \u001b[0;34m+\u001b[0m \u001b[0mloss2\u001b[0m\u001b[0;34m\u001b[0m\u001b[0;34m\u001b[0m\u001b[0m\n\u001b[1;32m     19\u001b[0m \u001b[0;34m\u001b[0m\u001b[0m\n\u001b[0;32m---> 20\u001b[0;31m     \u001b[0mloss\u001b[0m\u001b[0;34m.\u001b[0m\u001b[0mbackward\u001b[0m\u001b[0;34m(\u001b[0m\u001b[0;34m)\u001b[0m\u001b[0;34m\u001b[0m\u001b[0;34m\u001b[0m\u001b[0m\n\u001b[0m\u001b[1;32m     21\u001b[0m     \u001b[0moptimiser\u001b[0m\u001b[0;34m.\u001b[0m\u001b[0mstep\u001b[0m\u001b[0;34m(\u001b[0m\u001b[0;34m)\u001b[0m\u001b[0;34m\u001b[0m\u001b[0;34m\u001b[0m\u001b[0m\n\u001b[1;32m     22\u001b[0m \u001b[0;34m\u001b[0m\u001b[0m\n",
      "\u001b[0;32m~/Documents/Code/TurboSuperResultion/venv/lib/python3.8/site-packages/torch/_tensor.py\u001b[0m in \u001b[0;36mbackward\u001b[0;34m(self, gradient, retain_graph, create_graph, inputs)\u001b[0m\n\u001b[1;32m    253\u001b[0m                 \u001b[0mcreate_graph\u001b[0m\u001b[0;34m=\u001b[0m\u001b[0mcreate_graph\u001b[0m\u001b[0;34m,\u001b[0m\u001b[0;34m\u001b[0m\u001b[0;34m\u001b[0m\u001b[0m\n\u001b[1;32m    254\u001b[0m                 inputs=inputs)\n\u001b[0;32m--> 255\u001b[0;31m         \u001b[0mtorch\u001b[0m\u001b[0;34m.\u001b[0m\u001b[0mautograd\u001b[0m\u001b[0;34m.\u001b[0m\u001b[0mbackward\u001b[0m\u001b[0;34m(\u001b[0m\u001b[0mself\u001b[0m\u001b[0;34m,\u001b[0m \u001b[0mgradient\u001b[0m\u001b[0;34m,\u001b[0m \u001b[0mretain_graph\u001b[0m\u001b[0;34m,\u001b[0m \u001b[0mcreate_graph\u001b[0m\u001b[0;34m,\u001b[0m \u001b[0minputs\u001b[0m\u001b[0;34m=\u001b[0m\u001b[0minputs\u001b[0m\u001b[0;34m)\u001b[0m\u001b[0;34m\u001b[0m\u001b[0;34m\u001b[0m\u001b[0m\n\u001b[0m\u001b[1;32m    256\u001b[0m \u001b[0;34m\u001b[0m\u001b[0m\n\u001b[1;32m    257\u001b[0m     \u001b[0;32mdef\u001b[0m \u001b[0mregister_hook\u001b[0m\u001b[0;34m(\u001b[0m\u001b[0mself\u001b[0m\u001b[0;34m,\u001b[0m \u001b[0mhook\u001b[0m\u001b[0;34m)\u001b[0m\u001b[0;34m:\u001b[0m\u001b[0;34m\u001b[0m\u001b[0;34m\u001b[0m\u001b[0m\n",
      "\u001b[0;32m~/Documents/Code/TurboSuperResultion/venv/lib/python3.8/site-packages/torch/autograd/__init__.py\u001b[0m in \u001b[0;36mbackward\u001b[0;34m(tensors, grad_tensors, retain_graph, create_graph, grad_variables, inputs)\u001b[0m\n\u001b[1;32m    145\u001b[0m         \u001b[0mretain_graph\u001b[0m \u001b[0;34m=\u001b[0m \u001b[0mcreate_graph\u001b[0m\u001b[0;34m\u001b[0m\u001b[0;34m\u001b[0m\u001b[0m\n\u001b[1;32m    146\u001b[0m \u001b[0;34m\u001b[0m\u001b[0m\n\u001b[0;32m--> 147\u001b[0;31m     Variable._execution_engine.run_backward(\n\u001b[0m\u001b[1;32m    148\u001b[0m         \u001b[0mtensors\u001b[0m\u001b[0;34m,\u001b[0m \u001b[0mgrad_tensors_\u001b[0m\u001b[0;34m,\u001b[0m \u001b[0mretain_graph\u001b[0m\u001b[0;34m,\u001b[0m \u001b[0mcreate_graph\u001b[0m\u001b[0;34m,\u001b[0m \u001b[0minputs\u001b[0m\u001b[0;34m,\u001b[0m\u001b[0;34m\u001b[0m\u001b[0;34m\u001b[0m\u001b[0m\n\u001b[1;32m    149\u001b[0m         allow_unreachable=True, accumulate_grad=True)  # allow_unreachable flag\n",
      "\u001b[0;31mKeyboardInterrupt\u001b[0m: "
     ]
    }
   ],
   "source": [
    "mlp = MLP([1]+[64]+[1])\n",
    "print(mlp)\n",
    "x = x.to('cuda:0')\n",
    "y = y.to('cuda:0')\n",
    "mlp.to('cuda:0')\n",
    "\n",
    "optimiser = torch.optim.Adam(mlp.parameters(), lr=1e-3)\n",
    "\n",
    "for i in range(int(10e5)):\n",
    "    optimiser.zero_grad()\n",
    "    \n",
    "    x.requires_grad_(True)\n",
    "    y_hat = mlp(x)\n",
    "    dy_x = torch.autograd.grad(y_hat, x, torch.ones_like(y_hat), create_graph=True)[0]\n",
    "    \n",
    "    loss1 = torch.norm(y_hat - x**2)**2\n",
    "    loss2 = torch.norm(dy_x - 2*x)**2\n",
    "    loss = loss1 + loss2\n",
    "    \n",
    "    loss.backward()\n",
    "    optimiser.step()\n",
    "    \n",
    "    if i % 1000 == 0:\n",
    "        print(y_hat[0], x[0]**2)\n",
    "        print(loss.item())"
   ]
  },
  {
   "cell_type": "code",
   "execution_count": 68,
   "id": "f94cfcaa",
   "metadata": {},
   "outputs": [
    {
     "data": {
      "text/plain": [
       "[<matplotlib.lines.Line2D at 0x7f5c4c5a5340>]"
      ]
     },
     "execution_count": 68,
     "metadata": {},
     "output_type": "execute_result"
    },
    {
     "data": {
      "image/png": "[encoded data removed]",
      "text/plain": [
       "<Figure size 432x288 with 1 Axes>"
      ]
     },
     "metadata": {
      "needs_background": "light"
     },
     "output_type": "display_data"
    }
   ],
   "source": [
    "plt.plot(x.detach().to('cpu'), mlp(x).detach().to('cpu'))\n",
    "plt.plot(x.detach().to('cpu'), (x**2).detach().to('cpu'))"
   ]
  },
  {
   "cell_type": "code",
   "execution_count": 70,
   "id": "d2e99b5a",
   "metadata": {},
   "outputs": [
    {
     "name": "stdout",
     "output_type": "stream",
     "text": [
      "torch.Size([10, 1])\n",
      "torch.Size([10, 1])\n"
     ]
    },
    {
     "data": {
      "text/plain": [
       "[<matplotlib.lines.Line2D at 0x7f57f1fd0ac0>]"
      ]
     },
     "execution_count": 70,
     "metadata": {},
     "output_type": "execute_result"
    },
    {
     "data": {
      "image/png": "[encoded data removed]",
      "text/plain": [
       "<Figure size 432x288 with 1 Axes>"
      ]
     },
     "metadata": {
      "needs_background": "light"
     },
     "output_type": "display_data"
    }
   ],
   "source": [
    "device = 'cuda:0'\n",
    "x = torch.linspace(0,10,10)[:,None].to(device)\n",
    "x.requires_grad_(True)\n",
    "y_hat = mlp(x)\n",
    "\n",
    "print(x.shape)\n",
    "print(y_hat.shape)\n",
    "\n",
    "dy_x = torch.autograd.grad(y_hat, x, torch.ones_like(y_hat), create_graph=True)[0]\n",
    "\n",
    "plt.plot(x.detach().cpu(), dy_x.detach().cpu())\n",
    "plt.plot(x.detach().cpu(), (2*x).detach().cpu())"
   ]
  },
  {
   "cell_type": "code",
   "execution_count": null,
   "id": "5d4dcee7",
   "metadata": {},
   "outputs": [],
   "source": []
  }
 ],
 "metadata": {
  "kernelspec": {
   "display_name": "Python 3 (ipykernel)",
   "language": "python",
   "name": "python3"
  },
  "language_info": {
   "codemirror_mode": {
    "name": "ipython",
    "version": 3
   },
   "file_extension": ".py",
   "mimetype": "text/x-python",
   "name": "python",
   "nbconvert_exporter": "python",
   "pygments_lexer": "ipython3",
   "version": "3.8.5"
  }
 },
 "nbformat": 4,
 "nbformat_minor": 5
}
