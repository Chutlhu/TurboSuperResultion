{
 "cells": [
  {
   "cell_type": "code",
   "execution_count": 3,
   "id": "5cab9a4b",
   "metadata": {},
   "outputs": [],
   "source": [
    "import numpy as np\n",
    "\n",
    "import torch\n",
    "import torch.nn as nn\n",
    "from turboflow.models.rff import RFFNet\n",
    "from turboflow.dataloaders import Turbo2D_simple, load_turbo2D_simple_numpy\n",
    "from torch.utils.data import Dataset, DataLoader\n",
    "\n",
    "import matplotlib.pyplot as plt\n",
    "\n",
    "from turboflow.utils import phy_utils as phy\n",
    "from turboflow.utils import dsp_utils as dsp\n",
    "from turboflow.utils import torch_utils as tch"
   ]
  },
  {
   "cell_type": "code",
   "execution_count": 9,
   "id": "511b35df",
   "metadata": {},
   "outputs": [
    {
     "name": "stdout",
     "output_type": "stream",
     "text": [
      "Y shape (64, 64, 2)\n",
      "Y min, max: -2.365612 2.941536\n",
      "after normalization, Y min, max: -0.8042097733972999 1.0\n",
      "Y shape (128, 128, 2)\n",
      "Y min, max: -2.371183 2.985797\n",
      "after normalization, Y min, max: -0.7941541236728418 1.0\n",
      "Y shape (256, 256, 2)\n",
      "Y min, max: -2.382122 2.999472\n",
      "after normalization, Y min, max: -0.7941804424245333 1.0\n"
     ]
    }
   ],
   "source": [
    "# ds=downsampling factor\n",
    "Xlr, Ulr = load_turbo2D_simple_numpy(ds=4) # low resolution (64x64)\n",
    "Xmr, Umr = load_turbo2D_simple_numpy(ds=2) # mid resolution (128x128)\n",
    "Xhr, Uhr = load_turbo2D_simple_numpy(ds=1) # high (max) resolution (256x256)\n",
    "\n",
    "L = int(Xlr.shape[0]**0.5)\n",
    "M = int(Xmr.shape[0]**0.5)\n",
    "H = int(Xhr.shape[0]**0.5)"
   ]
  },
  {
   "cell_type": "code",
   "execution_count": 5,
   "id": "8aef14ac",
   "metadata": {},
   "outputs": [],
   "source": [
    "from turbustat.statistics import PowerSpectrum"
   ]
  },
  {
   "cell_type": "code",
   "execution_count": 10,
   "id": "0a53be38",
   "metadata": {},
   "outputs": [
    {
     "ename": "ValueError",
     "evalue": "When data is given as a numpy array, a FITS header must be given using the `header` keyword argument.",
     "output_type": "error",
     "traceback": [
      "\u001b[0;31m---------------------------------------------------------------------------\u001b[0m",
      "\u001b[0;31mValueError\u001b[0m                                Traceback (most recent call last)",
      "\u001b[0;32m/tmp/ipykernel_394846/1151506174.py\u001b[0m in \u001b[0;36m<module>\u001b[0;34m\u001b[0m\n\u001b[0;32m----> 1\u001b[0;31m \u001b[0mpspec\u001b[0m \u001b[0;34m=\u001b[0m \u001b[0mPowerSpectrum\u001b[0m\u001b[0;34m(\u001b[0m\u001b[0mUlr\u001b[0m\u001b[0;34m.\u001b[0m\u001b[0mreshape\u001b[0m\u001b[0;34m(\u001b[0m\u001b[0mL\u001b[0m\u001b[0;34m,\u001b[0m\u001b[0mL\u001b[0m\u001b[0;34m,\u001b[0m\u001b[0;36m2\u001b[0m\u001b[0;34m)\u001b[0m\u001b[0;34m)\u001b[0m\u001b[0;34m\u001b[0m\u001b[0;34m\u001b[0m\u001b[0m\n\u001b[0m",
      "\u001b[0;32m~/Documents/Code/TurboSuperResultion/venv/lib/python3.8/site-packages/turbustat/statistics/pspec_bispec/pspec.py\u001b[0m in \u001b[0;36m__init__\u001b[0;34m(self, img, header, weights, distance, beam)\u001b[0m\n\u001b[1;32m     41\u001b[0m         \u001b[0;31m# Set data and header\u001b[0m\u001b[0;34m\u001b[0m\u001b[0;34m\u001b[0m\u001b[0;34m\u001b[0m\u001b[0m\n\u001b[1;32m     42\u001b[0m         \u001b[0;31m# Need to make a copy if there are NaNs\u001b[0m\u001b[0;34m\u001b[0m\u001b[0;34m\u001b[0m\u001b[0;34m\u001b[0m\u001b[0m\n\u001b[0;32m---> 43\u001b[0;31m         \u001b[0mself\u001b[0m\u001b[0;34m.\u001b[0m\u001b[0minput_data_header\u001b[0m\u001b[0;34m(\u001b[0m\u001b[0mimg\u001b[0m\u001b[0;34m,\u001b[0m \u001b[0mheader\u001b[0m\u001b[0;34m,\u001b[0m \u001b[0mneed_copy\u001b[0m\u001b[0;34m=\u001b[0m\u001b[0;32mFalse\u001b[0m\u001b[0;34m)\u001b[0m\u001b[0;34m\u001b[0m\u001b[0;34m\u001b[0m\u001b[0m\n\u001b[0m\u001b[1;32m     44\u001b[0m \u001b[0;34m\u001b[0m\u001b[0m\n\u001b[1;32m     45\u001b[0m         \u001b[0;32mif\u001b[0m \u001b[0mnp\u001b[0m\u001b[0;34m.\u001b[0m\u001b[0misnan\u001b[0m\u001b[0;34m(\u001b[0m\u001b[0mself\u001b[0m\u001b[0;34m.\u001b[0m\u001b[0mdata\u001b[0m\u001b[0;34m)\u001b[0m\u001b[0;34m.\u001b[0m\u001b[0many\u001b[0m\u001b[0;34m(\u001b[0m\u001b[0;34m)\u001b[0m\u001b[0;34m:\u001b[0m\u001b[0;34m\u001b[0m\u001b[0;34m\u001b[0m\u001b[0m\n",
      "\u001b[0;32m~/Documents/Code/TurboSuperResultion/venv/lib/python3.8/site-packages/turbustat/statistics/base_statistic.py\u001b[0m in \u001b[0;36minput_data_header\u001b[0;34m(self, data, header, need_copy)\u001b[0m\n\u001b[1;32m    119\u001b[0m                 \u001b[0;32mand\u001b[0m \u001b[0;32mnot\u001b[0m \u001b[0misinstance\u001b[0m\u001b[0;34m(\u001b[0m\u001b[0mdata\u001b[0m\u001b[0;34m,\u001b[0m \u001b[0mu\u001b[0m\u001b[0;34m.\u001b[0m\u001b[0mQuantity\u001b[0m\u001b[0;34m)\u001b[0m\u001b[0;34m\u001b[0m\u001b[0;34m\u001b[0m\u001b[0m\n\u001b[1;32m    120\u001b[0m             \u001b[0;32mif\u001b[0m \u001b[0mnp_not_quant_check\u001b[0m\u001b[0;34m:\u001b[0m\u001b[0;34m\u001b[0m\u001b[0;34m\u001b[0m\u001b[0m\n\u001b[0;32m--> 121\u001b[0;31m                 raise ValueError(\"When data is given as a numpy array, a FITS \"\n\u001b[0m\u001b[1;32m    122\u001b[0m                                  \u001b[0;34m\"header must be given using the `header` \"\u001b[0m\u001b[0;34m\u001b[0m\u001b[0;34m\u001b[0m\u001b[0m\n\u001b[1;32m    123\u001b[0m                                  \"keyword argument.\")\n",
      "\u001b[0;31mValueError\u001b[0m: When data is given as a numpy array, a FITS header must be given using the `header` keyword argument."
     ]
    }
   ],
   "source": [
    "pspec = PowerSpectrum(Ulr.reshape(L,L,2))"
   ]
  },
  {
   "cell_type": "code",
   "execution_count": null,
   "id": "6e2f8746",
   "metadata": {},
   "outputs": [],
   "source": []
  }
 ],
 "metadata": {
  "kernelspec": {
   "display_name": "Python 3 (ipykernel)",
   "language": "python",
   "name": "python3"
  },
  "language_info": {
   "codemirror_mode": {
    "name": "ipython",
    "version": 3
   },
   "file_extension": ".py",
   "mimetype": "text/x-python",
   "name": "python",
   "nbconvert_exporter": "python",
   "pygments_lexer": "ipython3",
   "version": "3.8.5"
  }
 },
 "nbformat": 4,
 "nbformat_minor": 5
}
