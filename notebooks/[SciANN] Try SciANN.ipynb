{
 "cells": [
  {
   "cell_type": "code",
   "execution_count": 1,
   "id": "6a0a9bf8",
   "metadata": {},
   "outputs": [],
   "source": [
    "%load_ext autoreload\n",
    "%autoreload 2"
   ]
  },
  {
   "cell_type": "code",
   "execution_count": 2,
   "id": "47f857b1",
   "metadata": {},
   "outputs": [],
   "source": [
    "import os\n",
    "# comment this line if you want to run on GPU. \n",
    "os.environ[\"CUDA_VISIBLE_DEVICES\"] = \"0\" # -> exec on CPU"
   ]
  },
  {
   "cell_type": "code",
   "execution_count": 3,
   "id": "ef0bda0e",
   "metadata": {},
   "outputs": [
    {
     "name": "stderr",
     "output_type": "stream",
     "text": [
      "2022-01-05 12:32:17.727962: W tensorflow/stream_executor/platform/default/dso_loader.cc:64] Could not load dynamic library 'libcudart.so.11.0'; dlerror: libcudart.so.11.0: cannot open shared object file: No such file or directory\n",
      "2022-01-05 12:32:17.727989: I tensorflow/stream_executor/cuda/cudart_stub.cc:29] Ignore above cudart dlerror if you do not have a GPU set up on your machine.\n"
     ]
    },
    {
     "name": "stdout",
     "output_type": "stream",
     "text": [
      "---------------------- SCIANN 0.6.5.0 ---------------------- \n",
      "For details, check out our review paper and the documentation at: \n",
      " +  \"https://www.sciencedirect.com/science/article/pii/S0045782520307374\", \n",
      " +  \"https://arxiv.org/abs/2005.08803\", \n",
      " +  \"https://www.sciann.com\". \n",
      "\n",
      " Need support or would like to contribute, please join sciann`s slack group: \n",
      " +  \"https://join.slack.com/t/sciann/shared_invite/zt-ne1f5jlx-k_dY8RGo3ZreDXwz0f~CeA\" \n",
      " \n",
      "TensorFlow Version: 2.5.2 \n",
      "Python Version: 3.8.5 (default, Jul 28 2020, 12:59:40) \n",
      "[GCC 9.3.0] \n",
      "\n"
     ]
    }
   ],
   "source": [
    "import numpy as np\n",
    "import matplotlib.pyplot as plt\n",
    "import tensorflow as tf\n",
    "import sciann as sn\n",
    "from sciann.utils import sin, cos, mul"
   ]
  },
  {
   "cell_type": "code",
   "execution_count": 8,
   "id": "1034fc11",
   "metadata": {},
   "outputs": [
    {
     "name": "stdout",
     "output_type": "stream",
     "text": [
      "(256, 1)\n",
      "(4096, 1)\n"
     ]
    }
   ],
   "source": [
    "from pathlib import Path\n",
    "from turboflow.datasets.turb2D import Turb2D\n",
    "\n",
    "time_idx = 256\n",
    "\n",
    "def prepare_data(ds, num_data=64*64, random=True):\n",
    "\n",
    "    data_dir = Path('/','home','dicarlo_d','Documents','Datasets','Turb2D.hdf5')\n",
    "    tb = Turb2D(data_dir)\n",
    "    tb.load_data(time_idx)\n",
    "    \n",
    "    xy = tb.xy # R x R x 2\n",
    "    uv = tb.uv # R x R x 2\n",
    "        \n",
    "    uv = uv/np.max(np.abs(uv))\n",
    "    assert np.min(uv) >= -1\n",
    "    assert np.max(uv) <=  1\n",
    "    \n",
    "    XX = xy[::ds, ::ds, 0] # R x R\n",
    "    YY = xy[::ds, ::ds, 1] # R x R\n",
    "    UU = uv[::ds, ::ds, 0] # R x R\n",
    "    VV = uv[::ds, ::ds, 1] # R x R\n",
    "        \n",
    "    R = XX.shape[0]\n",
    "    N = R*R\n",
    "\n",
    "    # Pick random data.\n",
    "    if random:\n",
    "        idx = np.random.choice(N, num_data, replace=False)\n",
    "    else:\n",
    "        idx = np.arange(0, N)\n",
    "    \n",
    "    x = XX.flatten()[idx,None] # RR x 1\n",
    "    y = YY.flatten()[idx,None] # RR x 1\n",
    "    \n",
    "    u = UU.flatten()[idx,None] # RR x 1\n",
    "    v = VV.flatten()[idx,None] # RR x 1\n",
    "    \n",
    "    return (x, y, u, v)\n",
    "\n",
    "x_train, y_train, u_train, v_train = prepare_data(16, random=False)\n",
    "print(x_train.shape)\n",
    "x_test, y_test, u_test, v_test = prepare_data(4, random=False)\n",
    "print(x_test.shape)"
   ]
  },
  {
   "cell_type": "code",
   "execution_count": 12,
   "id": "c321b184",
   "metadata": {
    "scrolled": false
   },
   "outputs": [],
   "source": [
    "x = sn.Variable('x', dtype='float64')\n",
    "y = sn.Variable('y', dtype='float64')\n",
    "\n",
    "nrff = 256\n",
    "sigma = 10\n",
    "# B = tf.Variable(tf.random.normal([1, nrff], dtype=tf.float64) * sigma, dtype=tf.float64, trainable=False)\n",
    "B = np.random.normal(0,sigma,[1,nrff])\n",
    "\n",
    "u = sn.Field('v', dtype='float64')\n",
    "v = sn.Field('u', dtype='float64')\n",
    "\n",
    "# u, v = sn.Functional([u, v], [sin(mul(x,B) + mul(y,B)), cos(mul(x,B) + mul(y,B))], 3*[256], 'tanh')\n",
    "u, v = sn.Functional([u, v], [x, y], 3*[64], 'tanh')\n",
    "d1 = sn.Data(u)\n",
    "d2 = sn.Data(v)\n",
    "\n",
    "u_x = sn.diff(u, x)\n",
    "v_y = sn.diff(v, y)\n",
    "c1 = sn.PDE(u_x + v_y)"
   ]
  },
  {
   "cell_type": "code",
   "execution_count": 13,
   "id": "a8d5f45d",
   "metadata": {},
   "outputs": [
    {
     "name": "stdout",
     "output_type": "stream",
     "text": [
      "Model: \"model_2\"\n",
      "__________________________________________________________________________________________________\n",
      "Layer (type)                    Output Shape         Param #     Connected to                     \n",
      "==================================================================================================\n",
      "x (InputLayer)                  [(None, 1)]          0                                            \n",
      "__________________________________________________________________________________________________\n",
      "y (InputLayer)                  [(None, 1)]          0                                            \n",
      "__________________________________________________________________________________________________\n",
      "concat_3 (Concatenate)          (None, 2)            0           x[0][0]                          \n",
      "                                                                 y[0][0]                          \n",
      "__________________________________________________________________________________________________\n",
      "D64b (Dense)                    (None, 64)           192         concat_3[0][0]                   \n",
      "__________________________________________________________________________________________________\n",
      "sci_activation_14 (SciActivatio (None, 64)           0           D64b[0][0]                       \n",
      "__________________________________________________________________________________________________\n",
      "D64b_2 (Dense)                  (None, 64)           4160        sci_activation_14[0][0]          \n",
      "__________________________________________________________________________________________________\n",
      "sci_activation_15 (SciActivatio (None, 64)           0           D64b_2[0][0]                     \n",
      "__________________________________________________________________________________________________\n",
      "D64b_3 (Dense)                  (None, 64)           4160        sci_activation_15[0][0]          \n",
      "__________________________________________________________________________________________________\n",
      "sci_activation_16 (SciActivatio (None, 64)           0           D64b_3[0][0]                     \n",
      "__________________________________________________________________________________________________\n",
      "v (Field)                       (None, 1)            65          sci_activation_16[0][0]          \n",
      "__________________________________________________________________________________________________\n",
      "u (Field)                       (None, 1)            65          sci_activation_16[0][0]          \n",
      "__________________________________________________________________________________________________\n",
      "Grad__5 (Lambda)                (None, 1)            0           v[0][0]                          \n",
      "__________________________________________________________________________________________________\n",
      "Grad__6 (Lambda)                (None, 1)            0           u[0][0]                          \n",
      "__________________________________________________________________________________________________\n",
      "add_3 (Lambda)                  (None, 1)            0           Grad__5[0][0]                    \n",
      "                                                                 Grad__6[0][0]                    \n",
      "==================================================================================================\n",
      "Total params: 8,642\n",
      "Trainable params: 8,642\n",
      "Non-trainable params: 0\n",
      "__________________________________________________________________________________________________\n"
     ]
    }
   ],
   "source": [
    "model = sn.SciModel(\n",
    "    inputs = [x, y],\n",
    "    targets = [d1, d2, c1],\n",
    "    loss_func= \"mse\",\n",
    "    optimizer= \"adam\",\n",
    "    plot_to_file='model.png',\n",
    ")\n",
    "model.summary()"
   ]
  },
  {
   "cell_type": "code",
   "execution_count": null,
   "id": "1aa03c71",
   "metadata": {
    "scrolled": false
   },
   "outputs": [
    {
     "name": "stdout",
     "output_type": "stream",
     "text": [
      "\n",
      "Total samples: 256 \n",
      "Batch size: 256 \n",
      "Total batches: 1 \n",
      "\n"
     ]
    }
   ],
   "source": [
    "history = model.train(\n",
    "    x_true=[x_train, y_train],\n",
    "    y_true=[u_train, v_train, 'zeros'],\n",
    "    batch_size=1024,\n",
    "    learning_rate=0.002,\n",
    "    epochs=5000,\n",
    "    verbose=0)"
   ]
  },
  {
   "cell_type": "code",
   "execution_count": null,
   "id": "a8c6f330",
   "metadata": {},
   "outputs": [],
   "source": [
    "plt.semilogy(history.history['loss'])\n",
    "plt.xlabel('epochs')\n",
    "plt.ylabel('loss')\n",
    "plt.show()"
   ]
  },
  {
   "cell_type": "code",
   "execution_count": null,
   "id": "75f4de5a",
   "metadata": {},
   "outputs": [],
   "source": [
    "print(history)"
   ]
  },
  {
   "cell_type": "code",
   "execution_count": null,
   "id": "a2c43fa2",
   "metadata": {},
   "outputs": [],
   "source": [
    "pred = model.predict([x_test, y_test])"
   ]
  },
  {
   "cell_type": "code",
   "execution_count": null,
   "id": "a298a22e",
   "metadata": {},
   "outputs": [],
   "source": [
    "u_pred = pred[0]\n",
    "plt.imshow(u_pred.reshape(256,256))\n"
   ]
  },
  {
   "cell_type": "code",
   "execution_count": null,
   "id": "df4ac966",
   "metadata": {},
   "outputs": [],
   "source": []
  }
 ],
 "metadata": {
  "kernelspec": {
   "display_name": "Python 3 (ipykernel)",
   "language": "python",
   "name": "python3"
  },
  "language_info": {
   "codemirror_mode": {
    "name": "ipython",
    "version": 3
   },
   "file_extension": ".py",
   "mimetype": "text/x-python",
   "name": "python",
   "nbconvert_exporter": "python",
   "pygments_lexer": "ipython3",
   "version": "3.8.5"
  }
 },
 "nbformat": 4,
 "nbformat_minor": 5
}
