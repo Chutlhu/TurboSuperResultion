{
 "cells": [
  {
   "cell_type": "code",
   "execution_count": null,
   "id": "33dd1139",
   "metadata": {},
   "outputs": [],
   "source": [
    "import torch\n",
    "import torch.nn as nn"
   ]
  },
  {
   "cell_type": "code",
   "execution_count": null,
   "id": "1950c99f",
   "metadata": {},
   "outputs": [],
   "source": [
    "class Network(nn.Module):\n",
    "    def __init__(self):\n",
    "        super().__init__()\n",
    "        self.fc1 = nn.Linear(2, 10)\n",
    "        self.fc2 = nn.Linear(10, 10)\n",
    "        self.fc3 = nn.Linear(10, 1)\n",
    "\n",
    "    def forward(self,x):\n",
    "        x = torch.relu(self.fc1(x))\n",
    "        x = torch.tanh(self.fc2(x))\n",
    "        x = torch.tanh(self.fc3(x))\n",
    "        return x\n",
    "#         return torch.norm(x,dim=-1,keepdim=True)"
   ]
  },
  {
   "cell_type": "code",
   "execution_count": null,
   "id": "897dd05d",
   "metadata": {},
   "outputs": [],
   "source": [
    "model = Network()"
   ]
  },
  {
   "cell_type": "code",
   "execution_count": null,
   "id": "7692cf07",
   "metadata": {},
   "outputs": [],
   "source": [
    "x = torch.randn([10,2], requires_grad=True)\n",
    "\n",
    "y = model(x)\n",
    "print(y.shape)"
   ]
  },
  {
   "cell_type": "code",
   "execution_count": null,
   "id": "f55849dc",
   "metadata": {
    "scrolled": false
   },
   "outputs": [],
   "source": [
    "def make_second_order_deriv(y, x):\n",
    "        \n",
    "    # its hardcoded for 2 variables\n",
    "    assert x.shape[1] == 2\n",
    "    \n",
    "    # compute first order deriv\n",
    "    dy_xy = torch.autograd.grad(y, x, torch.ones_like(y), create_graph=True)[0]\n",
    "    dy_x, dy_y = dy_xy.split(1,-1)\n",
    "    # compute secord order deriv\n",
    "    dy_x_xy = torch.autograd.grad(dy_x, x, torch.ones_like(dy_x), create_graph=True)[0]\n",
    "    dy_xx, dy_xy = dy_x_xy.split(1,-1)\n",
    "    dy_y_xy = torch.autograd.grad(dy_y, x, torch.ones_like(dy_y), create_graph=True)[0]\n",
    "    dy_yx, dy_yy = dy_y_xy.split(1,-1)\n",
    "\n",
    "    # gather results in a matrix Bx2x2 in the form of Div-free kernel\n",
    "    K1 = torch.cat([-dy_yy, dy_xy], dim=-1)[...,None]\n",
    "    K2 = torch.cat([dy_yx, -dy_xx], dim=-1)[...,None]\n",
    "    K = torch.cat([K1, K2], dim=-1)\n",
    "    return K\n",
    "\n",
    "uv = make_second_order_deriv(y, x)\n",
    "coeff = torch.randn(2,1)\n",
    "pred = torch.einsum('bxy,yw->bx', uv, coeff)\n",
    "\n",
    "print(uv.shape)\n",
    "print(coeff.shape)\n",
    "print(pred.shape)"
   ]
  },
  {
   "cell_type": "code",
   "execution_count": null,
   "id": "18a0001c",
   "metadata": {},
   "outputs": [],
   "source": [
    "# check if it is divergence free\n",
    "u, v = torch.split(pred,1,-1)\n",
    "du_xy = torch.autograd.grad(u, x, torch.ones_like(u), create_graph=True)[0]       \n",
    "dv_xy = torch.autograd.grad(v, x, torch.ones_like(v), create_graph=True)[0]\n",
    "# last two columns are x and y\n",
    "div_u_xy = du_xy[...,0] + dv_xy[...,1]\n",
    "print(div_u_xy)"
   ]
  },
  {
   "cell_type": "code",
   "execution_count": 36,
   "id": "ec8bdd36",
   "metadata": {},
   "outputs": [
    {
     "name": "stdout",
     "output_type": "stream",
     "text": [
      "torch.Size([10, 1])\n"
     ]
    }
   ],
   "source": []
  },
  {
   "cell_type": "code",
   "execution_count": null,
   "id": "92469076",
   "metadata": {},
   "outputs": [],
   "source": [
    "class DivFreeNet(nn.Module):\n",
    "    def __init__(self):\n",
    "        super(DivFreeNet, self).__init__()\n",
    "\n",
    "        \n",
    "    def divfree_2D_output(self, y, c, x):\n",
    "        \n",
    "        print(y.shape)\n",
    "        print(c.shape)\n",
    "        print(x.shape)\n",
    "        \n",
    "        assert y.shape[0] == x.shape[0] == c.shape[0] # check batch size\n",
    "        assert y.shape[1] == 1 # one variable\n",
    "        assert c.shape[1] == 2 # two coefficients for the linear combination\n",
    "        assert x.shape[1] == 2 # x,y varialbe\n",
    "        \n",
    "        u = y\n",
    "        \n",
    "        # compute first order deriv\n",
    "        du_xy = torch.autograd.grad(u, x, torch.ones_like(u), create_graph=True)[0]\n",
    "        print(du_xy.shape)\n",
    "        du_x, du_y = du_xy.split(1,-1)\n",
    "        # compute secord order deriv\n",
    "        du_x_xy = torch.autograd.grad(du_x, x, torch.ones_like(du_x), create_graph=True)[0]\n",
    "        du_xx, du_xy = du_x_xy.split(1,-1)\n",
    "        du_y_xy = torch.autograd.grad(du_y, x, torch.ones_like(du_y), create_graph=True)[0]\n",
    "        du_yx, du_yy = du_y_xy.split(1,-1)\n",
    "\n",
    "        # gather results in a matrix Bx2x2 in the form of Div-free kernel\n",
    "        K1 = torch.cat([-du_yy, du_xy], dim=-1)[...,None]\n",
    "        K2 = torch.cat([du_yx, -du_xx], dim=-1)[...,None]\n",
    "        K = torch.cat([K1, K2], dim=-1)\n",
    "        \n",
    "        pred = torch.einsum('bxy,bw->bx', K, c)\n",
    "        \n",
    "        return pred\n",
    "\n",
    "    def forward(self, pred, coeff, inputs):\n",
    "        x = self.divfree_2D_output(pred, coeff, inputs)\n",
    "        return x"
   ]
  }
 ],
 "metadata": {
  "kernelspec": {
   "display_name": "Python 3",
   "language": "python",
   "name": "python3"
  },
  "language_info": {
   "codemirror_mode": {
    "name": "ipython",
    "version": 3
   },
   "file_extension": ".py",
   "mimetype": "text/x-python",
   "name": "python",
   "nbconvert_exporter": "python",
   "pygments_lexer": "ipython3",
   "version": "3.8.5"
  }
 },
 "nbformat": 4,
 "nbformat_minor": 5
}
