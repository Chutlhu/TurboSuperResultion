{
 "cells": [
  {
   "cell_type": "code",
   "execution_count": 1,
   "id": "603bd439",
   "metadata": {},
   "outputs": [],
   "source": [
    "%reload_ext autoreload\n",
    "%autoreload 2"
   ]
  },
  {
   "cell_type": "code",
   "execution_count": 2,
   "id": "5b048b33",
   "metadata": {},
   "outputs": [],
   "source": [
    "import gc\n",
    "\n",
    "from argparse import Namespace\n",
    "from mimetypes import suffix_map\n",
    "from pathlib import Path\n",
    "import numpy as np\n",
    "import yaml\n",
    "import torch\n",
    "\n",
    "from pytorch_lightning.trainer import Trainer, seed_everything\n",
    "from pytorch_lightning.callbacks import EarlyStopping, ModelCheckpoint\n",
    "\n",
    "from turboflow.dataloaders import TurboFlowDataModule\n",
    "\n",
    "import matplotlib.pyplot as plt"
   ]
  },
  {
   "cell_type": "code",
   "execution_count": 3,
   "id": "79064dab",
   "metadata": {},
   "outputs": [],
   "source": [
    "base_dir = Path('/','home','dicarlo_d','Documents','Code','TurboSuperResultion','recipes','turb_mfn_spec')\n",
    "data_dir = Path('/','home','dicarlo_d','Documents','Datasets','Turb2D.hdf5')\n",
    "fig_path = base_dir / Path('figures')\n",
    "res_path = base_dir / Path('results')"
   ]
  },
  {
   "cell_type": "code",
   "execution_count": 4,
   "id": "2c9d8748",
   "metadata": {},
   "outputs": [
    {
     "name": "stderr",
     "output_type": "stream",
     "text": [
      "Global seed set to 666\n"
     ]
    }
   ],
   "source": [
    "seed = 666\n",
    "seed_everything(seed, workers=True)\n",
    "\n",
    "# train\n",
    "batch_size = {\n",
    "    'train' : 266\n",
    ",   'val'   : 266\n",
    ",   'test'  : 512\n",
    "}\n",
    "dx = {\n",
    "    'train' : 8\n",
    ",   'val'   : 8\n",
    ",   'test'  : 1\n",
    "}\n",
    "dt = {\n",
    "    'train' : 8\n",
    ",   'val'   : 8\n",
    ",   'test'  : 8\n",
    "}\n",
    "nt_train = 8\n",
    "\n",
    "run = 'moMFN'\n",
    "\n",
    "model = {\n",
    "    'name' : run\n",
    ",   'cnn' : False\n",
    ",   'do_divfree' : False\n",
    "}\n",
    "\n",
    "exp_suffix = f'{nt_train}x32x32'\n",
    "\n",
    "n_epoch = 5000\n",
    "hparams = {\n",
    "    'name': model['name'],\n",
    "    'do_time' : True,\n",
    "    'do_cnn' : model['cnn'],\n",
    "    'mlp_layers_num': 4,\n",
    "    'mlp_layers_dim': 128, \n",
    "    'mlp_last_actfn': 'tanh',\n",
    "    'rff_num_space': 128,\n",
    "    'rff_scale_space': 10,\n",
    "    'rff_num_time': 64, \n",
    "    'rff_scale_time': 1,\n",
    "    'do_divfree': model['do_divfree'],\n",
    "    'lam_sdiv': 0, \n",
    "    'lam_sfn':  0,    \n",
    "    'lam_spec': 0,    \n",
    "    'lam_grads':0,    \n",
    "    'lam_curl' :0,    \n",
    "    'lam_pde' : 0,\n",
    "    'lam_weight': 1e-5,  # L2 reg on the NN's weights\n",
    "    'sfn_min_x': 1./256., # maximal resolution\n",
    "    'sfn_num_centers': 32,\n",
    "    'sfn_num_increments':8,\n",
    "    'sfn_patch_dim': 16 # (P/2)\n",
    "}"
   ]
  },
  {
   "cell_type": "code",
   "execution_count": 5,
   "id": "1944ee10",
   "metadata": {
    "scrolled": false
   },
   "outputs": [
    {
     "name": "stderr",
     "output_type": "stream",
     "text": [
      "2022-06-07 13:04:10.278777: I tensorflow/stream_executor/platform/default/dso_loader.cc:53] Successfully opened dynamic library libcudart.so.11.0\n"
     ]
    },
    {
     "name": "stdout",
     "output_type": "stream",
     "text": [
      "plDivFreeRFFNet(\n",
      "  (rff_time): Fourier()\n",
      "  (rff_space): Fourier()\n",
      "  (mfn): moMFN(\n",
      "    (filters): ModuleList(\n",
      "      (0): GaborFilter(\n",
      "        (linear): Linear(in_features=3, out_features=128, bias=True)\n",
      "      )\n",
      "      (1): GaborFilter(\n",
      "        (linear): Linear(in_features=3, out_features=128, bias=True)\n",
      "      )\n",
      "      (2): GaborFilter(\n",
      "        (linear): Linear(in_features=3, out_features=128, bias=True)\n",
      "      )\n",
      "      (3): GaborFilter(\n",
      "        (linear): Linear(in_features=3, out_features=128, bias=True)\n",
      "      )\n",
      "    )\n",
      "    (linear): ModuleList(\n",
      "      (0): Linear(in_features=128, out_features=128, bias=True)\n",
      "      (1): Linear(in_features=128, out_features=128, bias=True)\n",
      "      (2): Linear(in_features=128, out_features=128, bias=True)\n",
      "      (3): Linear(in_features=128, out_features=2, bias=True)\n",
      "    )\n",
      "    (mid_linear): ModuleList(\n",
      "      (0): Linear(in_features=128, out_features=2, bias=True)\n",
      "      (1): Linear(in_features=128, out_features=2, bias=True)\n",
      "      (2): Linear(in_features=128, out_features=2, bias=True)\n",
      "    )\n",
      "  )\n",
      "  (sp_grad): SpatialGradient(order=1, normalized=True, mode=diff)\n",
      "  (sp_lapl): Laplacian(kernel_size=5, normalized=True, border_type=reflect)\n",
      ")\n"
     ]
    }
   ],
   "source": [
    "from turboflow.models.phyrff import plDivFreeRFFNet\n",
    "\n",
    "model = plDivFreeRFFNet(**vars(Namespace(**hparams)))\n",
    "print(model)"
   ]
  },
  {
   "cell_type": "code",
   "execution_count": 6,
   "id": "95bc2a7b",
   "metadata": {},
   "outputs": [
    {
     "name": "stdout",
     "output_type": "stream",
     "text": [
      "torch.Size([128, 3])\n"
     ]
    },
    {
     "data": {
      "image/png": "[encoded data removed]",
      "text/plain": [
       "<Figure size 432x288 with 1 Axes>"
      ]
     },
     "metadata": {
      "needs_background": "light"
     },
     "output_type": "display_data"
    },
    {
     "name": "stdout",
     "output_type": "stream",
     "text": [
      "torch.Size([128, 3])\n"
     ]
    },
    {
     "data": {
      "image/png": "[encoded data removed]",
      "text/plain": [
       "<Figure size 432x288 with 1 Axes>"
      ]
     },
     "metadata": {
      "needs_background": "light"
     },
     "output_type": "display_data"
    },
    {
     "name": "stdout",
     "output_type": "stream",
     "text": [
      "torch.Size([128, 3])\n"
     ]
    },
    {
     "data": {
      "image/png": "[encoded data removed]",
      "text/plain": [
       "<Figure size 432x288 with 1 Axes>"
      ]
     },
     "metadata": {
      "needs_background": "light"
     },
     "output_type": "display_data"
    },
    {
     "name": "stdout",
     "output_type": "stream",
     "text": [
      "torch.Size([128, 3])\n"
     ]
    },
    {
     "data": {
      "image/png": "[encoded data removed]",
      "text/plain": [
       "<Figure size 432x288 with 1 Axes>"
      ]
     },
     "metadata": {
      "needs_background": "light"
     },
     "output_type": "display_data"
    }
   ],
   "source": [
    "for k in range(4):\n",
    "    w0 = model.mfn.filters[k].linear.weight.data\n",
    "    print(w0.shape)\n",
    "    plt.hist(w0.flatten().detach().cpu().numpy(), bins=100, histtype='step')\n",
    "    plt.show()"
   ]
  },
  {
   "cell_type": "code",
   "execution_count": 7,
   "id": "60fb71be",
   "metadata": {},
   "outputs": [
    {
     "name": "stdout",
     "output_type": "stream",
     "text": [
      "torch.Size([8192, 3]) torch.Size([8192, 2]) 32 (8, 32, 32, 3)\n",
      "torch.Size([8192, 3]) torch.Size([8192, 2]) 32 (8, 32, 32, 3)\n",
      "torch.Size([524288, 3]) torch.Size([524288, 2]) 256 (8, 256, 256, 3)\n"
     ]
    }
   ],
   "source": [
    "# load dataset for TRAIN\n",
    "dm_train = TurboFlowDataModule(\n",
    "    dataset='Turb2D', \n",
    "    data_dir=data_dir,\n",
    "    time_idx=np.arange(dt['train']*nt_train),\n",
    "\n",
    "    train_batch_size=batch_size['train'],\n",
    "    val_batch_size=batch_size['val'],\n",
    "    test_batch_size=batch_size['test'],\n",
    "\n",
    "    train_downsampling_space=dx['train'],\n",
    "    val_downsampling_space=dx['val'],\n",
    "    test_downsampling_space=dx['test'],\n",
    "\n",
    "    train_downsampling_time=dt['train'],\n",
    "    val_downsampling_time=dt['val'],\n",
    "    test_downsampling_time=dt['test'],\n",
    "\n",
    "    train_shuffle=True,\n",
    "    val_shuffle=False,\n",
    "    test_shuffle=False,\n",
    "    num_workers=8)\n",
    "\n",
    "dm_train.setup()\n",
    "\n",
    "datasets = [dm_train.train_dataset, dm_train.val_dataset, dm_train.test_dataset]\n",
    "for dataset in datasets:\n",
    "    X, y = dataset[:]\n",
    "    print(X.shape, y.shape, dataset.img_res, dataset.vars_shape_img)"
   ]
  },
  {
   "cell_type": "code",
   "execution_count": 8,
   "id": "ea5af7bb",
   "metadata": {},
   "outputs": [
    {
     "name": "stderr",
     "output_type": "stream",
     "text": [
      "/home/dicarlo_d/Documents/Code/TurboSuperResultion/venv/lib/python3.8/site-packages/pytorch_lightning/callbacks/model_checkpoint.py:446: UserWarning: Checkpoint directory .torch_checkpoints exists and is not empty.\n",
      "  rank_zero_warn(f\"Checkpoint directory {dirpath} exists and is not empty.\")\n",
      "GPU available: True, used: True\n",
      "TPU available: False, using: 0 TPU cores\n",
      "IPU available: False, using: 0 IPUs\n"
     ]
    }
   ],
   "source": [
    "early_stop_callback = EarlyStopping(\n",
    "    monitor='val/loss/tot', \n",
    "    patience=3,\n",
    "    min_delta=1e-5)\n",
    "checkpoint_callback = ModelCheckpoint(\n",
    "    monitor=\"val/loss/tot\",\n",
    "    dirpath=\".torch_checkpoints\",\n",
    "    filename=\"Turb2D-%s-%s-{epoch:02d}-{val_loss:.2f}\" % (hparams['name'], exp_suffix),\n",
    "    save_top_k=1,\n",
    "    mode=\"min\",\n",
    ")\n",
    "\n",
    "trainer = Trainer(\n",
    "    gpus=1,\n",
    "    max_epochs=n_epoch, \n",
    "    log_every_n_steps=5,\n",
    "    check_val_every_n_epoch=10, \n",
    "    callbacks=[early_stop_callback, checkpoint_callback])"
   ]
  },
  {
   "cell_type": "code",
   "execution_count": 9,
   "id": "5e0fc670",
   "metadata": {
    "scrolled": false
   },
   "outputs": [
    {
     "name": "stderr",
     "output_type": "stream",
     "text": [
      "/home/dicarlo_d/Documents/Code/TurboSuperResultion/venv/lib/python3.8/site-packages/pytorch_lightning/core/datamodule.py:423: LightningDeprecationWarning: DataModule.setup has already been called, so it will not be called again. In v1.6 this behavior will change to always call DataModule.setup.\n",
      "  rank_zero_deprecation(\n",
      "LOCAL_RANK: 0 - CUDA_VISIBLE_DEVICES: [0]\n",
      "\n",
      "  | Name      | Type            | Params\n",
      "----------------------------------------------\n",
      "0 | rff_time  | Fourier         | 64    \n",
      "1 | rff_space | Fourier         | 256   \n",
      "2 | mfn       | moMFN           | 54.7 K\n",
      "3 | sp_grad   | SpatialGradient | 0     \n",
      "4 | sp_lapl   | Laplacian       | 0     \n",
      "----------------------------------------------\n",
      "54.7 K    Trainable params\n",
      "320       Non-trainable params\n",
      "55.0 K    Total params\n",
      "0.220     Total estimated model params size (MB)\n"
     ]
    },
    {
     "data": {
      "application/vnd.jupyter.widget-view+json": {
       "model_id": "",
       "version_major": 2,
       "version_minor": 0
      },
      "text/plain": [
       "Validation sanity check: 0it [00:00, ?it/s]"
      ]
     },
     "metadata": {},
     "output_type": "display_data"
    },
    {
     "name": "stderr",
     "output_type": "stream",
     "text": [
      "Global seed set to 666\n"
     ]
    },
    {
     "data": {
      "application/vnd.jupyter.widget-view+json": {
       "model_id": "b411c4c6a63a41ec87b539329a852c70",
       "version_major": 2,
       "version_minor": 0
      },
      "text/plain": [
       "Training: -1it [00:00, ?it/s]"
      ]
     },
     "metadata": {},
     "output_type": "display_data"
    },
    {
     "data": {
      "application/vnd.jupyter.widget-view+json": {
       "model_id": "",
       "version_major": 2,
       "version_minor": 0
      },
      "text/plain": [
       "Validating: 0it [00:00, ?it/s]"
      ]
     },
     "metadata": {},
     "output_type": "display_data"
    },
    {
     "data": {
      "application/vnd.jupyter.widget-view+json": {
       "model_id": "",
       "version_major": 2,
       "version_minor": 0
      },
      "text/plain": [
       "Validating: 0it [00:00, ?it/s]"
      ]
     },
     "metadata": {},
     "output_type": "display_data"
    },
    {
     "data": {
      "application/vnd.jupyter.widget-view+json": {
       "model_id": "",
       "version_major": 2,
       "version_minor": 0
      },
      "text/plain": [
       "Validating: 0it [00:00, ?it/s]"
      ]
     },
     "metadata": {},
     "output_type": "display_data"
    },
    {
     "data": {
      "application/vnd.jupyter.widget-view+json": {
       "model_id": "",
       "version_major": 2,
       "version_minor": 0
      },
      "text/plain": [
       "Validating: 0it [00:00, ?it/s]"
      ]
     },
     "metadata": {},
     "output_type": "display_data"
    },
    {
     "data": {
      "application/vnd.jupyter.widget-view+json": {
       "model_id": "",
       "version_major": 2,
       "version_minor": 0
      },
      "text/plain": [
       "Validating: 0it [00:00, ?it/s]"
      ]
     },
     "metadata": {},
     "output_type": "display_data"
    },
    {
     "data": {
      "application/vnd.jupyter.widget-view+json": {
       "model_id": "",
       "version_major": 2,
       "version_minor": 0
      },
      "text/plain": [
       "Validating: 0it [00:00, ?it/s]"
      ]
     },
     "metadata": {},
     "output_type": "display_data"
    },
    {
     "data": {
      "application/vnd.jupyter.widget-view+json": {
       "model_id": "",
       "version_major": 2,
       "version_minor": 0
      },
      "text/plain": [
       "Validating: 0it [00:00, ?it/s]"
      ]
     },
     "metadata": {},
     "output_type": "display_data"
    },
    {
     "data": {
      "application/vnd.jupyter.widget-view+json": {
       "model_id": "",
       "version_major": 2,
       "version_minor": 0
      },
      "text/plain": [
       "Validating: 0it [00:00, ?it/s]"
      ]
     },
     "metadata": {},
     "output_type": "display_data"
    },
    {
     "data": {
      "application/vnd.jupyter.widget-view+json": {
       "model_id": "",
       "version_major": 2,
       "version_minor": 0
      },
      "text/plain": [
       "Validating: 0it [00:00, ?it/s]"
      ]
     },
     "metadata": {},
     "output_type": "display_data"
    },
    {
     "data": {
      "application/vnd.jupyter.widget-view+json": {
       "model_id": "",
       "version_major": 2,
       "version_minor": 0
      },
      "text/plain": [
       "Validating: 0it [00:00, ?it/s]"
      ]
     },
     "metadata": {},
     "output_type": "display_data"
    },
    {
     "data": {
      "application/vnd.jupyter.widget-view+json": {
       "model_id": "",
       "version_major": 2,
       "version_minor": 0
      },
      "text/plain": [
       "Validating: 0it [00:00, ?it/s]"
      ]
     },
     "metadata": {},
     "output_type": "display_data"
    },
    {
     "data": {
      "application/vnd.jupyter.widget-view+json": {
       "model_id": "",
       "version_major": 2,
       "version_minor": 0
      },
      "text/plain": [
       "Validating: 0it [00:00, ?it/s]"
      ]
     },
     "metadata": {},
     "output_type": "display_data"
    },
    {
     "data": {
      "application/vnd.jupyter.widget-view+json": {
       "model_id": "",
       "version_major": 2,
       "version_minor": 0
      },
      "text/plain": [
       "Validating: 0it [00:00, ?it/s]"
      ]
     },
     "metadata": {},
     "output_type": "display_data"
    },
    {
     "data": {
      "application/vnd.jupyter.widget-view+json": {
       "model_id": "",
       "version_major": 2,
       "version_minor": 0
      },
      "text/plain": [
       "Validating: 0it [00:00, ?it/s]"
      ]
     },
     "metadata": {},
     "output_type": "display_data"
    },
    {
     "data": {
      "application/vnd.jupyter.widget-view+json": {
       "model_id": "",
       "version_major": 2,
       "version_minor": 0
      },
      "text/plain": [
       "Validating: 0it [00:00, ?it/s]"
      ]
     },
     "metadata": {},
     "output_type": "display_data"
    },
    {
     "data": {
      "application/vnd.jupyter.widget-view+json": {
       "model_id": "",
       "version_major": 2,
       "version_minor": 0
      },
      "text/plain": [
       "Validating: 0it [00:00, ?it/s]"
      ]
     },
     "metadata": {},
     "output_type": "display_data"
    },
    {
     "data": {
      "application/vnd.jupyter.widget-view+json": {
       "model_id": "",
       "version_major": 2,
       "version_minor": 0
      },
      "text/plain": [
       "Validating: 0it [00:00, ?it/s]"
      ]
     },
     "metadata": {},
     "output_type": "display_data"
    },
    {
     "data": {
      "application/vnd.jupyter.widget-view+json": {
       "model_id": "",
       "version_major": 2,
       "version_minor": 0
      },
      "text/plain": [
       "Validating: 0it [00:00, ?it/s]"
      ]
     },
     "metadata": {},
     "output_type": "display_data"
    },
    {
     "data": {
      "application/vnd.jupyter.widget-view+json": {
       "model_id": "",
       "version_major": 2,
       "version_minor": 0
      },
      "text/plain": [
       "Validating: 0it [00:00, ?it/s]"
      ]
     },
     "metadata": {},
     "output_type": "display_data"
    },
    {
     "data": {
      "application/vnd.jupyter.widget-view+json": {
       "model_id": "",
       "version_major": 2,
       "version_minor": 0
      },
      "text/plain": [
       "Validating: 0it [00:00, ?it/s]"
      ]
     },
     "metadata": {},
     "output_type": "display_data"
    }
   ],
   "source": [
    "trainer.fit(model, dm_train)\n",
    "best_model_path = checkpoint_callback.best_model_path\n",
    "best_model_score = checkpoint_callback.best_model_score"
   ]
  },
  {
   "cell_type": "code",
   "execution_count": null,
   "id": "5d7bfcb7",
   "metadata": {},
   "outputs": [],
   "source": [
    "x, y = dm_train.test_dataset[:]\n",
    "\n",
    "y = y.reshape(8,256,256,2)\n",
    "plt.imshow(y[8,:,:,0].detach().cpu().numpy())\n",
    "\n",
    "yf, yi = model.mfn(x)"
   ]
  },
  {
   "cell_type": "code",
   "execution_count": null,
   "id": "ed180305",
   "metadata": {},
   "outputs": [],
   "source": [
    "yf = yf.reshape(16,256,256,2)\n",
    "plt.imshow(yf[8,:,:,0].detach().cpu().numpy())"
   ]
  },
  {
   "cell_type": "code",
   "execution_count": null,
   "id": "4cb8daf2",
   "metadata": {},
   "outputs": [],
   "source": [
    "for y_ in yi:\n",
    "    print(y_.shape)\n",
    "    y_ = y_.reshape(16,256,256,2)\n",
    "    plt.imshow(y_[8,:,:,0].detach().cpu().numpy())\n",
    "    plt.show()"
   ]
  },
  {
   "cell_type": "code",
   "execution_count": null,
   "id": "8c4a694e",
   "metadata": {},
   "outputs": [],
   "source": [
    "x = torch.rand([1000,3]).T\n",
    "\n",
    "plt.hist(x.flatten().numpy(), bins=100, histtype='step')\n",
    "plt.show()"
   ]
  },
  {
   "cell_type": "code",
   "execution_count": null,
   "id": "68f19825",
   "metadata": {},
   "outputs": [],
   "source": [
    "plt.figure(figsize=(10,5))\n",
    "plt.subplot(121)\n",
    "plt.title('after filter linear')\n",
    "s0 = model.mfn.filters[0].linear(x)\n",
    "plt.hist(s0.flatten().detach().cpu().numpy(), bins=100, histtype='step')\n",
    "plt.xlim([-1.2, 1.2])\n",
    "\n",
    "plt.subplot(122)\n",
    "plt.title('after filter sine')\n",
    "g0 = model.mfn.filters[0](x)\n",
    "w0 = model.mfn.filters[0].linear.weight.data\n",
    "plt.hist(w0.flatten().detach().cpu().numpy(), bins=100, histtype='step')\n",
    "plt.show()\n",
    "\n",
    "\n",
    "s0 = model.mfn.filters[0].gamma\n",
    "plt.hist(s0.flatten().detach().cpu().numpy(), bins=100, histtype='step')\n",
    "plt.show()"
   ]
  },
  {
   "cell_type": "code",
   "execution_count": null,
   "id": "3b260e4b",
   "metadata": {},
   "outputs": [],
   "source": [
    "# print(model)"
   ]
  },
  {
   "cell_type": "code",
   "execution_count": null,
   "id": "b79a1383",
   "metadata": {},
   "outputs": [],
   "source": []
  }
 ],
 "metadata": {
  "kernelspec": {
   "display_name": "Python 3 (ipykernel)",
   "language": "python",
   "name": "python3"
  },
  "language_info": {
   "codemirror_mode": {
    "name": "ipython",
    "version": 3
   },
   "file_extension": ".py",
   "mimetype": "text/x-python",
   "name": "python",
   "nbconvert_exporter": "python",
   "pygments_lexer": "ipython3",
   "version": "3.8.5"
  }
 },
 "nbformat": 4,
 "nbformat_minor": 5
}
