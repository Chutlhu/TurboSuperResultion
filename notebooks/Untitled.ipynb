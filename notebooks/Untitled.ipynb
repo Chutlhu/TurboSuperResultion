{
 "cells": [
  {
   "cell_type": "code",
   "execution_count": 1,
   "id": "a36259a4",
   "metadata": {},
   "outputs": [],
   "source": [
    "%load_ext autoreload\n",
    "%autoreload 2"
   ]
  },
  {
   "cell_type": "code",
   "execution_count": 43,
   "id": "8220fc84",
   "metadata": {},
   "outputs": [],
   "source": [
    "from argparse import Namespace\n",
    "import torch\n",
    "import matplotlib.pyplot as plt"
   ]
  },
  {
   "cell_type": "code",
   "execution_count": 4,
   "id": "5a7af6d4",
   "metadata": {},
   "outputs": [],
   "source": [
    "from turboflow.models.phyrff import plDivFreeRFFNet\n",
    "\n",
    "path_to_best_model = '/home/dicarlo_d/Documents/Code/TurboSuperResultion/.torch_checkpoints/Turb2D-kMFN-SGU_32x32x32_gabor_freqs_spect-epoch=89-val_loss=0.00.ckpt'\n",
    "model = plDivFreeRFFNet.load_from_checkpoint(path_to_best_model)"
   ]
  },
  {
   "cell_type": "code",
   "execution_count": 11,
   "id": "025ab529",
   "metadata": {},
   "outputs": [
    {
     "name": "stdout",
     "output_type": "stream",
     "text": [
      "torch.Size([1024, 3])\n"
     ]
    }
   ],
   "source": [
    "t = torch.linspace(0.5, 0.6, 1)\n",
    "x = torch.linspace(0, 1, 32)\n",
    "y = torch.linspace(0, 1, 32)\n",
    "\n",
    "X = torch.stack(torch.meshgrid(t, x, y))\n",
    "X = torch.flatten(X, start_dim=1)\n",
    "X = X.T\n",
    "print(X.shape)"
   ]
  },
  {
   "cell_type": "code",
   "execution_count": 14,
   "id": "c56d1096",
   "metadata": {},
   "outputs": [
    {
     "name": "stdout",
     "output_type": "stream",
     "text": [
      "torch.Size([1024, 65536])\n"
     ]
    }
   ],
   "source": [
    "y = model(X)[0]"
   ]
  },
  {
   "cell_type": "code",
   "execution_count": 18,
   "id": "c6991f3f",
   "metadata": {},
   "outputs": [],
   "source": [
    "feats = {} #an empty dictionary\n",
    "def hook_func(m , inp ,op):\n",
    "   feats['feat'] = op.detach()"
   ]
  },
  {
   "cell_type": "code",
   "execution_count": 20,
   "id": "787cbc3f",
   "metadata": {},
   "outputs": [],
   "source": [
    "model.mfn.register_forward_hook(hook_func)\n",
    "y = model(X)[0]"
   ]
  },
  {
   "cell_type": "code",
   "execution_count": 25,
   "id": "3f33488a",
   "metadata": {},
   "outputs": [],
   "source": [
    "B = X.shape[0]\n",
    "F = feats['feat'].reshape(B, 2, 128, 128, 2)"
   ]
  },
  {
   "cell_type": "code",
   "execution_count": 35,
   "id": "cee425d3",
   "metadata": {},
   "outputs": [
    {
     "name": "stdout",
     "output_type": "stream",
     "text": [
      "torch.Size([1024, 2, 128, 128, 2])\n",
      "torch.Size([1024, 16384])\n"
     ]
    }
   ],
   "source": [
    "print(F.shape)\n",
    "Ek = torch.sum(F**2, dim=-1)\n",
    "Ek = torch.mean(Ek, dim=1)\n",
    "Ek = torch.flatten(Ek, start_dim=1)\n",
    "print(Ek.shape)"
   ]
  },
  {
   "cell_type": "code",
   "execution_count": 41,
   "id": "59dad7dd",
   "metadata": {},
   "outputs": [],
   "source": [
    "freqs = model.freq.freqs.reshape(2, 128, 128)\n",
    "freqs = torch.norm(freqs, dim=0).flatten()\n",
    "val, idx = torch.sort(freqs)"
   ]
  },
  {
   "cell_type": "code",
   "execution_count": 44,
   "id": "08498b38",
   "metadata": {},
   "outputs": [
    {
     "name": "stdout",
     "output_type": "stream",
     "text": [
      "tensor([    0,     1,   128,  ..., 16255, 16382, 16383])\n",
      "tensor([0.0000, 0.0079, 0.0079,  ..., 1.4087, 1.4087, 1.4142])\n"
     ]
    },
    {
     "data": {
      "text/plain": [
       "[<matplotlib.lines.Line2D at 0x7f691609c760>]"
      ]
     },
     "execution_count": 44,
     "metadata": {},
     "output_type": "execute_result"
    },
    {
     "data": {
      "image/png": "[encoded data removed]",
      "text/plain": [
       "<Figure size 432x288 with 1 Axes>"
      ]
     },
     "metadata": {
      "needs_background": "light"
     },
     "output_type": "display_data"
    }
   ],
   "source": [
    "print(idx)\n",
    "print(val)\n",
    "\n",
    "plt.plot(Ek[100, idx])"
   ]
  },
  {
   "cell_type": "code",
   "execution_count": null,
   "id": "ceb1e9e0",
   "metadata": {},
   "outputs": [],
   "source": []
  }
 ],
 "metadata": {
  "kernelspec": {
   "display_name": "Python 3 (ipykernel)",
   "language": "python",
   "name": "python3"
  },
  "language_info": {
   "codemirror_mode": {
    "name": "ipython",
    "version": 3
   },
   "file_extension": ".py",
   "mimetype": "text/x-python",
   "name": "python",
   "nbconvert_exporter": "python",
   "pygments_lexer": "ipython3",
   "version": "3.8.5"
  }
 },
 "nbformat": 4,
 "nbformat_minor": 5
}
