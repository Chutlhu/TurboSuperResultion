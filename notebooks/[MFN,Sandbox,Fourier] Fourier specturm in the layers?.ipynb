{
 "cells": [
  {
   "cell_type": "code",
   "execution_count": 1,
   "id": "8270e8c9",
   "metadata": {},
   "outputs": [],
   "source": [
    "%load_ext autoreload\n",
    "%autoreload 2"
   ]
  },
  {
   "cell_type": "code",
   "execution_count": 2,
   "id": "80c519fb",
   "metadata": {},
   "outputs": [],
   "source": [
    "import torch\n",
    "import pytorch_lightning as pl\n",
    "import matplotlib.pyplot as plt"
   ]
  },
  {
   "cell_type": "code",
   "execution_count": 10,
   "id": "bd719c3a",
   "metadata": {},
   "outputs": [
    {
     "name": "stdout",
     "output_type": "stream",
     "text": [
      "plDivFreeRFFNet(\n",
      "  (rff_time): Fourier()\n",
      "  (rff_space): Fourier()\n",
      "  (mfn): MFN(\n",
      "    (filters): ModuleList(\n",
      "      (0): GaborFilter(\n",
      "        (linear): Linear(in_features=3, out_features=256, bias=True)\n",
      "      )\n",
      "      (1): GaborFilter(\n",
      "        (linear): Linear(in_features=3, out_features=256, bias=True)\n",
      "      )\n",
      "      (2): GaborFilter(\n",
      "        (linear): Linear(in_features=3, out_features=256, bias=True)\n",
      "      )\n",
      "      (3): GaborFilter(\n",
      "        (linear): Linear(in_features=3, out_features=256, bias=True)\n",
      "      )\n",
      "      (4): GaborFilter(\n",
      "        (linear): Linear(in_features=3, out_features=256, bias=True)\n",
      "      )\n",
      "    )\n",
      "    (linear): ModuleList(\n",
      "      (0): Linear(in_features=256, out_features=256, bias=True)\n",
      "      (1): Linear(in_features=256, out_features=256, bias=True)\n",
      "      (2): Linear(in_features=256, out_features=256, bias=True)\n",
      "      (3): Linear(in_features=256, out_features=256, bias=True)\n",
      "      (4): Linear(in_features=256, out_features=2, bias=True)\n",
      "    )\n",
      "  )\n",
      "  (sp_grad): SpatialGradient(order=1, normalized=True, mode=diff)\n",
      "  (sp_lapl): Laplacian(kernel_size=5, normalized=True, border_type=reflect)\n",
      ")\n"
     ]
    }
   ],
   "source": [
    "from turboflow.models.phyrff import plDivFreeRFFNet\n",
    "\n",
    "path_to_best_model = '/home/dicarlo_d/Documents/Code/TurboSuperResultion/.torch_checkpoints/'\n",
    "best_model_ckpt = 'Turb2D-MFN-1x32x32_gabor-epoch=429-val_loss=0.00.ckpt'\n",
    "path_to_best_model = path_to_best_model + best_model_ckpt\n",
    "model = plDivFreeRFFNet.load_from_checkpoint(path_to_best_model)\n",
    "print(model)"
   ]
  },
  {
   "cell_type": "code",
   "execution_count": 8,
   "id": "4bbdff9a",
   "metadata": {},
   "outputs": [
    {
     "name": "stdout",
     "output_type": "stream",
     "text": [
      "torch.Size([4096, 3])\n",
      "tensor([[-0.1523,  0.2654],\n",
      "        [-0.1437,  0.2891],\n",
      "        [-0.1102,  0.2561],\n",
      "        ...,\n",
      "        [-0.0379,  0.0631],\n",
      "        [-0.0570,  0.0643],\n",
      "        [-0.0530,  0.0612]], grad_fn=<AddmmBackward>)\n"
     ]
    },
    {
     "data": {
      "text/plain": [
       "<matplotlib.image.AxesImage at 0x7f3b9f55ce20>"
      ]
     },
     "execution_count": 8,
     "metadata": {},
     "output_type": "execute_result"
    },
    {
     "data": {
      "image/png": "[encoded data removed]",
      "text/plain": [
       "<Figure size 432x288 with 1 Axes>"
      ]
     },
     "metadata": {
      "needs_background": "light"
     },
     "output_type": "display_data"
    }
   ],
   "source": [
    "R = 64\n",
    "t = torch.linspace(0, 1, 1)\n",
    "x = torch.linspace(0, 1, R)\n",
    "y = torch.linspace(0, 1, R)\n",
    "\n",
    "X = torch.stack(torch.meshgrid(t, x, y))\n",
    "X = torch.flatten(X, start_dim=1)\n",
    "X = X.T\n",
    "print(X.shape)\n",
    "y = model(X)[0]\n",
    "\n",
    "print(y)\n",
    "\n",
    "plt.imshow(y.reshape(R,R,2)[:,:,0].detach().numpy())"
   ]
  },
  {
   "cell_type": "code",
   "execution_count": 38,
   "id": "4cdb6279",
   "metadata": {
    "scrolled": false
   },
   "outputs": [
    {
     "name": "stdout",
     "output_type": "stream",
     "text": [
      "tensor([-7.1609e+01,  5.2035e+01,  6.3365e+01, -1.6642e+01,  3.5509e+01,\n",
      "        -8.9934e+01, -5.3154e+01, -2.4329e+01,  4.8620e+01, -1.1545e+01,\n",
      "        -5.8100e-01,  5.6908e+00,  5.0099e+01, -4.5173e-02,  4.1503e+01,\n",
      "         1.0651e+02, -5.0676e+01, -1.0528e+01, -1.0336e+01, -6.2545e+01,\n",
      "         1.8800e+01, -2.5661e+01,  1.7269e+01,  1.6342e+01, -4.2064e+01,\n",
      "         1.7516e+01, -7.0016e+01, -2.8402e+01, -2.4378e+00,  1.7634e+01,\n",
      "         4.9692e+01, -2.2116e+01,  4.9826e+01, -4.9222e+01,  5.0551e+01,\n",
      "        -9.4630e-01, -1.1031e+01,  9.8401e+00, -5.8295e+01, -4.4993e+01,\n",
      "         1.0317e+02, -2.6764e+01, -4.5795e+00, -4.9029e+01, -7.0016e+01,\n",
      "        -1.1197e+02, -1.7112e+01, -4.8949e+01, -2.4612e+01, -5.3066e+01,\n",
      "        -5.6071e+01, -1.8192e+01,  1.8158e+01,  3.3766e+00, -3.7451e+01,\n",
      "        -1.1129e+01, -4.8693e+01,  1.1947e+01, -1.2317e+01, -7.1719e+00,\n",
      "        -3.1615e+01,  5.8490e+00,  3.0363e+01, -2.5707e+01, -2.0520e+01,\n",
      "         8.7230e+00, -1.2890e+00,  5.8065e+01, -5.1477e+01, -2.2783e+00,\n",
      "        -1.9757e+01, -1.8258e+01,  3.2378e+01, -9.1834e+01, -8.0444e+00,\n",
      "        -6.9275e+01, -4.4384e+01,  7.9501e+00, -2.7167e+00,  1.6075e+01,\n",
      "        -3.1394e+01,  2.0518e+01, -2.5813e+01,  6.1007e+01, -1.6754e+01,\n",
      "        -1.3379e+01,  4.4429e+01, -5.7707e+01,  5.3859e+01,  4.4714e+01,\n",
      "         3.6667e+01, -1.2150e+01,  3.5985e+01,  4.2359e+01, -1.3394e+01,\n",
      "        -5.2517e+01,  5.5905e+01, -2.4505e+01,  1.9533e+01,  4.0502e+01,\n",
      "         1.3003e+01, -4.5795e+00, -4.8960e-01, -4.2858e+00,  1.8289e+01,\n",
      "        -1.1816e+02, -2.2804e+01, -5.3259e+01, -8.3686e+01, -2.8015e+01,\n",
      "        -1.0519e+01,  3.8173e+01,  4.2788e+01, -7.9544e+01,  6.2957e+01,\n",
      "         3.8548e+01,  1.8399e+01,  8.6940e+01, -2.5369e+01,  4.3909e+01,\n",
      "        -5.4742e+01,  1.9704e+01,  1.6022e+01,  2.9448e+01, -6.3813e+01,\n",
      "        -8.1678e+01, -2.7429e+01, -9.8819e+00,  1.3863e+01,  2.5903e+01,\n",
      "        -2.4968e+01,  4.8678e+01,  6.3843e+01,  2.5241e+01,  4.0107e+01,\n",
      "        -1.5127e+01,  4.8140e+01, -4.3973e+01,  2.9120e+01, -3.3949e+01,\n",
      "        -1.6764e+01, -1.5867e+01, -1.1256e+02, -8.2884e+00, -1.0592e+02,\n",
      "        -1.9381e+01, -3.6763e+01,  1.7895e+01, -1.6722e+01, -2.1810e+01,\n",
      "        -7.0062e+01, -4.1594e+01, -3.9852e+01,  3.7803e+01,  4.4420e+01,\n",
      "         5.5310e+01, -1.1403e+01,  1.4219e+01,  4.7081e+01,  6.6633e+01,\n",
      "        -3.0411e+01, -5.6936e+01, -3.3533e-01, -7.6617e+01,  3.6196e+01,\n",
      "         1.2023e+01, -1.3207e+02,  4.3436e+01, -8.7112e+01,  1.7196e+00,\n",
      "        -2.1524e+01, -8.5829e+01, -1.3669e+01, -8.2314e+01, -3.3098e+01,\n",
      "         9.5261e+01,  1.0980e+00, -5.4636e+01,  4.0798e+00,  6.8921e-01,\n",
      "         2.2732e+00,  4.5897e+01, -9.1915e+00, -6.2354e+01,  1.2500e+01,\n",
      "         4.0728e+01, -2.2792e+01, -1.8604e+02,  4.3427e+01,  1.8850e+01,\n",
      "        -6.3675e+01,  1.6566e+01,  2.4636e+01, -5.6730e+01, -6.5940e+01,\n",
      "         6.5488e+01, -4.4328e+00,  5.0949e+01,  1.4723e+01,  8.6275e+00,\n",
      "        -3.9043e+01, -3.6271e+01, -2.1378e+01, -4.6888e+01, -2.3043e+01,\n",
      "        -4.9108e+01, -4.1080e+00,  1.2401e+02,  1.7402e+01,  1.5090e+02,\n",
      "         2.6914e+01, -1.0796e+01,  1.2818e+02, -3.5995e+00, -5.8483e+01,\n",
      "        -3.5704e+00, -4.6363e+01,  4.9349e+01,  2.9060e+01,  4.4576e+01,\n",
      "        -2.0689e+01,  1.9020e+01,  6.7683e+01, -5.8929e+01,  4.8158e+01,\n",
      "         4.9999e+00,  6.5322e+01,  1.5468e+01, -4.6968e+01, -5.8379e-01,\n",
      "        -4.0948e+00, -7.6176e-03, -6.3690e+01,  6.0601e+01,  7.6080e+01,\n",
      "         6.9096e-01,  8.4053e+01, -8.4117e+01,  4.9417e+01,  3.0231e+01,\n",
      "        -9.0155e+01,  1.3163e+01, -5.9712e+01,  6.1052e+00,  3.8346e+01,\n",
      "        -3.3846e+01, -2.4679e+01,  8.8423e+01,  7.2939e+01, -1.9655e+01,\n",
      "         4.7230e+00,  5.0453e+01, -2.5806e+00, -1.3724e+01,  2.2923e+01,\n",
      "        -7.3259e+01])\n",
      "tensor([ 5.8456e+01,  5.2518e+01,  2.4205e+00,  1.0370e+02, -5.8779e+01,\n",
      "         6.3138e+01,  2.2215e+00,  1.0155e+01, -3.6716e+01,  5.5242e+01,\n",
      "         6.3415e-01,  1.6787e+01, -2.5444e+01,  4.5984e+01,  1.3718e+01,\n",
      "        -3.5009e+01,  6.3489e+01,  4.0675e+01, -9.5615e+00, -7.4719e+01,\n",
      "         2.9756e+01,  2.1761e+01,  4.2279e+01,  3.4943e+01,  6.4648e+01,\n",
      "        -2.4547e+01,  8.8852e+00,  4.0097e+01,  9.2829e+00, -2.9624e+01,\n",
      "        -6.0325e+01,  2.0895e+01,  4.5129e+01,  8.6633e+01, -4.2735e+01,\n",
      "         7.9559e+00,  2.1441e+01, -3.0144e+01,  3.0428e+01, -3.9279e+01,\n",
      "        -4.4133e+01,  1.3285e+01, -8.8505e-02, -6.9494e+00, -7.4322e+01,\n",
      "         3.0179e+01,  5.9403e+01, -7.4081e+00, -4.8040e+00, -8.4007e+01,\n",
      "         2.1099e+00,  1.6786e+01,  6.9115e+00, -1.8426e+01, -1.7439e+01,\n",
      "         1.1122e+01, -1.5124e+01,  1.5694e+01, -2.6959e+00, -2.8872e+01,\n",
      "        -7.2414e+00, -4.3639e+00, -9.1258e+01,  6.0147e+00, -2.4901e+01,\n",
      "         8.5842e+00, -2.5072e+01, -2.4260e+01, -2.7649e+00, -1.2405e+01,\n",
      "        -4.2654e+01,  5.3804e+01, -3.9663e+01,  5.4444e+01,  1.4055e+01,\n",
      "         2.4035e+01, -2.1945e+01,  5.5684e+01,  5.8086e-01, -7.8208e-03,\n",
      "         3.5018e+01,  1.5599e+01, -3.0980e+01,  2.7331e+01,  1.9556e+01,\n",
      "         3.9592e+01, -5.7841e+01,  6.7553e+01,  1.4676e+01, -5.8818e+01,\n",
      "        -5.3044e-01, -5.4705e+01, -1.6379e+01, -5.4883e+01,  1.2859e-02,\n",
      "        -9.2252e+01,  5.2213e+01, -2.5783e+00, -2.8856e+01,  4.5889e+01,\n",
      "        -2.3320e+01,  2.8341e+01,  1.4199e+01, -4.0761e+01,  1.0127e+01,\n",
      "        -1.4314e+01,  3.1840e+01,  5.6571e+01, -6.3607e+01,  1.1861e+02,\n",
      "        -4.5777e+01, -1.2802e+01, -4.2061e+01, -7.5162e+01,  1.3258e+01,\n",
      "         3.2550e+01,  3.3560e+01,  4.7570e+01, -1.1576e+01, -5.1098e+01,\n",
      "        -5.2237e+01, -7.2774e+01,  1.7787e+01, -2.8688e+01, -6.0775e+01,\n",
      "         6.5969e+01,  8.8377e+00,  9.1941e+00, -2.7304e+01,  5.9955e+01,\n",
      "         3.4368e+01,  5.9395e+01, -1.8868e+01, -4.5857e+00,  3.0140e+01,\n",
      "        -3.2757e+01, -4.1425e+01,  9.6112e+01, -2.9874e+01, -1.3447e+01,\n",
      "         6.4522e-01, -5.1234e+01, -9.4505e+01,  1.7990e+01,  4.9520e+01,\n",
      "         1.9519e+01, -9.5526e+01,  3.6129e+01,  3.8268e+01, -3.2584e+01,\n",
      "        -7.1085e+01, -1.8014e+01, -2.8005e+01,  3.5535e+00, -4.1043e+01,\n",
      "        -5.9703e+01, -6.8145e+01, -7.5723e+00,  4.9117e+01,  1.8564e+00,\n",
      "        -9.8819e+01, -9.1812e+01, -1.6077e+01, -6.1720e+00, -8.0336e+00,\n",
      "         9.5827e+00, -2.9604e+01,  2.7743e+01, -6.7314e+01,  9.6619e+00,\n",
      "        -1.0201e+01, -7.1610e+01,  2.7792e+01,  2.5706e+01, -4.8077e+01,\n",
      "         8.7653e+01,  2.9329e+01,  1.1785e+01, -1.8524e+01, -7.5727e+00,\n",
      "        -2.2083e+01,  4.0841e+01,  2.0322e+01, -4.7850e+01,  4.4035e+01,\n",
      "         4.1494e+01, -4.2936e+01,  1.6294e+02,  2.8934e+01, -2.1235e+01,\n",
      "         2.2546e+01, -5.2652e+01, -4.1200e+01,  6.5981e+01,  1.0180e+01,\n",
      "        -3.3314e+01, -1.6286e+00,  3.0854e+01, -3.5225e+01, -1.3926e+01,\n",
      "        -1.1878e+01, -2.1564e+01, -2.3837e+01, -4.5734e+01,  1.9520e+01,\n",
      "        -2.4123e+01, -2.4379e+01,  9.1834e+01,  2.1402e+01,  1.8294e+01,\n",
      "         1.9074e+01, -6.1790e+00, -4.6047e+01, -2.1231e+01, -2.8745e+01,\n",
      "         6.4101e+00,  1.5864e+01, -1.1606e+01, -2.4493e+01,  3.0161e+01,\n",
      "         8.8470e+01,  4.2254e+01, -4.5966e+01,  9.9249e+01,  4.9272e+01,\n",
      "         3.1911e+01,  8.5707e+01,  2.7919e+01, -1.0706e+02,  3.1977e+01,\n",
      "         8.4339e+00, -1.0522e+02, -5.9988e+01, -6.2058e+01, -5.0185e+01,\n",
      "         6.9510e+01, -3.8514e+00,  8.5396e+00, -4.2883e+01,  1.5641e+01,\n",
      "         8.0301e+01, -2.2981e-01,  6.6298e+01,  4.0320e+01,  1.9461e+01,\n",
      "        -4.9961e+00, -5.6001e+00, -6.6832e+01, -6.5571e+01, -1.1240e+01,\n",
      "        -1.7235e+01, -1.3007e+02, -2.2855e+00,  3.2246e+01,  3.1824e+00,\n",
      "        -2.3923e+01])\n"
     ]
    },
    {
     "ename": "AttributeError",
     "evalue": "module 'torch' has no attribute 'argsorrt'",
     "output_type": "error",
     "traceback": [
      "\u001b[0;31m---------------------------------------------------------------------------\u001b[0m",
      "\u001b[0;31mAttributeError\u001b[0m                            Traceback (most recent call last)",
      "\u001b[0;32m/tmp/ipykernel_3112643/3389714605.py\u001b[0m in \u001b[0;36m<module>\u001b[0;34m\u001b[0m\n\u001b[1;32m     12\u001b[0m     \u001b[0mprint\u001b[0m\u001b[0;34m(\u001b[0m\u001b[0mky\u001b[0m\u001b[0;34m)\u001b[0m\u001b[0;34m\u001b[0m\u001b[0;34m\u001b[0m\u001b[0m\n\u001b[1;32m     13\u001b[0m \u001b[0;34m\u001b[0m\u001b[0m\n\u001b[0;32m---> 14\u001b[0;31m     \u001b[0midx_x\u001b[0m \u001b[0;34m=\u001b[0m \u001b[0mtorch\u001b[0m\u001b[0;34m.\u001b[0m\u001b[0margsorrt\u001b[0m\u001b[0;34m(\u001b[0m\u001b[0mg0_w\u001b[0m\u001b[0;34m[\u001b[0m\u001b[0;34m:\u001b[0m\u001b[0;34m,\u001b[0m\u001b[0;36m1\u001b[0m\u001b[0;34m]\u001b[0m\u001b[0;34m)\u001b[0m\u001b[0;34m\u001b[0m\u001b[0;34m\u001b[0m\u001b[0m\n\u001b[0m\u001b[1;32m     15\u001b[0m     \u001b[0midx_y\u001b[0m \u001b[0;34m=\u001b[0m \u001b[0mtorch\u001b[0m\u001b[0;34m.\u001b[0m\u001b[0margsorrt\u001b[0m\u001b[0;34m(\u001b[0m\u001b[0mg0_w\u001b[0m\u001b[0;34m[\u001b[0m\u001b[0;34m:\u001b[0m\u001b[0;34m,\u001b[0m\u001b[0;36m2\u001b[0m\u001b[0;34m]\u001b[0m\u001b[0;34m)\u001b[0m\u001b[0;34m\u001b[0m\u001b[0;34m\u001b[0m\u001b[0m\n\u001b[1;32m     16\u001b[0m \u001b[0;34m\u001b[0m\u001b[0m\n",
      "\u001b[0;31mAttributeError\u001b[0m: module 'torch' has no attribute 'argsorrt'"
     ]
    }
   ],
   "source": [
    "for k in range(5):\n",
    "    g0_w = model.mfn.filters[k].linear.weight.data\n",
    "    g0_b = model.mfn.filters[k].linear.bias.data\n",
    "\n",
    "    l0_w = model.mfn.linear[k].weight.data\n",
    "    l0_b = model.mfn.linear[k].bias.data\n",
    "\n",
    "    kx = g0_w[:,1]\n",
    "    ky = g0_w[:,2]\n",
    "    \n",
    "\n",
    "    idx_x = torch.argsorrt(g0_w[:,1])\n",
    "    idx_y = torch.argsorrt(g0_w[:,2])\n",
    "    \n",
    "    coeff_x = l0_w[:, idx]\n",
    "    coeff_y = l0_w[:, idx]\n",
    "\n",
    "    plt.plot(freqs, torch.sum(coeff[:10,:], dim=0)**2)\n",
    "    \n",
    "    plt.show()\n"
   ]
  },
  {
   "cell_type": "code",
   "execution_count": null,
   "id": "ee7be400",
   "metadata": {},
   "outputs": [],
   "source": []
  }
 ],
 "metadata": {
  "kernelspec": {
   "display_name": "Python 3 (ipykernel)",
   "language": "python",
   "name": "python3"
  },
  "language_info": {
   "codemirror_mode": {
    "name": "ipython",
    "version": 3
   },
   "file_extension": ".py",
   "mimetype": "text/x-python",
   "name": "python",
   "nbconvert_exporter": "python",
   "pygments_lexer": "ipython3",
   "version": "3.8.5"
  }
 },
 "nbformat": 4,
 "nbformat_minor": 5
}
