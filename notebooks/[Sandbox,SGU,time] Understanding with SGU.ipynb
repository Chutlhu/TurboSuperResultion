{
 "cells": [
  {
   "cell_type": "code",
   "execution_count": 1,
   "id": "6328122a",
   "metadata": {},
   "outputs": [],
   "source": [
    "%load_ext autoreload\n",
    "%autoreload 2"
   ]
  },
  {
   "cell_type": "code",
   "execution_count": 26,
   "id": "046de65b",
   "metadata": {},
   "outputs": [],
   "source": [
    "import gc\n",
    "from pathlib import Path\n",
    "import numpy as np\n",
    "import yaml\n",
    "\n",
    "import torch\n",
    "import torch.nn as nn\n",
    "import torch.nn.functional as F\n",
    "\n",
    "from torchsummary import summary\n",
    "from pytorch_lightning.trainer import seed_everything\n",
    "\n",
    "from turboflow.models.phyrff import plDivFreeRFFNet\n",
    "from turboflow.dataloaders import TurboFlowDataModule\n",
    "from turboflow.utils import phy_utils as phy\n",
    "from turboflow.utils import torch_utils as tch\n",
    "\n",
    "import matplotlib.pyplot as plt"
   ]
  },
  {
   "cell_type": "code",
   "execution_count": 38,
   "id": "32f9a55f",
   "metadata": {
    "scrolled": false
   },
   "outputs": [
    {
     "name": "stdout",
     "output_type": "stream",
     "text": [
      "gMLP(\n",
      "  (model): Sequential(\n",
      "    (0): gMLPBlock(\n",
      "      (norm): LayerNorm((256,), eps=1, elementwise_affine=True)\n",
      "      (channel_proj1): Linear(in_features=256, out_features=1024, bias=True)\n",
      "      (channel_proj2): Linear(in_features=512, out_features=256, bias=True)\n",
      "      (sgu): SpatialGatingUnit(\n",
      "        (norm): LayerNorm((512,), eps=1e-05, elementwise_affine=True)\n",
      "        (spatial_proj): Conv1d(128, 128, kernel_size=(1,), stride=(1,))\n",
      "      )\n",
      "    )\n",
      "  )\n",
      ")\n",
      "tensor(0.4969)\n",
      "tensor(0.4927)\n",
      "tensor(-0.0046, grad_fn=<MeanBackward0>)\n",
      "tensor(-8.8476e-09, grad_fn=<MeanBackward0>)\n",
      "torch.Size([32, 128, 256])\n"
     ]
    }
   ],
   "source": [
    "class SpatialGatingUnit(nn.Module):\n",
    "    def __init__(self, d_ffn, seq_len):\n",
    "        super().__init__()\n",
    "        self.norm = nn.LayerNorm(d_ffn)\n",
    "        self.spatial_proj = nn.Conv1d(seq_len, seq_len, kernel_size=1)\n",
    "        nn.init.constant_(self.spatial_proj.bias, 1.0)\n",
    "\n",
    "    def forward(self, x):\n",
    "        u, v = x.chunk(2, dim=-1)\n",
    "        v = self.norm(v)\n",
    "        v = self.spatial_proj(v).squeeze()\n",
    "        out = u * v\n",
    "        return out\n",
    "\n",
    "\n",
    "class gMLPBlock(nn.Module):\n",
    "    def __init__(self, d_model, d_ffn, seq_len):\n",
    "        super().__init__()\n",
    "        self.norm = nn.LayerNorm(d_model, 1)\n",
    "        self.channel_proj1 = nn.Linear(d_model, d_ffn * 2)\n",
    "        self.channel_proj2 = nn.Linear(d_ffn, d_model)\n",
    "        self.sgu = SpatialGatingUnit(d_ffn, seq_len)\n",
    "\n",
    "    def forward(self, x):\n",
    "        residual = x\n",
    "        x = self.norm(x) # norm axis = channel\n",
    "        x = F.gelu(self.channel_proj1(x))\n",
    "        x = self.sgu(x)\n",
    "        x = self.channel_proj2(x)\n",
    "        out = x + residual\n",
    "        return out\n",
    "\n",
    "class gMLP(nn.Module):\n",
    "    def __init__(self, d_model=256, d_ffn=512, seq_len=256, num_layers=6):\n",
    "        super().__init__()\n",
    "        self.model = nn.Sequential(\n",
    "            *[gMLPBlock(d_model, d_ffn, seq_len) for _ in range(num_layers)]\n",
    "        )\n",
    "\n",
    "    def forward(self, x):\n",
    "        return self.model(x)\n",
    "    \n",
    "model = gMLP(d_model=256, d_ffn=512, seq_len=128, num_layers=1)\n",
    "print(model)\n",
    "\n",
    "x = torch.rand(32,128,256)\n",
    "print(model(x).shape)\n"
   ]
  },
  {
   "cell_type": "code",
   "execution_count": null,
   "id": "efd45e4f",
   "metadata": {},
   "outputs": [],
   "source": []
  }
 ],
 "metadata": {
  "kernelspec": {
   "display_name": "Python 3 (ipykernel)",
   "language": "python",
   "name": "python3"
  },
  "language_info": {
   "codemirror_mode": {
    "name": "ipython",
    "version": 3
   },
   "file_extension": ".py",
   "mimetype": "text/x-python",
   "name": "python",
   "nbconvert_exporter": "python",
   "pygments_lexer": "ipython3",
   "version": "3.8.5"
  }
 },
 "nbformat": 4,
 "nbformat_minor": 5
}
