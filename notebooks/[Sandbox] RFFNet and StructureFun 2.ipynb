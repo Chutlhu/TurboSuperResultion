{
 "cells": [
  {
   "cell_type": "markdown",
   "id": "75d4941b",
   "metadata": {},
   "source": [
    "# Structure Function Turbulent Data"
   ]
  },
  {
   "cell_type": "code",
   "execution_count": 1,
   "id": "cc8c9659",
   "metadata": {},
   "outputs": [],
   "source": [
    "%load_ext autoreload\n",
    "%autoreload 2"
   ]
  },
  {
   "cell_type": "code",
   "execution_count": 3,
   "id": "2cd2fadb",
   "metadata": {},
   "outputs": [],
   "source": [
    "import torch\n",
    "from turboflow.models.rff import RFFNet\n",
    "from turboflow.dataloaders import Turbo2D_simple, load_turbo2D_simple_numpy\n",
    "from torch.utils.data import Dataset, DataLoader\n",
    "\n",
    "# set up cuda \n",
    "torch.cuda.is_available()\n",
    "use_cuda = torch.cuda.is_available()\n",
    "device = torch.device(\"cuda:0\" if use_cuda else \"cpu\")"
   ]
  },
  {
   "cell_type": "code",
   "execution_count": 8,
   "id": "cac506cc",
   "metadata": {},
   "outputs": [
    {
     "name": "stdout",
     "output_type": "stream",
     "text": [
      "Y shape (64, 64, 2)\n",
      "Y min, max: -2.365612 2.941536\n",
      "after normalization, Y min, max: -0.8042097733972999 1.0\n",
      "64\n",
      "0.01568627450980392\n"
     ]
    }
   ],
   "source": [
    "Xlr, Ulr = load_turbo2D_simple_numpy(ds=4, img=42) # low resolution (64x64)\n",
    "L = int(Xlr.shape[0]**0.5)\n",
    "print(L)\n",
    "\n",
    "delta_x = Xlr[1,1] - Xlr[0,1]\n",
    "print(delta_x)"
   ]
  },
  {
   "cell_type": "code",
   "execution_count": 33,
   "id": "04f4ff54",
   "metadata": {},
   "outputs": [
    {
     "name": "stdout",
     "output_type": "stream",
     "text": [
      "tensor([-0.1255, -0.1216, -0.1176, -0.1137, -0.1098, -0.1059, -0.1020, -0.0980,\n",
      "        -0.0941, -0.0902, -0.0863, -0.0824, -0.0784, -0.0745, -0.0706, -0.0667,\n",
      "        -0.0627, -0.0588, -0.0549, -0.0510, -0.0471, -0.0431, -0.0392, -0.0353,\n",
      "        -0.0314, -0.0275, -0.0235, -0.0196, -0.0157, -0.0118, -0.0078, -0.0039,\n",
      "         0.0000,  0.0039,  0.0078,  0.0118,  0.0157,  0.0196,  0.0235,  0.0275,\n",
      "         0.0314,  0.0353,  0.0392,  0.0431,  0.0471,  0.0510,  0.0549,  0.0588,\n",
      "         0.0627,  0.0667,  0.0706,  0.0745,  0.0784,  0.0824,  0.0863,  0.0902,\n",
      "         0.0941,  0.0980,  0.1020,  0.1059,  0.1098,  0.1137,  0.1176,  0.1216],\n",
      "       device='cuda:0')\n",
      "torch.Size([64])\n",
      "tensor(0.0039, device='cuda:0')\n",
      "tensor(0.0157, device='cuda:0')\n",
      "torch.Size([64, 64, 2])\n"
     ]
    }
   ],
   "source": [
    "patch_dim = 32\n",
    "min_l = delta_x/4\n",
    "\n",
    "patch_ln = torch.arange(-min_l*patch_dim, min_l*patch_dim, min_l, device=device)\n",
    "\n",
    "print(patch_ln)\n",
    "print(patch_ln.shape)\n",
    "print(patch_ln[1] - patch_ln[0])\n",
    "print(patch_ln[4] - patch_ln[0])\n",
    "\n",
    "patch_sq = torch.stack(torch.meshgrid(patch_ln, patch_ln), dim=-1)\n",
    "print(patch_sq.shape)"
   ]
  },
  {
   "cell_type": "code",
   "execution_count": 12,
   "id": "8ee9e91a",
   "metadata": {},
   "outputs": [
    {
     "name": "stdout",
     "output_type": "stream",
     "text": [
      "[0.00392156862745098, 0.00784313725490196, 0.011764705882352941, 0.01568627450980392]\n"
     ]
    },
    {
     "ename": "ZeroDivisionError",
     "evalue": "division by zero",
     "output_type": "error",
     "traceback": [
      "\u001b[0;31m---------------------------------------------------------------------------\u001b[0m",
      "\u001b[0;31mZeroDivisionError\u001b[0m                         Traceback (most recent call last)",
      "\u001b[0;32m<ipython-input-12-2126946838ea>\u001b[0m in \u001b[0;36m<module>\u001b[0;34m\u001b[0m\n\u001b[1;32m     13\u001b[0m                     curr_delta_x = curr_delta_x)\n\u001b[1;32m     14\u001b[0m \u001b[0;34m\u001b[0m\u001b[0m\n\u001b[0;32m---> 15\u001b[0;31m \u001b[0;36m1\u001b[0m\u001b[0;34m/\u001b[0m\u001b[0;36m0\u001b[0m\u001b[0;34m\u001b[0m\u001b[0;34m\u001b[0m\u001b[0m\n\u001b[0m\u001b[1;32m     16\u001b[0m \u001b[0;31m# training data\u001b[0m\u001b[0;34m\u001b[0m\u001b[0;34m\u001b[0m\u001b[0;34m\u001b[0m\u001b[0m\n\u001b[1;32m     17\u001b[0m \u001b[0mpath_to_data\u001b[0m \u001b[0;34m=\u001b[0m \u001b[0;34m'../data/2021-Turb2D_velocities.npy'\u001b[0m\u001b[0;34m\u001b[0m\u001b[0;34m\u001b[0m\u001b[0m\n",
      "\u001b[0;31mZeroDivisionError\u001b[0m: division by zero"
     ]
    }
   ],
   "source": [
    "from turboflow.models.phyrff_sfun import SfunRFFNet\n",
    "\n",
    "# model (RFF + MLP)\n",
    "fft_scale = 10\n",
    "fft_nfeat = 256\n",
    "nin = 2  # = x and y coordinates\n",
    "nout = 2 # = ux and uy components\n",
    "mlp_layers = [nin*fft_nfeat] + [256]*3 + [nout]\n",
    "\n",
    "smallest_increment = delta_x/4\n",
    "\n",
    "rffnet = SfunRFFNet('RFFNet', mlp_layers, fft_nfeat, fft_scale,\n",
    "                    smallest_increment = smallest_increment)\n",
    "\n",
    "1/0\n",
    "# training data\n",
    "path_to_data = '../data/2021-Turb2D_velocities.npy'\n",
    "trainset = Turbo2D_simple(path_to_data, device, ds=4, img=42)\n",
    "trainloader = DataLoader(trainset, batch_size=6666, shuffle=False)"
   ]
  },
  {
   "cell_type": "code",
   "execution_count": null,
   "id": "502ccb8d",
   "metadata": {},
   "outputs": [],
   "source": [
    "# TRAIN!\n",
    "rffnet.to(device)\n",
    "rffnet.fit(trainloader, epochs=2000) # we are not afraid to overfit the data, this is coord-based MLP!"
   ]
  }
 ],
 "metadata": {
  "kernelspec": {
   "display_name": "Python 3",
   "language": "python",
   "name": "python3"
  },
  "language_info": {
   "codemirror_mode": {
    "name": "ipython",
    "version": 3
   },
   "file_extension": ".py",
   "mimetype": "text/x-python",
   "name": "python",
   "nbconvert_exporter": "python",
   "pygments_lexer": "ipython3",
   "version": "3.8.5"
  }
 },
 "nbformat": 4,
 "nbformat_minor": 5
}
