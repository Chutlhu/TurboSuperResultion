{
 "cells": [
  {
   "cell_type": "code",
   "execution_count": 1,
   "id": "5d7e8d06",
   "metadata": {},
   "outputs": [],
   "source": [
    "%load_ext autoreload\n",
    "%autoreload 2"
   ]
  },
  {
   "cell_type": "markdown",
   "id": "6c85a493",
   "metadata": {},
   "source": [
    "some imports"
   ]
  },
  {
   "cell_type": "code",
   "execution_count": 2,
   "id": "afa2fe4d",
   "metadata": {},
   "outputs": [],
   "source": [
    "import numpy as np\n",
    "import matplotlib.pyplot as plt\n",
    "from matplotlib import cm\n",
    "\n",
    "# some imports from my project library\n",
    "from turboflow.dataloaders import load_turbo2D_simple_numpy\n",
    "from turboflow.utils import phy_utils as phy\n",
    "from turboflow.utils import dsp_utils as dsp\n",
    "from turboflow.utils import torch_utils as tch\n",
    "from turboflow.utils import viz_utils as viz\n",
    "from turboflow import evaluation as evl\n",
    "\n",
    "\n",
    "# import torch lib\n",
    "import torch\n",
    "from turboflow.dataloaders import Turbo2D_simple\n",
    "from torch.utils.data import Dataset, DataLoader"
   ]
  },
  {
   "cell_type": "code",
   "execution_count": 3,
   "id": "ed8fd9a4",
   "metadata": {},
   "outputs": [
    {
     "name": "stdout",
     "output_type": "stream",
     "text": [
      "Torch running on: cuda:0\n"
     ]
    }
   ],
   "source": [
    "device = tch.get_device()"
   ]
  },
  {
   "cell_type": "code",
   "execution_count": 4,
   "id": "8d432e91",
   "metadata": {},
   "outputs": [],
   "source": [
    "results_dict = {}"
   ]
  },
  {
   "cell_type": "markdown",
   "id": "ea212fb0",
   "metadata": {},
   "source": [
    "Prepare data loader"
   ]
  },
  {
   "cell_type": "code",
   "execution_count": 5,
   "id": "8ee83eb9",
   "metadata": {},
   "outputs": [
    {
     "name": "stdout",
     "output_type": "stream",
     "text": [
      "Y shape (64, 64, 2)\n",
      "Y min, max: -2.365612 2.941536\n",
      "after normalization, Y min, max: -0.8042097733972999 1.0\n",
      "Y shape (128, 128, 2)\n",
      "Y min, max: -2.371183 2.985797\n",
      "after normalization, Y min, max: -0.7941541236728418 1.0\n",
      "Y shape (256, 256, 2)\n",
      "Y min, max: -2.382122 2.999472\n",
      "after normalization, Y min, max: -0.7941804424245333 1.0\n",
      "Dataset Turbo2D, img # 42\n",
      "(64, 64, 2)\n",
      "(64, 64, 2)\n",
      "Original size 64\n",
      "Y shape (64, 64, 2)\n",
      "Y min, max: -2.365612 2.941536\n",
      "after normalization, Y min, max: -0.8042097733972999 1.0\n"
     ]
    }
   ],
   "source": [
    "# ds=downsampling factor\n",
    "Xlr, Ulr = load_turbo2D_simple_numpy(ds=4) # low resolution (64x64)\n",
    "Xmr, Umr = load_turbo2D_simple_numpy(ds=2) # mid resolution (128x128)\n",
    "Xhr, Uhr = load_turbo2D_simple_numpy(ds=1) # high (max) resolution (256x256)\n",
    "\n",
    "L = int(Xlr.shape[0]**0.5)\n",
    "M = int(Xmr.shape[0]**0.5)\n",
    "H = int(Xhr.shape[0]**0.5)\n",
    "\n",
    "\n",
    "# training data\n",
    "path_to_data = '../data/2021-Turb2D_velocities.npy'\n",
    "trainset = Turbo2D_simple(path_to_data, device, ds=4, img=42)\n",
    "trainloader = DataLoader(trainset, batch_size=6666, shuffle=False)"
   ]
  },
  {
   "cell_type": "code",
   "execution_count": 21,
   "id": "c4e40c78",
   "metadata": {
    "scrolled": true
   },
   "outputs": [
    {
     "name": "stdout",
     "output_type": "stream",
     "text": [
      "Torch running on: cuda:0\n",
      "Epoch:  100, Loss: (rec: [0.0665] + df: [0.0000] + regL2: [0.0000] + regSfun: [0.0000]) = 0.066457\n",
      "Epoch:  200, Loss: (rec: [0.0466] + df: [0.0000] + regL2: [0.0000] + regSfun: [0.0000]) = 0.046578\n",
      "Epoch:  300, Loss: (rec: [0.0363] + df: [0.0000] + regL2: [0.0000] + regSfun: [0.0000]) = 0.036282\n",
      "Epoch:  400, Loss: (rec: [0.0297] + df: [0.0000] + regL2: [0.0000] + regSfun: [0.0000]) = 0.029750\n",
      "Epoch:  500, Loss: (rec: [0.0250] + df: [0.0000] + regL2: [0.0000] + regSfun: [0.0000]) = 0.025042\n",
      "Epoch:  600, Loss: (rec: [0.0212] + df: [0.0000] + regL2: [0.0000] + regSfun: [0.0000]) = 0.021232\n",
      "Epoch:  700, Loss: (rec: [0.0179] + df: [0.0000] + regL2: [0.0000] + regSfun: [0.0000]) = 0.017883\n",
      "Epoch:  800, Loss: (rec: [0.0148] + df: [0.0000] + regL2: [0.0000] + regSfun: [0.0000]) = 0.014803\n",
      "Epoch:  900, Loss: (rec: [0.0119] + df: [0.0000] + regL2: [0.0000] + regSfun: [0.0000]) = 0.011945\n",
      "Epoch: 1000, Loss: (rec: [0.0094] + df: [0.0000] + regL2: [0.0000] + regSfun: [0.0000]) = 0.009355\n",
      "Epoch: 1100, Loss: (rec: [0.0071] + df: [0.0000] + regL2: [0.0000] + regSfun: [0.0000]) = 0.007122\n",
      "Epoch: 1200, Loss: (rec: [0.0053] + df: [0.0000] + regL2: [0.0000] + regSfun: [0.0000]) = 0.005318\n",
      "Epoch: 1300, Loss: (rec: [0.0040] + df: [0.0000] + regL2: [0.0000] + regSfun: [0.0000]) = 0.003951\n",
      "Epoch: 1400, Loss: (rec: [0.0030] + df: [0.0000] + regL2: [0.0000] + regSfun: [0.0000]) = 0.002963\n",
      "Epoch: 1500, Loss: (rec: [0.0023] + df: [0.0000] + regL2: [0.0000] + regSfun: [0.0000]) = 0.002259\n",
      "Epoch: 1600, Loss: (rec: [0.0018] + df: [0.0000] + regL2: [0.0000] + regSfun: [0.0000]) = 0.001753\n",
      "Epoch: 1700, Loss: (rec: [0.0014] + df: [0.0000] + regL2: [0.0000] + regSfun: [0.0000]) = 0.001379\n",
      "Epoch: 1800, Loss: (rec: [0.0011] + df: [0.0000] + regL2: [0.0000] + regSfun: [0.0000]) = 0.001095\n",
      "Epoch: 1900, Loss: (rec: [0.0009] + df: [0.0000] + regL2: [0.0000] + regSfun: [0.0000]) = 0.000875\n",
      "Epoch: 2000, Loss: (rec: [0.0007] + df: [0.0000] + regL2: [0.0000] + regSfun: [0.0000]) = 0.000700\n",
      "Epoch: 2100, Loss: (rec: [0.0006] + df: [0.0000] + regL2: [0.0000] + regSfun: [0.0000]) = 0.000562\n",
      "Epoch: 2200, Loss: (rec: [0.0004] + df: [0.0000] + regL2: [0.0000] + regSfun: [0.0000]) = 0.000451\n",
      "Epoch: 2300, Loss: (rec: [0.0004] + df: [0.0000] + regL2: [0.0000] + regSfun: [0.0000]) = 0.000362\n",
      "Epoch: 2400, Loss: (rec: [0.0003] + df: [0.0000] + regL2: [0.0000] + regSfun: [0.0000]) = 0.000315\n",
      "Epoch: 2500, Loss: (rec: [0.0004] + df: [0.0000] + regL2: [0.0000] + regSfun: [0.0000]) = 0.000437\n",
      "Epoch: 2600, Loss: (rec: [0.0002] + df: [0.0000] + regL2: [0.0000] + regSfun: [0.0000]) = 0.000209\n",
      "Epoch: 2700, Loss: (rec: [0.0005] + df: [0.0000] + regL2: [0.0000] + regSfun: [0.0000]) = 0.000486\n",
      "Epoch: 2800, Loss: (rec: [0.0002] + df: [0.0000] + regL2: [0.0000] + regSfun: [0.0000]) = 0.000158\n",
      "Epoch: 2900, Loss: (rec: [0.0001] + df: [0.0000] + regL2: [0.0000] + regSfun: [0.0000]) = 0.000100\n",
      "Epoch: 3000, Loss: (rec: [0.0001] + df: [0.0000] + regL2: [0.0000] + regSfun: [0.0000]) = 0.000121\n",
      "Epoch: 3100, Loss: (rec: [0.0001] + df: [0.0000] + regL2: [0.0000] + regSfun: [0.0000]) = 0.000068\n",
      "Epoch: 3200, Loss: (rec: [0.0006] + df: [0.0000] + regL2: [0.0000] + regSfun: [0.0000]) = 0.000606\n",
      "Epoch: 3300, Loss: (rec: [0.0001] + df: [0.0000] + regL2: [0.0000] + regSfun: [0.0000]) = 0.000069\n",
      "Epoch: 3400, Loss: (rec: [0.0001] + df: [0.0000] + regL2: [0.0000] + regSfun: [0.0000]) = 0.000112\n",
      "Epoch: 3500, Loss: (rec: [0.0001] + df: [0.0000] + regL2: [0.0000] + regSfun: [0.0000]) = 0.000123\n",
      "Epoch: 3600, Loss: (rec: [0.0001] + df: [0.0000] + regL2: [0.0000] + regSfun: [0.0000]) = 0.000066\n",
      "Epoch: 3700, Loss: (rec: [0.0000] + df: [0.0000] + regL2: [0.0000] + regSfun: [0.0000]) = 0.000050\n",
      "Epoch: 3800, Loss: (rec: [0.0003] + df: [0.0000] + regL2: [0.0000] + regSfun: [0.0000]) = 0.000284\n",
      "Epoch: 3900, Loss: (rec: [0.0000] + df: [0.0000] + regL2: [0.0000] + regSfun: [0.0000]) = 0.000034\n",
      "Epoch: 4000, Loss: (rec: [0.0000] + df: [0.0000] + regL2: [0.0000] + regSfun: [0.0000]) = 0.000030\n",
      "Epoch: 4100, Loss: (rec: [0.0000] + df: [0.0000] + regL2: [0.0000] + regSfun: [0.0000]) = 0.000051\n",
      "Epoch: 4200, Loss: (rec: [0.0002] + df: [0.0000] + regL2: [0.0000] + regSfun: [0.0000]) = 0.000153\n",
      "Epoch: 4300, Loss: (rec: [0.0000] + df: [0.0000] + regL2: [0.0000] + regSfun: [0.0000]) = 0.000041\n",
      "Epoch: 4400, Loss: (rec: [0.0004] + df: [0.0000] + regL2: [0.0000] + regSfun: [0.0000]) = 0.000420\n",
      "Epoch: 4500, Loss: (rec: [0.0000] + df: [0.0000] + regL2: [0.0000] + regSfun: [0.0000]) = 0.000022\n",
      "Epoch: 4600, Loss: (rec: [0.0006] + df: [0.0000] + regL2: [0.0000] + regSfun: [0.0000]) = 0.000595\n",
      "Epoch: 4700, Loss: (rec: [0.0003] + df: [0.0000] + regL2: [0.0000] + regSfun: [0.0000]) = 0.000346\n",
      "Epoch: 4800, Loss: (rec: [0.0000] + df: [0.0000] + regL2: [0.0000] + regSfun: [0.0000]) = 0.000009\n",
      "Epoch: 4900, Loss: (rec: [0.0001] + df: [0.0000] + regL2: [0.0000] + regSfun: [0.0000]) = 0.000092\n",
      "Epoch: 5000, Loss: (rec: [0.0000] + df: [0.0000] + regL2: [0.0000] + regSfun: [0.0000]) = 0.000017\n",
      "Done with Training\n",
      "Final error: 1.701691326161381e-05\n"
     ]
    }
   ],
   "source": [
    "# model (RFF + MLP)\n",
    "do_rff = True\n",
    "fft_scale = 10\n",
    "fft_nfeat = 256\n",
    "\n",
    "nin = 2  # = x and y coordinates\n",
    "nout = 1 # = in the mlp we predict the potential, ux and uy components followed\n",
    "mlp_layers = [nin] + [256]*3 + [nout]\n",
    "last_activation_fun = torch.nn.Tanh()\n",
    "\n",
    "# Structure Function regularization\n",
    "smallest_increment = Xhr[1,1] - Xhr[1,0]\n",
    "n_centers = 5 # 100 too much\n",
    "n_increments = 5\n",
    "\n",
    "epochs = 5000\n",
    "\n",
    "\n",
    "lam_pde = 1\n",
    "\n",
    "lam_reg = 0\n",
    "lam_sfn = 0\n",
    "\n",
    "from turboflow.models.phyrff_hard import DivFreeRFFNet\n",
    "model = DivFreeRFFNet('DivFree_RFF', \n",
    "                      mlp_layers, last_activation_fun,\n",
    "                      do_rff, fft_nfeat, fft_scale,\n",
    "                      smallest_increment, n_increments, n_centers,\n",
    "                      lam_reg=lam_reg, lam_pde=lam_pde, lam_sfn=lam_sfn,\n",
    "                      verbose=True)\n",
    "# TRAIN!\n",
    "model.to(device)\n",
    "model.fit(trainloader, epochs=epochs)\n",
    "results_dict[model.name] = evl.results_potential_to_dict(Xlr, Xmr, Xhr, Ulr, Umr, Uhr, model, device)"
   ]
  },
  {
   "cell_type": "code",
   "execution_count": 26,
   "id": "4650e486",
   "metadata": {
    "scrolled": true
   },
   "outputs": [
    {
     "name": "stdout",
     "output_type": "stream",
     "text": [
      "Torch running on: cuda:0\n",
      "Epoch:  100, Loss: (rec: [0.0815] + df: [0.0000] + regL2: [0.0002] + regSfun: [0.0000]) = 0.081761\n",
      "Epoch:  200, Loss: (rec: [0.0538] + df: [0.0000] + regL2: [0.0002] + regSfun: [0.0000]) = 0.054047\n",
      "Epoch:  300, Loss: (rec: [0.0422] + df: [0.0000] + regL2: [0.0003] + regSfun: [0.0000]) = 0.042436\n",
      "Epoch:  400, Loss: (rec: [0.0351] + df: [0.0000] + regL2: [0.0003] + regSfun: [0.0000]) = 0.035443\n",
      "Epoch:  500, Loss: (rec: [0.0301] + df: [0.0000] + regL2: [0.0003] + regSfun: [0.0000]) = 0.030467\n",
      "Epoch:  600, Loss: (rec: [0.0262] + df: [0.0000] + regL2: [0.0004] + regSfun: [0.0000]) = 0.026567\n",
      "Epoch:  700, Loss: (rec: [0.0229] + df: [0.0000] + regL2: [0.0004] + regSfun: [0.0000]) = 0.023285\n",
      "Epoch:  800, Loss: (rec: [0.0200] + df: [0.0000] + regL2: [0.0004] + regSfun: [0.0000]) = 0.020381\n",
      "Epoch:  900, Loss: (rec: [0.0173] + df: [0.0000] + regL2: [0.0004] + regSfun: [0.0000]) = 0.017734\n",
      "Epoch: 1000, Loss: (rec: [0.0148] + df: [0.0000] + regL2: [0.0005] + regSfun: [0.0000]) = 0.015294\n",
      "Epoch: 1100, Loss: (rec: [0.0125] + df: [0.0000] + regL2: [0.0005] + regSfun: [0.0000]) = 0.013058\n",
      "Epoch: 1200, Loss: (rec: [0.0105] + df: [0.0000] + regL2: [0.0005] + regSfun: [0.0000]) = 0.011048\n",
      "Epoch: 1300, Loss: (rec: [0.0087] + df: [0.0000] + regL2: [0.0006] + regSfun: [0.0000]) = 0.009290\n",
      "Epoch: 1400, Loss: (rec: [0.0072] + df: [0.0000] + regL2: [0.0006] + regSfun: [0.0000]) = 0.007792\n",
      "Epoch: 1500, Loss: (rec: [0.0059] + df: [0.0000] + regL2: [0.0006] + regSfun: [0.0000]) = 0.006546\n",
      "Epoch: 1600, Loss: (rec: [0.0049] + df: [0.0000] + regL2: [0.0007] + regSfun: [0.0000]) = 0.005522\n",
      "Epoch: 1700, Loss: (rec: [0.0040] + df: [0.0000] + regL2: [0.0007] + regSfun: [0.0000]) = 0.004686\n",
      "Epoch: 1800, Loss: (rec: [0.0033] + df: [0.0000] + regL2: [0.0007] + regSfun: [0.0000]) = 0.004003\n",
      "Epoch: 1900, Loss: (rec: [0.0027] + df: [0.0000] + regL2: [0.0007] + regSfun: [0.0000]) = 0.003444\n",
      "Epoch: 2000, Loss: (rec: [0.0022] + df: [0.0000] + regL2: [0.0007] + regSfun: [0.0000]) = 0.002986\n",
      "Epoch: 2100, Loss: (rec: [0.0019] + df: [0.0000] + regL2: [0.0008] + regSfun: [0.0000]) = 0.002610\n",
      "Epoch: 2200, Loss: (rec: [0.0015] + df: [0.0000] + regL2: [0.0008] + regSfun: [0.0000]) = 0.002301\n",
      "Epoch: 2300, Loss: (rec: [0.0013] + df: [0.0000] + regL2: [0.0008] + regSfun: [0.0000]) = 0.002047\n",
      "Epoch: 2400, Loss: (rec: [0.0011] + df: [0.0000] + regL2: [0.0008] + regSfun: [0.0000]) = 0.001840\n",
      "Epoch: 2500, Loss: (rec: [0.0009] + df: [0.0000] + regL2: [0.0008] + regSfun: [0.0000]) = 0.001669\n",
      "Epoch: 2600, Loss: (rec: [0.0007] + df: [0.0000] + regL2: [0.0008] + regSfun: [0.0000]) = 0.001530\n",
      "Epoch: 2700, Loss: (rec: [0.0006] + df: [0.0000] + regL2: [0.0008] + regSfun: [0.0000]) = 0.001415\n",
      "Epoch: 2800, Loss: (rec: [0.0005] + df: [0.0000] + regL2: [0.0008] + regSfun: [0.0000]) = 0.001320\n",
      "Epoch: 2900, Loss: (rec: [0.0004] + df: [0.0000] + regL2: [0.0008] + regSfun: [0.0000]) = 0.001241\n",
      "Epoch: 3000, Loss: (rec: [0.0005] + df: [0.0000] + regL2: [0.0008] + regSfun: [0.0000]) = 0.001275\n",
      "Epoch: 3100, Loss: (rec: [0.0003] + df: [0.0000] + regL2: [0.0008] + regSfun: [0.0000]) = 0.001121\n",
      "Epoch: 3200, Loss: (rec: [0.0003] + df: [0.0000] + regL2: [0.0008] + regSfun: [0.0000]) = 0.001077\n",
      "Epoch: 3300, Loss: (rec: [0.0002] + df: [0.0000] + regL2: [0.0008] + regSfun: [0.0000]) = 0.001035\n",
      "Epoch: 3400, Loss: (rec: [0.0002] + df: [0.0000] + regL2: [0.0008] + regSfun: [0.0000]) = 0.001002\n",
      "Epoch: 3500, Loss: (rec: [0.0002] + df: [0.0000] + regL2: [0.0008] + regSfun: [0.0000]) = 0.001002\n",
      "Epoch: 3600, Loss: (rec: [0.0002] + df: [0.0000] + regL2: [0.0008] + regSfun: [0.0000]) = 0.000974\n",
      "Epoch: 3700, Loss: (rec: [0.0003] + df: [0.0000] + regL2: [0.0008] + regSfun: [0.0000]) = 0.001083\n",
      "Epoch: 3800, Loss: (rec: [0.0002] + df: [0.0000] + regL2: [0.0008] + regSfun: [0.0000]) = 0.000945\n",
      "Epoch: 3900, Loss: (rec: [0.0003] + df: [0.0000] + regL2: [0.0008] + regSfun: [0.0000]) = 0.001102\n",
      "Epoch: 4000, Loss: (rec: [0.0007] + df: [0.0000] + regL2: [0.0008] + regSfun: [0.0000]) = 0.001471\n",
      "Epoch: 4100, Loss: (rec: [0.0002] + df: [0.0000] + regL2: [0.0008] + regSfun: [0.0000]) = 0.000959\n",
      "Epoch: 4200, Loss: (rec: [0.0001] + df: [0.0000] + regL2: [0.0008] + regSfun: [0.0000]) = 0.000869\n",
      "Epoch: 4300, Loss: (rec: [0.0004] + df: [0.0000] + regL2: [0.0008] + regSfun: [0.0000]) = 0.001179\n",
      "Epoch: 4400, Loss: (rec: [0.0001] + df: [0.0000] + regL2: [0.0008] + regSfun: [0.0000]) = 0.000838\n",
      "Epoch: 4500, Loss: (rec: [0.0002] + df: [0.0000] + regL2: [0.0007] + regSfun: [0.0000]) = 0.000901\n",
      "Epoch: 4600, Loss: (rec: [0.0004] + df: [0.0000] + regL2: [0.0007] + regSfun: [0.0000]) = 0.001094\n",
      "Epoch: 4700, Loss: (rec: [0.0009] + df: [0.0000] + regL2: [0.0007] + regSfun: [0.0000]) = 0.001638\n",
      "Epoch: 4800, Loss: (rec: [0.0010] + df: [0.0000] + regL2: [0.0007] + regSfun: [0.0000]) = 0.001755\n",
      "Epoch: 4900, Loss: (rec: [0.0002] + df: [0.0000] + regL2: [0.0007] + regSfun: [0.0000]) = 0.000910\n",
      "Epoch: 5000, Loss: (rec: [0.0001] + df: [0.0000] + regL2: [0.0007] + regSfun: [0.0000]) = 0.000784\n",
      "Done with Training\n",
      "Final error: 0.0007835064898245037\n"
     ]
    }
   ],
   "source": [
    "# model (RFF + MLP)\n",
    "do_rff = True\n",
    "fft_scale = 10\n",
    "fft_nfeat = 256\n",
    "\n",
    "nin = 2  # = x and y coordinates\n",
    "nout = 1 # = in the mlp we predict the potential, ux and uy components followed\n",
    "mlp_layers = [nin] + [256]*3 + [nout]\n",
    "last_activation_fun = torch.nn.Tanh()\n",
    "\n",
    "# Structure Function regularization\n",
    "smallest_increment = Xhr[1,1] - Xhr[1,0]\n",
    "n_centers = 5 # 100 too much\n",
    "n_increments = 5\n",
    "\n",
    "epochs = 5000\n",
    "\n",
    "\n",
    "lam_pde = 1\n",
    "\n",
    "lam_reg = 1e-3\n",
    "lam_sfn = 0\n",
    "\n",
    "from turboflow.models.phyrff_hard import DivFreeRFFNet\n",
    "model = DivFreeRFFNet('DivFree_RFF_L2', \n",
    "                      mlp_layers, last_activation_fun,\n",
    "                      do_rff, fft_nfeat, fft_scale,\n",
    "                      smallest_increment, n_increments, n_centers,\n",
    "                      lam_reg=lam_reg, lam_pde=lam_pde, lam_sfn=lam_sfn,\n",
    "                      verbose=True)\n",
    "# TRAIN!\n",
    "model.to(device)\n",
    "model.fit(trainloader, epochs=epochs)\n",
    "results_dict[model.name] = evl.results_potential_to_dict(Xlr, Xmr, Xhr, Ulr, Umr, Uhr, model, device)"
   ]
  },
  {
   "cell_type": "code",
   "execution_count": null,
   "id": "828b16ff",
   "metadata": {},
   "outputs": [
    {
     "name": "stdout",
     "output_type": "stream",
     "text": [
      "Torch running on: cuda:0\n",
      "Epoch:  100, Loss: (rec: [0.0708] + df: [0.0000] + regL2: [0.0000] + regSfun: [0.0113]) = 0.082061\n",
      "Epoch:  200, Loss: (rec: [0.0514] + df: [0.0000] + regL2: [0.0000] + regSfun: [0.0097]) = 0.061059\n",
      "Epoch:  300, Loss: (rec: [0.0411] + df: [0.0000] + regL2: [0.0000] + regSfun: [0.0087]) = 0.049797\n",
      "Epoch:  400, Loss: (rec: [0.0344] + df: [0.0000] + regL2: [0.0000] + regSfun: [0.0079]) = 0.042255\n",
      "Epoch:  500, Loss: (rec: [0.0296] + df: [0.0000] + regL2: [0.0000] + regSfun: [0.0073]) = 0.036922\n",
      "Epoch:  600, Loss: (rec: [0.0259] + df: [0.0000] + regL2: [0.0000] + regSfun: [0.0069]) = 0.032768\n",
      "Epoch:  700, Loss: (rec: [0.0229] + df: [0.0000] + regL2: [0.0000] + regSfun: [0.0065]) = 0.029356\n",
      "Epoch:  800, Loss: (rec: [0.0203] + df: [0.0000] + regL2: [0.0000] + regSfun: [0.0062]) = 0.026441\n",
      "Epoch:  900, Loss: (rec: [0.0179] + df: [0.0000] + regL2: [0.0000] + regSfun: [0.0058]) = 0.023713\n",
      "Epoch: 1000, Loss: (rec: [0.0156] + df: [0.0000] + regL2: [0.0000] + regSfun: [0.0056]) = 0.021207\n",
      "Epoch: 1100, Loss: (rec: [0.0135] + df: [0.0000] + regL2: [0.0000] + regSfun: [0.0052]) = 0.018679\n",
      "Epoch: 1200, Loss: (rec: [0.0115] + df: [0.0000] + regL2: [0.0000] + regSfun: [0.0049]) = 0.016438\n",
      "Epoch: 1300, Loss: (rec: [0.0096] + df: [0.0000] + regL2: [0.0000] + regSfun: [0.0047]) = 0.014346\n",
      "Epoch: 1400, Loss: (rec: [0.0079] + df: [0.0000] + regL2: [0.0000] + regSfun: [0.0043]) = 0.012256\n",
      "Epoch: 1500, Loss: (rec: [0.0064] + df: [0.0000] + regL2: [0.0000] + regSfun: [0.0043]) = 0.010719\n",
      "Epoch: 1600, Loss: (rec: [0.0052] + df: [0.0000] + regL2: [0.0000] + regSfun: [0.0041]) = 0.009328\n",
      "Epoch: 1700, Loss: (rec: [0.0042] + df: [0.0000] + regL2: [0.0000] + regSfun: [0.0037]) = 0.007937\n",
      "Epoch: 1800, Loss: (rec: [0.0034] + df: [0.0000] + regL2: [0.0000] + regSfun: [0.0038]) = 0.007189\n",
      "Epoch: 1900, Loss: (rec: [0.0028] + df: [0.0000] + regL2: [0.0000] + regSfun: [0.0031]) = 0.005931\n",
      "Epoch: 2000, Loss: (rec: [0.0024] + df: [0.0000] + regL2: [0.0000] + regSfun: [0.0029]) = 0.005320\n",
      "Epoch: 2100, Loss: (rec: [0.0021] + df: [0.0000] + regL2: [0.0000] + regSfun: [0.0028]) = 0.004858\n",
      "Epoch: 2200, Loss: (rec: [0.0018] + df: [0.0000] + regL2: [0.0000] + regSfun: [0.0025]) = 0.004351\n",
      "Epoch: 2300, Loss: (rec: [0.0016] + df: [0.0000] + regL2: [0.0000] + regSfun: [0.0020]) = 0.003686\n",
      "Epoch: 2400, Loss: (rec: [0.0016] + df: [0.0000] + regL2: [0.0000] + regSfun: [0.0022]) = 0.003744\n",
      "Epoch: 2500, Loss: (rec: [0.0013] + df: [0.0000] + regL2: [0.0000] + regSfun: [0.0020]) = 0.003301\n",
      "Epoch: 2600, Loss: (rec: [0.0013] + df: [0.0000] + regL2: [0.0000] + regSfun: [0.0016]) = 0.002859\n"
     ]
    }
   ],
   "source": [
    "# model (RFF + MLP)\n",
    "do_rff = True\n",
    "fft_scale = 10\n",
    "fft_nfeat = 256\n",
    "\n",
    "nin = 2  # = x and y coordinates\n",
    "nout = 1 # = in the mlp we predict the potential, ux and uy components followed\n",
    "mlp_layers = [nin] + [256]*3 + [nout]\n",
    "last_activation_fun = torch.nn.Tanh()\n",
    "\n",
    "# Structure Function regularization\n",
    "smallest_increment = Xhr[1,1] - Xhr[1,0]\n",
    "n_centers = 30 # 100 too much\n",
    "n_increments = 5\n",
    "\n",
    "epochs = 5000\n",
    "\n",
    "\n",
    "lam_pde = 1\n",
    "\n",
    "lam_reg = 0\n",
    "lam_sfn = 1e-3\n",
    "\n",
    "from turboflow.models.phyrff_hard import DivFreeRFFNet\n",
    "model = DivFreeRFFNet('DivFree_SFN', \n",
    "                      mlp_layers, last_activation_fun,\n",
    "                      do_rff, fft_nfeat, fft_scale,\n",
    "                      smallest_increment, n_increments, n_centers,\n",
    "                      lam_reg=lam_reg, lam_pde=lam_pde, lam_sfn=lam_sfn,\n",
    "                      verbose=True)\n",
    "# TRAIN!\n",
    "model.to(device)\n",
    "model.fit(trainloader, epochs=epochs)\n",
    "results_dict[model.name] = evl.results_potential_to_dict(Xlr, Xmr, Xhr, Ulr, Umr, Uhr, model, device)"
   ]
  },
  {
   "cell_type": "code",
   "execution_count": null,
   "id": "f2c0cfda",
   "metadata": {},
   "outputs": [],
   "source": [
    "viz.plot_potential_wrapper_res_dict(results_dict['DivFreeNet_L2-1e-3'], title='L2 1e-3')\n",
    "plt.show()"
   ]
  },
  {
   "cell_type": "code",
   "execution_count": null,
   "id": "8ebc6e67",
   "metadata": {},
   "outputs": [],
   "source": [
    "viz.plot_model_losses(results_dict['DivFreeNet'], title=model.name)"
   ]
  },
  {
   "cell_type": "code",
   "execution_count": null,
   "id": "a9d1cc23",
   "metadata": {
    "scrolled": true
   },
   "outputs": [],
   "source": [
    "# model (RFF + MLP)\n",
    "do_rff = True\n",
    "fft_scale = 10\n",
    "fft_nfeat = 256\n",
    "\n",
    "nin = 2  # = x and y coordinates\n",
    "nout = 1 # = in the mlp we predict the potential, ux and uy components followed\n",
    "mlp_layers = [nin] + [256]*3 + [nout]\n",
    "last_activation_fun = torch.nn.Tanh()\n",
    "\n",
    "lam_pde = 1\n",
    "lam_reg = 0\n",
    "\n",
    "model = DivFreeRFFNet('DivFreeNet_L2-0', \n",
    "                      mlp_layers, last_activation_fun,\n",
    "                      do_rff, fft_nfeat, fft_scale,\n",
    "                      lam_reg=lam_reg, lam_pde=lam_pde)\n",
    "\n",
    "# TRAIN!\n",
    "model.to(device)\n",
    "model.fit(trainloader, epochs=5000) # we are not afraid to overfit the data, this is coord-based MLP!\n",
    "results_dict[model.name] = evl.results_potential_to_dict(Xlr, Xmr, Xhr, Ulr, Umr, Uhr, model, device)"
   ]
  },
  {
   "cell_type": "code",
   "execution_count": null,
   "id": "fb9a9017",
   "metadata": {
    "scrolled": false
   },
   "outputs": [],
   "source": [
    "# model (RFF + MLP)\n",
    "do_rff = True\n",
    "fft_scale = 10\n",
    "fft_nfeat = 256\n",
    "\n",
    "nin = 2  # = x and y coordinates\n",
    "nout = 1 # = in the mlp we predict the potential, ux and uy components followed\n",
    "mlp_layers = [nin] + [256]*3 + [nout]\n",
    "last_activation_fun = torch.nn.Tanh()\n",
    "\n",
    "lam_pde = 1\n",
    "lam_reg = 1e-2\n",
    "\n",
    "model = DivFreeRFFNet('DivFreeNet_L2-1e-2', \n",
    "                      mlp_layers, last_activation_fun,\n",
    "                      do_rff, fft_nfeat, fft_scale,\n",
    "                      lam_reg=lam_reg, lam_pde=lam_pde)\n",
    "\n",
    "# TRAIN!\n",
    "model.to(device)\n",
    "model.fit(trainloader, epochs=5000) # we are not afraid to overfit the data, this is coord-based MLP!\n",
    "results_dict[model.name] = evl.results_potential_to_dict(Xlr, Xmr, Xhr, Ulr, Umr, Uhr, model, device)"
   ]
  },
  {
   "cell_type": "code",
   "execution_count": null,
   "id": "9ad19b95",
   "metadata": {},
   "outputs": [],
   "source": [
    "viz.plot_potential_wrapper_res_dict(results_dict['DivFreeNet_L2-1e-3'], title='L2 1e-3')\n",
    "plt.show()\n",
    "viz.plot_potential_wrapper_res_dict(results_dict['DivFreeNet_L2-0'], title='L2 0')\n",
    "plt.show()"
   ]
  },
  {
   "cell_type": "code",
   "execution_count": null,
   "id": "941766a3",
   "metadata": {},
   "outputs": [],
   "source": [
    "u_dicts = [\n",
    "    {'vel':Ulr, 'size':L, 'label': r'$U_{gt}$ $64 \\times 64$', 'style': '--'},\n",
    "    {'vel':Uhr, 'size':H, 'label': r'$U_{gt}$ $256 \\times 256$', 'style': '--'},\n",
    "    \n",
    "    {'vel':results_dict['DivFreeNet_L2-1e-3']['LR']['u'], \n",
    "     'size':results_dict['DivFreeNet_L2-1e-3']['LR']['size'],\n",
    "     'label': r'$U_{pred}$ $64 \\times 64$', 'style': '-'},\n",
    "    {'vel':results_dict['DivFreeNet_L2-1e-3']['HR']['u'], \n",
    "     'size':results_dict['DivFreeNet_L2-1e-3']['HR']['size'], \n",
    "     'label': r'$U_{pred}$ $256 \\times 256$', 'style': '-'},\n",
    "    \n",
    "    {'vel':results_dict['DivFreeNet_L2-0']['LR']['u'], \n",
    "     'size':results_dict['DivFreeNet_L2-0']['LR']['size'],\n",
    "     'label': r'$U_{pred}$ $64 \\times 64$', 'style': '-'},\n",
    "    {'vel':results_dict['DivFreeNet_L2-0']['HR']['u'], \n",
    "     'size':results_dict['DivFreeNet_L2-0']['HR']['size'], \n",
    "     'label': r'$U_{pred}$ $256 \\times 256$', 'style': '-'},\n",
    "]\n",
    "\n",
    "viz.plot_energy_spectra(u_dicts, title='Energy Spectra')\n",
    "plt.show()"
   ]
  },
  {
   "cell_type": "markdown",
   "id": "889b88ac",
   "metadata": {},
   "source": [
    "### Plot results and compare the two metods graphically"
   ]
  },
  {
   "cell_type": "code",
   "execution_count": null,
   "id": "955e3f3d",
   "metadata": {},
   "outputs": [],
   "source": [
    "viz.plot_model_losses(results_dict['DivFreeNet'], title=model.name)\n",
    "plt.show()\n",
    "viz.plot_model_losses(results_dict['DivFreeNet_RFF'], title=model.name)\n",
    "plt.show()"
   ]
  },
  {
   "cell_type": "code",
   "execution_count": null,
   "id": "7b92de07",
   "metadata": {},
   "outputs": [],
   "source": [
    "viz.plot_lr_hr_inset(Ulr, Uhr, L, H, title='GroundTruth RFF')\n",
    "plt.show()\n",
    "viz.plot_lr_hr_inset_wrapper_res_dict(results_dict['DivFreeNet'], title='Predition without RFF')\n",
    "plt.show()\n",
    "viz.plot_lr_hr_inset_wrapper_res_dict(results_dict['DivFreeNet_RFF'], title='Predition with RFF')\n",
    "plt.show()"
   ]
  },
  {
   "cell_type": "code",
   "execution_count": null,
   "id": "15884c4e",
   "metadata": {},
   "outputs": [],
   "source": [
    "viz.plot_lr_hr_inset_error_wrapper_res_dict(results_dict['DivFreeNet'], title='Error [ABS] without RFF')\n",
    "plt.show()\n",
    "viz.plot_lr_hr_inset_error_wrapper_res_dict(results_dict['DivFreeNet_RFF'], title='Error [ABS] with RFF')\n",
    "plt.show()"
   ]
  },
  {
   "cell_type": "code",
   "execution_count": null,
   "id": "7b5a5f89",
   "metadata": {},
   "outputs": [],
   "source": [
    "viz.plot_velocity_field_wrapper_res_dict(results_dict['DivFreeNet'], title='Predicted Velocity Field', step_lr=1, scale_lr=15, step_hr=4, scale_hr=5)\n",
    "plt.show()\n",
    "viz.plot_velocity_field_wrapper_res_dict(results_dict['DivFreeNet_RFF'], title='Predicted Velocity Field', step_lr=1, scale_lr=15, step_hr=4, scale_hr=5)\n",
    "plt.show()"
   ]
  },
  {
   "cell_type": "code",
   "execution_count": null,
   "id": "f90fe833",
   "metadata": {},
   "outputs": [],
   "source": [
    "viz.plot_potential_wrapper_res_dict(results_dict['DivFreeNet'], title='Without RFF')\n",
    "plt.show()\n",
    "viz.plot_potential_wrapper_res_dict(results_dict['DivFreeNet_RFF'], title='With RFF')\n",
    "plt.show()"
   ]
  },
  {
   "cell_type": "code",
   "execution_count": null,
   "id": "7207de0e",
   "metadata": {},
   "outputs": [],
   "source": [
    "u_dicts = [\n",
    "    {'vel':Ulr, 'size':L, 'label': r'$U_{gt}$ $64 \\times 64$', 'style': '--'},\n",
    "    {'vel':Uhr, 'size':H, 'label': r'$U_{gt}$ $256 \\times 256$', 'style': '--'},\n",
    "    \n",
    "    { 'vel':results_dict['DivFreeNet']['LR']['u'], \n",
    "     'size':results_dict['DivFreeNet']['LR']['size'],\n",
    "     'label': r'NoRFF $U_{pred}$ $64 \\times 64$', 'style': '-'},\n",
    "    { 'vel':results_dict['DivFreeNet']['HR']['u'], \n",
    "     'size':results_dict['DivFreeNet']['HR']['size'], \n",
    "     'label': r'NoRFF $U_{pred}$ $256 \\times 256$', 'style': '-'},\n",
    "    \n",
    "    { 'vel':results_dict['DivFreeNet_RFF']['LR']['u'], \n",
    "     'size':results_dict['DivFreeNet_RFF']['LR']['size'],\n",
    "     'label': r'RFF $U_{pred}$ $64 \\times 64$', 'style': '-'},\n",
    "    { 'vel':results_dict['DivFreeNet_RFF']['HR']['u'], \n",
    "     'size':results_dict['DivFreeNet_RFF']['HR']['size'], \n",
    "     'label': r'RFF $U_{pred}$ $256 \\times 256$', 'style': '-'},\n",
    "]\n",
    "\n",
    "viz.plot_energy_spectra(u_dicts, title='Energy Spectra')\n",
    "plt.show()"
   ]
  },
  {
   "cell_type": "markdown",
   "id": "09a6da7b",
   "metadata": {},
   "source": [
    "## Nonlinearity at the output\n",
    "\n",
    "### For-loop on ELU, ReLU, LeakyReLU, Tanh and Sigmoid"
   ]
  },
  {
   "cell_type": "code",
   "execution_count": null,
   "id": "6e712327",
   "metadata": {},
   "outputs": [],
   "source": [
    "# model (RFF + MLP)\n",
    "do_rff = True\n",
    "fft_scale = 10\n",
    "fft_nfeat = 256\n",
    "\n",
    "nin = 2  # = x and y coordinates\n",
    "nout = 1 # = in the mlp we predict the potential, ux and uy components followed\n",
    "mlp_layers = [nin] + [256]*3 + [nout]\n",
    "last_activation_funs = {'ELU' : torch.nn.ELU(), \n",
    "                        'ReLU' : torch.nn.ReLU(),\n",
    "                        'LeakyReLU' : torch.nn.LeakyReLU(),\n",
    "                        'Tanh' : torch.nn.Tanh(),\n",
    "                        'Sigmoid' : torch.nn.Sigmoid()}\n",
    "hardcoded_divfree = False\n",
    "\n",
    "for key in last_activation_funs:\n",
    "    \n",
    "    print(key)\n",
    "    \n",
    "    do_rff = True\n",
    "    fft_scale = 10\n",
    "    fft_nfeat = 256\n",
    "\n",
    "    nin = 2  # = x and y coordinates\n",
    "    nout = 1 # = in the mlp we predict the potential, ux and uy components followed\n",
    "    mlp_layers = [nin] + [256]*3 + [nout]\n",
    "\n",
    "    model = DivFreeRFFNet('DivFreeNet_RFF_%s' % key, \n",
    "                          mlp_layers, last_activation_funs[key],\n",
    "                          do_rff, fft_nfeat, fft_scale, verbose=False)\n",
    "\n",
    "    # TRAIN!\n",
    "    model.to(device)\n",
    "    model.fit(trainloader, epochs=3000) # we are not afraid to overfit the data, this is coord-based MLP!\n",
    "    results_dict[model.name] = evl.results_potential_to_dict(Xlr, Xmr, Xhr, Ulr, Umr, Uhr, model, device)"
   ]
  },
  {
   "cell_type": "markdown",
   "id": "bb13eac7",
   "metadata": {},
   "source": [
    "### Inspect results"
   ]
  },
  {
   "cell_type": "code",
   "execution_count": null,
   "id": "fdd1664c",
   "metadata": {
    "scrolled": false
   },
   "outputs": [],
   "source": [
    "for key in last_activation_funs:\n",
    "    key = 'DivFreeNet_RFF_%s' % key\n",
    "    viz.plot_potential_wrapper_res_dict(results_dict[key], title=key)\n",
    "    plt.show()"
   ]
  },
  {
   "cell_type": "markdown",
   "id": "7181ab39",
   "metadata": {},
   "source": [
    "### Show errors"
   ]
  },
  {
   "cell_type": "code",
   "execution_count": null,
   "id": "184f4b19",
   "metadata": {
    "scrolled": false
   },
   "outputs": [],
   "source": [
    "for key in last_activation_funs:\n",
    "    key = 'DivFreeNet_RFF_%s' % key\n",
    "    viz.plot_lr_hr_inset_error_wrapper_res_dict(results_dict[key], title='Error [ABS] with %s' % key)\n",
    "    plt.show()"
   ]
  },
  {
   "cell_type": "code",
   "execution_count": null,
   "id": "ae9e88bc",
   "metadata": {},
   "outputs": [],
   "source": []
  }
 ],
 "metadata": {
  "kernelspec": {
   "display_name": "Python 3 (ipykernel)",
   "language": "python",
   "name": "python3"
  },
  "language_info": {
   "codemirror_mode": {
    "name": "ipython",
    "version": 3
   },
   "file_extension": ".py",
   "mimetype": "text/x-python",
   "name": "python",
   "nbconvert_exporter": "python",
   "pygments_lexer": "ipython3",
   "version": "3.8.5"
  }
 },
 "nbformat": 4,
 "nbformat_minor": 5
}
