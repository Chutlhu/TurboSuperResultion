{
 "cells": [
  {
   "cell_type": "code",
   "execution_count": 1,
   "id": "94df610c",
   "metadata": {},
   "outputs": [],
   "source": [
    "%load_ext autoreload\n",
    "%autoreload 2"
   ]
  },
  {
   "cell_type": "code",
   "execution_count": 2,
   "id": "76a2852b",
   "metadata": {},
   "outputs": [],
   "source": [
    "import torch\n",
    "from turboflow.utils import phy_utils as phy\n",
    "import matplotlib.pyplot as plt"
   ]
  },
  {
   "cell_type": "code",
   "execution_count": 3,
   "id": "78c3c6d9",
   "metadata": {},
   "outputs": [],
   "source": [
    "H = 256"
   ]
  },
  {
   "cell_type": "code",
   "execution_count": 4,
   "id": "79e284c7",
   "metadata": {},
   "outputs": [
    {
     "data": {
      "text/plain": [
       "[<matplotlib.lines.Line2D at 0x7f538fd8d3a0>]"
      ]
     },
     "execution_count": 4,
     "metadata": {},
     "output_type": "execute_result"
    },
    {
     "data": {
      "image/png": "[encoded data removed]",
      "text/plain": [
       "<Figure size 432x288 with 1 Axes>"
      ]
     },
     "metadata": {
      "needs_background": "light"
     },
     "output_type": "display_data"
    }
   ],
   "source": [
    "spec_ns, k_ns = phy.energy_spectrum(torch.randn(2,H,H))\n",
    "\n",
    "plt.loglog(k_ns, spec_ns)"
   ]
  },
  {
   "cell_type": "code",
   "execution_count": 7,
   "id": "9d61478f",
   "metadata": {},
   "outputs": [
    {
     "name": "stdout",
     "output_type": "stream",
     "text": [
      "tensor([ 0.0000,  0.0039,  0.0078,  0.0117,  0.0156,  0.0195,  0.0234,  0.0273,\n",
      "         0.0312,  0.0352,  0.0391,  0.0430,  0.0469,  0.0508,  0.0547,  0.0586,\n",
      "         0.0625,  0.0664,  0.0703,  0.0742,  0.0781,  0.0820,  0.0859,  0.0898,\n",
      "         0.0938,  0.0977,  0.1016,  0.1055,  0.1094,  0.1133,  0.1172,  0.1211,\n",
      "         0.1250,  0.1289,  0.1328,  0.1367,  0.1406,  0.1445,  0.1484,  0.1523,\n",
      "         0.1562,  0.1602,  0.1641,  0.1680,  0.1719,  0.1758,  0.1797,  0.1836,\n",
      "         0.1875,  0.1914,  0.1953,  0.1992,  0.2031,  0.2070,  0.2109,  0.2148,\n",
      "         0.2188,  0.2227,  0.2266,  0.2305,  0.2344,  0.2383,  0.2422,  0.2461,\n",
      "         0.2500,  0.2539,  0.2578,  0.2617,  0.2656,  0.2695,  0.2734,  0.2773,\n",
      "         0.2812,  0.2852,  0.2891,  0.2930,  0.2969,  0.3008,  0.3047,  0.3086,\n",
      "         0.3125,  0.3164,  0.3203,  0.3242,  0.3281,  0.3320,  0.3359,  0.3398,\n",
      "         0.3438,  0.3477,  0.3516,  0.3555,  0.3594,  0.3633,  0.3672,  0.3711,\n",
      "         0.3750,  0.3789,  0.3828,  0.3867,  0.3906,  0.3945,  0.3984,  0.4023,\n",
      "         0.4062,  0.4102,  0.4141,  0.4180,  0.4219,  0.4258,  0.4297,  0.4336,\n",
      "         0.4375,  0.4414,  0.4453,  0.4492,  0.4531,  0.4570,  0.4609,  0.4648,\n",
      "         0.4688,  0.4727,  0.4766,  0.4805,  0.4844,  0.4883,  0.4922,  0.4961,\n",
      "        -0.5000, -0.4961, -0.4922, -0.4883, -0.4844, -0.4805, -0.4766, -0.4727,\n",
      "        -0.4688, -0.4648, -0.4609, -0.4570, -0.4531, -0.4492, -0.4453, -0.4414,\n",
      "        -0.4375, -0.4336, -0.4297, -0.4258, -0.4219, -0.4180, -0.4141, -0.4102,\n",
      "        -0.4062, -0.4023, -0.3984, -0.3945, -0.3906, -0.3867, -0.3828, -0.3789,\n",
      "        -0.3750, -0.3711, -0.3672, -0.3633, -0.3594, -0.3555, -0.3516, -0.3477,\n",
      "        -0.3438, -0.3398, -0.3359, -0.3320, -0.3281, -0.3242, -0.3203, -0.3164,\n",
      "        -0.3125, -0.3086, -0.3047, -0.3008, -0.2969, -0.2930, -0.2891, -0.2852,\n",
      "        -0.2812, -0.2773, -0.2734, -0.2695, -0.2656, -0.2617, -0.2578, -0.2539,\n",
      "        -0.2500, -0.2461, -0.2422, -0.2383, -0.2344, -0.2305, -0.2266, -0.2227,\n",
      "        -0.2188, -0.2148, -0.2109, -0.2070, -0.2031, -0.1992, -0.1953, -0.1914,\n",
      "        -0.1875, -0.1836, -0.1797, -0.1758, -0.1719, -0.1680, -0.1641, -0.1602,\n",
      "        -0.1562, -0.1523, -0.1484, -0.1445, -0.1406, -0.1367, -0.1328, -0.1289,\n",
      "        -0.1250, -0.1211, -0.1172, -0.1133, -0.1094, -0.1055, -0.1016, -0.0977,\n",
      "        -0.0938, -0.0898, -0.0859, -0.0820, -0.0781, -0.0742, -0.0703, -0.0664,\n",
      "        -0.0625, -0.0586, -0.0547, -0.0508, -0.0469, -0.0430, -0.0391, -0.0352,\n",
      "        -0.0312, -0.0273, -0.0234, -0.0195, -0.0156, -0.0117, -0.0078, -0.0039])\n"
     ]
    },
    {
     "ename": "NameError",
     "evalue": "name 'k_end' is not defined",
     "output_type": "error",
     "traceback": [
      "\u001b[0;31m---------------------------------------------------------------------------\u001b[0m",
      "\u001b[0;31mNameError\u001b[0m                                 Traceback (most recent call last)",
      "\u001b[0;32m/tmp/ipykernel_1130248/1596050225.py\u001b[0m in \u001b[0;36m<module>\u001b[0;34m\u001b[0m\n\u001b[0;32m----> 1\u001b[0;31m \u001b[0mfspec_ns\u001b[0m\u001b[0;34m,\u001b[0m \u001b[0mfk_ns\u001b[0m \u001b[0;34m=\u001b[0m \u001b[0mphy\u001b[0m\u001b[0;34m.\u001b[0m\u001b[0mfast_energy_spectrum\u001b[0m\u001b[0;34m(\u001b[0m\u001b[0mtorch\u001b[0m\u001b[0;34m.\u001b[0m\u001b[0mrandn\u001b[0m\u001b[0;34m(\u001b[0m\u001b[0;36m2\u001b[0m\u001b[0;34m,\u001b[0m\u001b[0mH\u001b[0m\u001b[0;34m,\u001b[0m\u001b[0mH\u001b[0m\u001b[0;34m)\u001b[0m\u001b[0;34m)\u001b[0m\u001b[0;34m\u001b[0m\u001b[0;34m\u001b[0m\u001b[0m\n\u001b[0m\u001b[1;32m      2\u001b[0m \u001b[0;34m\u001b[0m\u001b[0m\n\u001b[1;32m      3\u001b[0m \u001b[0;31m# plt.loglog(fk_ns, fspec_ns)\u001b[0m\u001b[0;34m\u001b[0m\u001b[0;34m\u001b[0m\u001b[0;34m\u001b[0m\u001b[0m\n",
      "\u001b[0;32m~/Documents/Code/TurboSuperResultion/turboflow/utils/phy_utils.py\u001b[0m in \u001b[0;36mfast_energy_spectrum\u001b[0;34m(uv)\u001b[0m\n\u001b[1;32m    228\u001b[0m     \u001b[0mprint\u001b[0m\u001b[0;34m(\u001b[0m\u001b[0mk\u001b[0m\u001b[0;34m)\u001b[0m\u001b[0;34m\u001b[0m\u001b[0;34m\u001b[0m\u001b[0m\n\u001b[1;32m    229\u001b[0m     \u001b[0mrad\u001b[0m \u001b[0;34m=\u001b[0m \u001b[0mtorch\u001b[0m\u001b[0;34m.\u001b[0m\u001b[0mnorm\u001b[0m\u001b[0;34m(\u001b[0m\u001b[0mk\u001b[0m\u001b[0;34m,\u001b[0m \u001b[0mdim\u001b[0m\u001b[0;34m=\u001b[0m\u001b[0;36m0\u001b[0m\u001b[0;34m)\u001b[0m \u001b[0;31m# (res, res, res)\u001b[0m\u001b[0;34m\u001b[0m\u001b[0;34m\u001b[0m\u001b[0m\n\u001b[0;32m--> 230\u001b[0;31m     \u001b[0mk_bin\u001b[0m \u001b[0;34m=\u001b[0m \u001b[0mtorch\u001b[0m\u001b[0;34m.\u001b[0m\u001b[0marange\u001b[0m\u001b[0;34m(\u001b[0m\u001b[0mk_end\u001b[0m\u001b[0;34m,\u001b[0m \u001b[0mdevice\u001b[0m\u001b[0;34m=\u001b[0m\u001b[0mdevice\u001b[0m\u001b[0;34m)\u001b[0m\u001b[0;34m.\u001b[0m\u001b[0mfloat\u001b[0m\u001b[0;34m(\u001b[0m\u001b[0;34m)\u001b[0m\u001b[0;34m+\u001b[0m\u001b[0;36m1\u001b[0m\u001b[0;34m\u001b[0m\u001b[0;34m\u001b[0m\u001b[0m\n\u001b[0m\u001b[1;32m    231\u001b[0m     \u001b[0mbins\u001b[0m \u001b[0;34m=\u001b[0m \u001b[0mtorch\u001b[0m\u001b[0;34m.\u001b[0m\u001b[0mzeros\u001b[0m\u001b[0;34m(\u001b[0m\u001b[0mk_end\u001b[0m\u001b[0;34m+\u001b[0m\u001b[0;36m1\u001b[0m\u001b[0;34m)\u001b[0m\u001b[0;34m.\u001b[0m\u001b[0mto\u001b[0m\u001b[0;34m(\u001b[0m\u001b[0mdevice\u001b[0m\u001b[0;34m)\u001b[0m\u001b[0;34m\u001b[0m\u001b[0;34m\u001b[0m\u001b[0m\n\u001b[1;32m    232\u001b[0m     \u001b[0mbins\u001b[0m\u001b[0;34m[\u001b[0m\u001b[0;36m1\u001b[0m\u001b[0;34m:\u001b[0m\u001b[0;34m-\u001b[0m\u001b[0;36m1\u001b[0m\u001b[0;34m]\u001b[0m \u001b[0;34m=\u001b[0m \u001b[0;34m(\u001b[0m\u001b[0mk_bin\u001b[0m\u001b[0;34m[\u001b[0m\u001b[0;36m1\u001b[0m\u001b[0;34m:\u001b[0m\u001b[0;34m]\u001b[0m\u001b[0;34m+\u001b[0m\u001b[0mk_bin\u001b[0m\u001b[0;34m[\u001b[0m\u001b[0;34m:\u001b[0m\u001b[0;34m-\u001b[0m\u001b[0;36m1\u001b[0m\u001b[0;34m]\u001b[0m\u001b[0;34m)\u001b[0m\u001b[0;34m/\u001b[0m\u001b[0;36m2\u001b[0m\u001b[0;34m\u001b[0m\u001b[0;34m\u001b[0m\u001b[0m\n",
      "\u001b[0;31mNameError\u001b[0m: name 'k_end' is not defined"
     ]
    }
   ],
   "source": [
    "fspec_ns, fk_ns = phy.fast_energy_spectrum(torch.randn(2,H,H))\n",
    "\n",
    "# plt.loglog(fk_ns, fspec_ns)"
   ]
  },
  {
   "cell_type": "code",
   "execution_count": null,
   "id": "c7009d71",
   "metadata": {},
   "outputs": [],
   "source": []
  }
 ],
 "metadata": {
  "kernelspec": {
   "display_name": "Python 3 (ipykernel)",
   "language": "python",
   "name": "python3"
  },
  "language_info": {
   "codemirror_mode": {
    "name": "ipython",
    "version": 3
   },
   "file_extension": ".py",
   "mimetype": "text/x-python",
   "name": "python",
   "nbconvert_exporter": "python",
   "pygments_lexer": "ipython3",
   "version": "3.8.5"
  }
 },
 "nbformat": 4,
 "nbformat_minor": 5
}
