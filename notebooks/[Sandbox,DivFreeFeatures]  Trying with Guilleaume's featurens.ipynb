{
 "cells": [
  {
   "cell_type": "markdown",
   "id": "1aef5d12",
   "metadata": {},
   "source": [
    "# Using Guilleaume \n",
    "\n",
    "**Problem**: RFFNet converged to a Kernel. Is it possible to re-use and make it divfree?\n",
    "\n",
    "**method**:\n",
    "1. pre-train a vanilla RFFNet\n",
    "2. use the divfree kernel\n",
    "3. is the loss function complicated? visualize it!"
   ]
  },
  {
   "cell_type": "code",
   "execution_count": 1,
   "id": "6328122a",
   "metadata": {},
   "outputs": [],
   "source": [
    "%load_ext autoreload\n",
    "%autoreload 2"
   ]
  },
  {
   "cell_type": "code",
   "execution_count": 2,
   "id": "f8824f08",
   "metadata": {},
   "outputs": [],
   "source": [
    "import matplotlib.pyplot as plt"
   ]
  },
  {
   "cell_type": "code",
   "execution_count": 3,
   "id": "046de65b",
   "metadata": {},
   "outputs": [],
   "source": [
    "from argparse import Namespace\n",
    "from pathlib import Path\n",
    "import torch\n",
    "from pytorch_lightning.trainer import Trainer, seed_everything\n",
    "from pytorch_lightning.callbacks import EarlyStopping, ModelCheckpoint\n",
    "\n",
    "from turboflow.dataloaders import TurboFlowDataModule\n",
    "from turboflow.evaluation import compute_all_metrics\n",
    "\n",
    "from turboflow.utils import phy_utils as phy\n",
    "from turboflow.utils import torch_utils as tch"
   ]
  },
  {
   "cell_type": "code",
   "execution_count": 4,
   "id": "dc8bb501",
   "metadata": {},
   "outputs": [
    {
     "name": "stderr",
     "output_type": "stream",
     "text": [
      "Global seed set to 42\n"
     ]
    },
    {
     "data": {
      "text/plain": [
       "42"
      ]
     },
     "execution_count": 4,
     "metadata": {},
     "output_type": "execute_result"
    }
   ],
   "source": [
    "seed_everything(42, workers=True)"
   ]
  },
  {
   "cell_type": "code",
   "execution_count": 5,
   "id": "7ed20650",
   "metadata": {},
   "outputs": [],
   "source": [
    "# load dataset\n",
    "data_dir = Path('/','home','dicarlo_d','Documents','Datasets','Turb2D.hdf5')\n",
    "dm = TurboFlowDataModule(dataset='Turb2D', \n",
    "                         data_dir=data_dir,\n",
    "                         batch_size=100000,\n",
    "                         time_idx=33,\n",
    "                         train_downsampling=32,\n",
    "                         val_downsampling=32,\n",
    "                         test_downsampling=16,\n",
    "                         num_workers=1)\n",
    "dm.setup()"
   ]
  },
  {
   "cell_type": "code",
   "execution_count": 22,
   "id": "9ab9c059",
   "metadata": {},
   "outputs": [],
   "source": [
    "# choose the hyperparams\n",
    "hparams = {\n",
    "    'name':'RFFNet',\n",
    "    'mlp_layers_num': 3,\n",
    "    'mlp_layers_dim': 256, \n",
    "    'mlp_last_actfn': 'tanh',\n",
    "    'do_rff': True, \n",
    "    'rff_num': 1024, \n",
    "    'rff_scale': 10,\n",
    "    'do_kdivfree': True,\n",
    "    'kdivfree_epoch': 1000,\n",
    "    'lam_pde': 0,  # soft constr. grad(u,v)=0\n",
    "    'lam_div': 0,     # spatial grad(u,v) = torch.autograd(u,v)\n",
    "    'lam_reg': 0,     # offgrid L2 reg. on grad of the potential\n",
    "    'lam_sfn': 0,     # offgrid L2 reg. on Sfun\n",
    "    'lam_spec': 0,    # L2 reg on the spectrum\n",
    "    'lam_weight': 0,  # L2 reg on the NN's weights\n",
    "    'sfn_min_x': 0.00784314,\n",
    "    'sfn_num_centers': 50,\n",
    "    'sfn_num_increments':3,\n",
    "    'sfn_patch_dim': 30\n",
    "}"
   ]
  },
  {
   "cell_type": "code",
   "execution_count": 23,
   "id": "bdef8b72",
   "metadata": {
    "scrolled": false
   },
   "outputs": [
    {
     "name": "stderr",
     "output_type": "stream",
     "text": [
      "GPU available: True, used: True\n",
      "TPU available: False, using: 0 TPU cores\n",
      "IPU available: False, using: 0 IPUs\n"
     ]
    }
   ],
   "source": [
    "early_stop_callback = EarlyStopping(monitor='val_loss')\n",
    "checkpoint_callback = ModelCheckpoint(\n",
    "    monitor=\"val_loss\",\n",
    "    dirpath=\".torch_checkpoints\",\n",
    "    filename=\"Turb2D-%s-{epoch:02d}-{val_loss:.2f}\" % (hparams['name']),\n",
    "    save_top_k=1,\n",
    "    mode=\"min\",\n",
    ")\n",
    "\n",
    "trainer = Trainer(gpus=1,\n",
    "                  max_epochs=5000, \n",
    "                  log_every_n_steps=20,\n",
    "                  check_val_every_n_epoch=20, \n",
    "                  callbacks=[early_stop_callback,\n",
    "                             checkpoint_callback])\n",
    "\n",
    "from turboflow.models.phyrff_khard import plDivFreeRFFNet\n",
    "model = plDivFreeRFFNet(**vars(Namespace(**hparams)))"
   ]
  },
  {
   "cell_type": "code",
   "execution_count": 24,
   "id": "d78b3f49",
   "metadata": {
    "scrolled": false
   },
   "outputs": [
    {
     "name": "stderr",
     "output_type": "stream",
     "text": [
      "LOCAL_RANK: 0 - CUDA_VISIBLE_DEVICES: [0]\n",
      "\n",
      "  | Name | Type           | Params\n",
      "----------------------------------------\n",
      "0 | rff  | Fourier        | 2.0 K \n",
      "1 | f2D  | DivFree2DBasis | 0     \n",
      "2 | mlp  | MLP            | 337 K \n",
      "----------------------------------------\n",
      "337 K     Trainable params\n",
      "2.0 K     Non-trainable params\n",
      "339 K     Total params\n",
      "1.357     Total estimated model params size (MB)\n"
     ]
    },
    {
     "data": {
      "application/vnd.jupyter.widget-view+json": {
       "model_id": "",
       "version_major": 2,
       "version_minor": 0
      },
      "text/plain": [
       "Validation sanity check: 0it [00:00, ?it/s]"
      ]
     },
     "metadata": {},
     "output_type": "display_data"
    },
    {
     "name": "stderr",
     "output_type": "stream",
     "text": [
      "Global seed set to 42\n"
     ]
    },
    {
     "data": {
      "application/vnd.jupyter.widget-view+json": {
       "model_id": "1b65e3f75ea5408ebb132783acce557d",
       "version_major": 2,
       "version_minor": 0
      },
      "text/plain": [
       "Training: -1it [00:00, ?it/s]"
      ]
     },
     "metadata": {},
     "output_type": "display_data"
    },
    {
     "data": {
      "application/vnd.jupyter.widget-view+json": {
       "model_id": "",
       "version_major": 2,
       "version_minor": 0
      },
      "text/plain": [
       "Validating: 0it [00:00, ?it/s]"
      ]
     },
     "metadata": {},
     "output_type": "display_data"
    },
    {
     "data": {
      "application/vnd.jupyter.widget-view+json": {
       "model_id": "",
       "version_major": 2,
       "version_minor": 0
      },
      "text/plain": [
       "Validating: 0it [00:00, ?it/s]"
      ]
     },
     "metadata": {},
     "output_type": "display_data"
    },
    {
     "data": {
      "application/vnd.jupyter.widget-view+json": {
       "model_id": "",
       "version_major": 2,
       "version_minor": 0
      },
      "text/plain": [
       "Validating: 0it [00:00, ?it/s]"
      ]
     },
     "metadata": {},
     "output_type": "display_data"
    },
    {
     "data": {
      "application/vnd.jupyter.widget-view+json": {
       "model_id": "",
       "version_major": 2,
       "version_minor": 0
      },
      "text/plain": [
       "Validating: 0it [00:00, ?it/s]"
      ]
     },
     "metadata": {},
     "output_type": "display_data"
    },
    {
     "data": {
      "application/vnd.jupyter.widget-view+json": {
       "model_id": "",
       "version_major": 2,
       "version_minor": 0
      },
      "text/plain": [
       "Validating: 0it [00:00, ?it/s]"
      ]
     },
     "metadata": {},
     "output_type": "display_data"
    },
    {
     "data": {
      "application/vnd.jupyter.widget-view+json": {
       "model_id": "",
       "version_major": 2,
       "version_minor": 0
      },
      "text/plain": [
       "Validating: 0it [00:00, ?it/s]"
      ]
     },
     "metadata": {},
     "output_type": "display_data"
    },
    {
     "data": {
      "application/vnd.jupyter.widget-view+json": {
       "model_id": "",
       "version_major": 2,
       "version_minor": 0
      },
      "text/plain": [
       "Validating: 0it [00:00, ?it/s]"
      ]
     },
     "metadata": {},
     "output_type": "display_data"
    },
    {
     "data": {
      "application/vnd.jupyter.widget-view+json": {
       "model_id": "",
       "version_major": 2,
       "version_minor": 0
      },
      "text/plain": [
       "Validating: 0it [00:00, ?it/s]"
      ]
     },
     "metadata": {},
     "output_type": "display_data"
    },
    {
     "data": {
      "application/vnd.jupyter.widget-view+json": {
       "model_id": "",
       "version_major": 2,
       "version_minor": 0
      },
      "text/plain": [
       "Validating: 0it [00:00, ?it/s]"
      ]
     },
     "metadata": {},
     "output_type": "display_data"
    },
    {
     "data": {
      "application/vnd.jupyter.widget-view+json": {
       "model_id": "",
       "version_major": 2,
       "version_minor": 0
      },
      "text/plain": [
       "Validating: 0it [00:00, ?it/s]"
      ]
     },
     "metadata": {},
     "output_type": "display_data"
    },
    {
     "data": {
      "application/vnd.jupyter.widget-view+json": {
       "model_id": "",
       "version_major": 2,
       "version_minor": 0
      },
      "text/plain": [
       "Validating: 0it [00:00, ?it/s]"
      ]
     },
     "metadata": {},
     "output_type": "display_data"
    },
    {
     "data": {
      "application/vnd.jupyter.widget-view+json": {
       "model_id": "",
       "version_major": 2,
       "version_minor": 0
      },
      "text/plain": [
       "Validating: 0it [00:00, ?it/s]"
      ]
     },
     "metadata": {},
     "output_type": "display_data"
    },
    {
     "data": {
      "application/vnd.jupyter.widget-view+json": {
       "model_id": "",
       "version_major": 2,
       "version_minor": 0
      },
      "text/plain": [
       "Validating: 0it [00:00, ?it/s]"
      ]
     },
     "metadata": {},
     "output_type": "display_data"
    },
    {
     "data": {
      "application/vnd.jupyter.widget-view+json": {
       "model_id": "",
       "version_major": 2,
       "version_minor": 0
      },
      "text/plain": [
       "Validating: 0it [00:00, ?it/s]"
      ]
     },
     "metadata": {},
     "output_type": "display_data"
    },
    {
     "data": {
      "application/vnd.jupyter.widget-view+json": {
       "model_id": "",
       "version_major": 2,
       "version_minor": 0
      },
      "text/plain": [
       "Validating: 0it [00:00, ?it/s]"
      ]
     },
     "metadata": {},
     "output_type": "display_data"
    },
    {
     "data": {
      "application/vnd.jupyter.widget-view+json": {
       "model_id": "",
       "version_major": 2,
       "version_minor": 0
      },
      "text/plain": [
       "Validating: 0it [00:00, ?it/s]"
      ]
     },
     "metadata": {},
     "output_type": "display_data"
    },
    {
     "data": {
      "application/vnd.jupyter.widget-view+json": {
       "model_id": "",
       "version_major": 2,
       "version_minor": 0
      },
      "text/plain": [
       "Validating: 0it [00:00, ?it/s]"
      ]
     },
     "metadata": {},
     "output_type": "display_data"
    },
    {
     "data": {
      "application/vnd.jupyter.widget-view+json": {
       "model_id": "",
       "version_major": 2,
       "version_minor": 0
      },
      "text/plain": [
       "Validating: 0it [00:00, ?it/s]"
      ]
     },
     "metadata": {},
     "output_type": "display_data"
    },
    {
     "data": {
      "application/vnd.jupyter.widget-view+json": {
       "model_id": "",
       "version_major": 2,
       "version_minor": 0
      },
      "text/plain": [
       "Validating: 0it [00:00, ?it/s]"
      ]
     },
     "metadata": {},
     "output_type": "display_data"
    },
    {
     "data": {
      "application/vnd.jupyter.widget-view+json": {
       "model_id": "",
       "version_major": 2,
       "version_minor": 0
      },
      "text/plain": [
       "Validating: 0it [00:00, ?it/s]"
      ]
     },
     "metadata": {},
     "output_type": "display_data"
    },
    {
     "data": {
      "application/vnd.jupyter.widget-view+json": {
       "model_id": "",
       "version_major": 2,
       "version_minor": 0
      },
      "text/plain": [
       "Validating: 0it [00:00, ?it/s]"
      ]
     },
     "metadata": {},
     "output_type": "display_data"
    },
    {
     "data": {
      "application/vnd.jupyter.widget-view+json": {
       "model_id": "",
       "version_major": 2,
       "version_minor": 0
      },
      "text/plain": [
       "Validating: 0it [00:00, ?it/s]"
      ]
     },
     "metadata": {},
     "output_type": "display_data"
    },
    {
     "data": {
      "application/vnd.jupyter.widget-view+json": {
       "model_id": "",
       "version_major": 2,
       "version_minor": 0
      },
      "text/plain": [
       "Validating: 0it [00:00, ?it/s]"
      ]
     },
     "metadata": {},
     "output_type": "display_data"
    },
    {
     "data": {
      "application/vnd.jupyter.widget-view+json": {
       "model_id": "",
       "version_major": 2,
       "version_minor": 0
      },
      "text/plain": [
       "Validating: 0it [00:00, ?it/s]"
      ]
     },
     "metadata": {},
     "output_type": "display_data"
    },
    {
     "data": {
      "application/vnd.jupyter.widget-view+json": {
       "model_id": "",
       "version_major": 2,
       "version_minor": 0
      },
      "text/plain": [
       "Validating: 0it [00:00, ?it/s]"
      ]
     },
     "metadata": {},
     "output_type": "display_data"
    },
    {
     "data": {
      "application/vnd.jupyter.widget-view+json": {
       "model_id": "",
       "version_major": 2,
       "version_minor": 0
      },
      "text/plain": [
       "Validating: 0it [00:00, ?it/s]"
      ]
     },
     "metadata": {},
     "output_type": "display_data"
    },
    {
     "data": {
      "application/vnd.jupyter.widget-view+json": {
       "model_id": "",
       "version_major": 2,
       "version_minor": 0
      },
      "text/plain": [
       "Validating: 0it [00:00, ?it/s]"
      ]
     },
     "metadata": {},
     "output_type": "display_data"
    },
    {
     "data": {
      "application/vnd.jupyter.widget-view+json": {
       "model_id": "",
       "version_major": 2,
       "version_minor": 0
      },
      "text/plain": [
       "Validating: 0it [00:00, ?it/s]"
      ]
     },
     "metadata": {},
     "output_type": "display_data"
    },
    {
     "data": {
      "application/vnd.jupyter.widget-view+json": {
       "model_id": "",
       "version_major": 2,
       "version_minor": 0
      },
      "text/plain": [
       "Validating: 0it [00:00, ?it/s]"
      ]
     },
     "metadata": {},
     "output_type": "display_data"
    },
    {
     "data": {
      "application/vnd.jupyter.widget-view+json": {
       "model_id": "",
       "version_major": 2,
       "version_minor": 0
      },
      "text/plain": [
       "Validating: 0it [00:00, ?it/s]"
      ]
     },
     "metadata": {},
     "output_type": "display_data"
    },
    {
     "data": {
      "application/vnd.jupyter.widget-view+json": {
       "model_id": "",
       "version_major": 2,
       "version_minor": 0
      },
      "text/plain": [
       "Validating: 0it [00:00, ?it/s]"
      ]
     },
     "metadata": {},
     "output_type": "display_data"
    },
    {
     "data": {
      "application/vnd.jupyter.widget-view+json": {
       "model_id": "",
       "version_major": 2,
       "version_minor": 0
      },
      "text/plain": [
       "Validating: 0it [00:00, ?it/s]"
      ]
     },
     "metadata": {},
     "output_type": "display_data"
    },
    {
     "data": {
      "application/vnd.jupyter.widget-view+json": {
       "model_id": "",
       "version_major": 2,
       "version_minor": 0
      },
      "text/plain": [
       "Validating: 0it [00:00, ?it/s]"
      ]
     },
     "metadata": {},
     "output_type": "display_data"
    },
    {
     "data": {
      "application/vnd.jupyter.widget-view+json": {
       "model_id": "",
       "version_major": 2,
       "version_minor": 0
      },
      "text/plain": [
       "Validating: 0it [00:00, ?it/s]"
      ]
     },
     "metadata": {},
     "output_type": "display_data"
    },
    {
     "data": {
      "application/vnd.jupyter.widget-view+json": {
       "model_id": "",
       "version_major": 2,
       "version_minor": 0
      },
      "text/plain": [
       "Validating: 0it [00:00, ?it/s]"
      ]
     },
     "metadata": {},
     "output_type": "display_data"
    },
    {
     "data": {
      "application/vnd.jupyter.widget-view+json": {
       "model_id": "",
       "version_major": 2,
       "version_minor": 0
      },
      "text/plain": [
       "Validating: 0it [00:00, ?it/s]"
      ]
     },
     "metadata": {},
     "output_type": "display_data"
    },
    {
     "data": {
      "application/vnd.jupyter.widget-view+json": {
       "model_id": "",
       "version_major": 2,
       "version_minor": 0
      },
      "text/plain": [
       "Validating: 0it [00:00, ?it/s]"
      ]
     },
     "metadata": {},
     "output_type": "display_data"
    },
    {
     "data": {
      "application/vnd.jupyter.widget-view+json": {
       "model_id": "",
       "version_major": 2,
       "version_minor": 0
      },
      "text/plain": [
       "Validating: 0it [00:00, ?it/s]"
      ]
     },
     "metadata": {},
     "output_type": "display_data"
    },
    {
     "data": {
      "application/vnd.jupyter.widget-view+json": {
       "model_id": "",
       "version_major": 2,
       "version_minor": 0
      },
      "text/plain": [
       "Validating: 0it [00:00, ?it/s]"
      ]
     },
     "metadata": {},
     "output_type": "display_data"
    },
    {
     "data": {
      "application/vnd.jupyter.widget-view+json": {
       "model_id": "",
       "version_major": 2,
       "version_minor": 0
      },
      "text/plain": [
       "Validating: 0it [00:00, ?it/s]"
      ]
     },
     "metadata": {},
     "output_type": "display_data"
    },
    {
     "data": {
      "application/vnd.jupyter.widget-view+json": {
       "model_id": "",
       "version_major": 2,
       "version_minor": 0
      },
      "text/plain": [
       "Validating: 0it [00:00, ?it/s]"
      ]
     },
     "metadata": {},
     "output_type": "display_data"
    },
    {
     "data": {
      "application/vnd.jupyter.widget-view+json": {
       "model_id": "",
       "version_major": 2,
       "version_minor": 0
      },
      "text/plain": [
       "Validating: 0it [00:00, ?it/s]"
      ]
     },
     "metadata": {},
     "output_type": "display_data"
    },
    {
     "data": {
      "application/vnd.jupyter.widget-view+json": {
       "model_id": "",
       "version_major": 2,
       "version_minor": 0
      },
      "text/plain": [
       "Validating: 0it [00:00, ?it/s]"
      ]
     },
     "metadata": {},
     "output_type": "display_data"
    },
    {
     "data": {
      "application/vnd.jupyter.widget-view+json": {
       "model_id": "",
       "version_major": 2,
       "version_minor": 0
      },
      "text/plain": [
       "Validating: 0it [00:00, ?it/s]"
      ]
     },
     "metadata": {},
     "output_type": "display_data"
    },
    {
     "data": {
      "application/vnd.jupyter.widget-view+json": {
       "model_id": "",
       "version_major": 2,
       "version_minor": 0
      },
      "text/plain": [
       "Validating: 0it [00:00, ?it/s]"
      ]
     },
     "metadata": {},
     "output_type": "display_data"
    },
    {
     "data": {
      "application/vnd.jupyter.widget-view+json": {
       "model_id": "",
       "version_major": 2,
       "version_minor": 0
      },
      "text/plain": [
       "Validating: 0it [00:00, ?it/s]"
      ]
     },
     "metadata": {},
     "output_type": "display_data"
    },
    {
     "data": {
      "application/vnd.jupyter.widget-view+json": {
       "model_id": "",
       "version_major": 2,
       "version_minor": 0
      },
      "text/plain": [
       "Validating: 0it [00:00, ?it/s]"
      ]
     },
     "metadata": {},
     "output_type": "display_data"
    },
    {
     "data": {
      "application/vnd.jupyter.widget-view+json": {
       "model_id": "",
       "version_major": 2,
       "version_minor": 0
      },
      "text/plain": [
       "Validating: 0it [00:00, ?it/s]"
      ]
     },
     "metadata": {},
     "output_type": "display_data"
    },
    {
     "data": {
      "application/vnd.jupyter.widget-view+json": {
       "model_id": "",
       "version_major": 2,
       "version_minor": 0
      },
      "text/plain": [
       "Validating: 0it [00:00, ?it/s]"
      ]
     },
     "metadata": {},
     "output_type": "display_data"
    },
    {
     "data": {
      "application/vnd.jupyter.widget-view+json": {
       "model_id": "",
       "version_major": 2,
       "version_minor": 0
      },
      "text/plain": [
       "Validating: 0it [00:00, ?it/s]"
      ]
     },
     "metadata": {},
     "output_type": "display_data"
    },
    {
     "name": "stderr",
     "output_type": "stream",
     "text": [
      "LOCAL_RANK: 0 - CUDA_VISIBLE_DEVICES: [0]\n"
     ]
    },
    {
     "data": {
      "application/vnd.jupyter.widget-view+json": {
       "model_id": "fce9c9bbbc33402787011a085cf46fa0",
       "version_major": 2,
       "version_minor": 0
      },
      "text/plain": [
       "Testing: 0it [00:00, ?it/s]"
      ]
     },
     "metadata": {},
     "output_type": "display_data"
    },
    {
     "name": "stdout",
     "output_type": "stream",
     "text": [
      "--------------------------------------------------------------------------------\n",
      "DATALOADER:0 TEST RESULTS\n",
      "{'test/metrics/angular_degree': 19.68513298034668,\n",
      " 'test/metrics/log_err_specturm': 3.4083027839660645,\n",
      " 'test/metrics/reconstruction': 0.24562937021255493}\n",
      "--------------------------------------------------------------------------------\n"
     ]
    },
    {
     "data": {
      "text/plain": [
       "[{'test/metrics/reconstruction': 0.24562937021255493,\n",
       "  'test/metrics/angular_degree': 19.68513298034668,\n",
       "  'test/metrics/log_err_specturm': 3.4083027839660645}]"
      ]
     },
     "execution_count": 24,
     "metadata": {},
     "output_type": "execute_result"
    }
   ],
   "source": [
    "trainer.fit(model, dm)\n",
    "trainer.test(model, dm)"
   ]
  },
  {
   "cell_type": "code",
   "execution_count": 25,
   "id": "da145ec9",
   "metadata": {},
   "outputs": [
    {
     "name": "stdout",
     "output_type": "stream",
     "text": [
      "torch.Size([64, 2]) torch.Size([64, 2])\n",
      "torch.Size([256, 2]) torch.Size([256, 2])\n",
      "torch.Size([64, 2])\n",
      "torch.Size([256, 2])\n"
     ]
    },
    {
     "data": {
      "image/png": "[encoded data removed]",
      "text/plain": [
       "<Figure size 720x720 with 2 Axes>"
      ]
     },
     "metadata": {
      "needs_background": "light"
     },
     "output_type": "display_data"
    },
    {
     "data": {
      "image/png": "[encoded data removed]",
      "text/plain": [
       "<Figure size 720x720 with 2 Axes>"
      ]
     },
     "metadata": {
      "needs_background": "light"
     },
     "output_type": "display_data"
    },
    {
     "data": {
      "image/png": "[encoded data removed]",
      "text/plain": [
       "<Figure size 720x720 with 2 Axes>"
      ]
     },
     "metadata": {
      "needs_background": "light"
     },
     "output_type": "display_data"
    }
   ],
   "source": [
    "X_lr, y_lr = dm.val_dataset[:]\n",
    "img_shape_lr = dm.val_dataset.img_shape[:2]\n",
    "shape_lr = dm.val_dataset.img_shape\n",
    "\n",
    "X_hr, y_hr = dm.test_dataset[:]\n",
    "img_shape_hr = dm.test_dataset.img_shape[:2]\n",
    "shape_hr = dm.test_dataset.img_shape\n",
    "\n",
    "print(X_lr.shape, y_lr.shape)\n",
    "print(X_hr.shape, y_hr.shape)\n",
    "\n",
    "y_hat_lr = model(X_lr)\n",
    "y_hat_hr = model(X_hr)\n",
    "\n",
    "print(y_hat_lr.shape)\n",
    "print(y_hat_hr.shape)\n",
    "\n",
    "plt.figure(figsize=(10,10))\n",
    "plt.subplot(121)\n",
    "plt.imshow(y_hat_lr[:,0].reshape(*img_shape_lr).detach())\n",
    "plt.subplot(122)\n",
    "plt.imshow(y_lr[:,0].reshape(*img_shape_lr).detach())\n",
    "plt.show()\n",
    "\n",
    "plt.figure(figsize=(10,10))\n",
    "plt.subplot(121)\n",
    "plt.imshow(y_hat_lr[:,1].reshape(*img_shape_lr).detach())\n",
    "plt.subplot(122)\n",
    "plt.imshow(y_lr[:,1].reshape(*img_shape_lr).detach())\n",
    "plt.show()\n",
    "\n",
    "plt.figure(figsize=(10,10))\n",
    "plt.subplot(121)\n",
    "plt.imshow(y_hat_hr[:,0].reshape(*img_shape_hr).detach())\n",
    "plt.subplot(122)\n",
    "plt.imshow(y_hr[:,0].reshape(*img_shape_hr).detach())\n",
    "plt.show()"
   ]
  },
  {
   "cell_type": "code",
   "execution_count": 26,
   "id": "7325d477",
   "metadata": {
    "scrolled": false
   },
   "outputs": [
    {
     "name": "stdout",
     "output_type": "stream",
     "text": [
      "tensor([[-0.0776,  0.2291],\n",
      "        [-0.0754,  0.1300],\n",
      "        [-0.0572,  0.0105],\n",
      "        [-0.0305, -0.1144],\n",
      "        [-0.0121, -0.2133],\n",
      "        [-0.0295, -0.2328],\n",
      "        [-0.0902, -0.0819],\n",
      "        [ 0.0885,  0.2306]], grad_fn=<TanhBackward>)\n",
      "tensor([[-0.0776,  0.2291],\n",
      "        [-0.0787,  0.1826],\n",
      "        [-0.0754,  0.1300],\n",
      "        [-0.0680,  0.0722],\n",
      "        [-0.0572,  0.0105],\n",
      "        [-0.0442, -0.0528],\n",
      "        [-0.0305, -0.1144],\n",
      "        [-0.0188, -0.1698],\n",
      "        [-0.0121, -0.2133],\n",
      "        [-0.0145, -0.2376],\n",
      "        [-0.0295, -0.2328],\n",
      "        [-0.0581, -0.1857],\n",
      "        [-0.0902, -0.0819],\n",
      "        [-0.0844,  0.0780],\n",
      "        [ 0.0885,  0.2306],\n",
      "        [ 0.6568,  0.1638]], grad_fn=<TanhBackward>)\n"
     ]
    }
   ],
   "source": [
    "x = X_lr[:8,:]\n",
    "print(model(x))\n",
    "x = X_hr[:16,:]\n",
    "print(model(x))"
   ]
  },
  {
   "cell_type": "code",
   "execution_count": 27,
   "id": "8216224d",
   "metadata": {},
   "outputs": [
    {
     "data": {
      "text/plain": [
       "<matplotlib.quiver.Quiver at 0x7f46f4ee8460>"
      ]
     },
     "execution_count": 27,
     "metadata": {},
     "output_type": "execute_result"
    },
    {
     "data": {
      "image/png": "[encoded data removed]",
      "text/plain": [
       "<Figure size 1440x720 with 2 Axes>"
      ]
     },
     "metadata": {
      "needs_background": "light"
     },
     "output_type": "display_data"
    }
   ],
   "source": [
    "x = X_lr[:,0].detach()\n",
    "y = X_lr[:,1].detach()\n",
    "u = y_hat_lr[:,0].detach()\n",
    "v = y_hat_lr[:,1].detach()\n",
    "\n",
    "s = 1\n",
    "plt.figure(figsize=(20,10))\n",
    "plt.subplot(121)\n",
    "plt.quiver(x.reshape(*img_shape_lr)[::s,::s], \n",
    "           y.reshape(*img_shape_lr)[::s,::s],\n",
    "           u.reshape(*img_shape_lr)[::s,::s],\n",
    "           v.reshape(*img_shape_lr)[::s,::s], scale=10)\n",
    "plt.subplot(122)\n",
    "plt.quiver(        x.reshape(*img_shape_lr)[::s,::s], \n",
    "                   y.reshape(*img_shape_lr)[::s,::s],\n",
    "           y_lr[:,0].reshape(*img_shape_lr)[::s,::s],\n",
    "           y_lr[:,1].reshape(*img_shape_lr)[::s,::s], scale=10)"
   ]
  },
  {
   "cell_type": "code",
   "execution_count": 28,
   "id": "8116d0e6",
   "metadata": {},
   "outputs": [
    {
     "data": {
      "text/plain": [
       "<matplotlib.quiver.Quiver at 0x7f46f4e28dc0>"
      ]
     },
     "execution_count": 28,
     "metadata": {},
     "output_type": "execute_result"
    },
    {
     "data": {
      "image/png": "[encoded data removed]",
      "text/plain": [
       "<Figure size 1440x720 with 2 Axes>"
      ]
     },
     "metadata": {
      "needs_background": "light"
     },
     "output_type": "display_data"
    }
   ],
   "source": [
    "x = X_hr[:,0].detach()\n",
    "y = X_hr[:,1].detach()\n",
    "u = y_hat_hr[:,0].detach()\n",
    "v = y_hat_hr[:,1].detach()\n",
    "\n",
    "s = 2\n",
    "plt.figure(figsize=(20,10))\n",
    "plt.subplot(121)\n",
    "plt.quiver(x.reshape(*img_shape_hr)[::s,::s], \n",
    "           y.reshape(*img_shape_hr)[::s,::s],\n",
    "           u.reshape(*img_shape_hr)[::s,::s],\n",
    "           v.reshape(*img_shape_hr)[::s,::s], scale=10)\n",
    "plt.subplot(122)\n",
    "plt.quiver(        x.reshape(*img_shape_hr)[::s,::s], \n",
    "                   y.reshape(*img_shape_hr)[::s,::s],\n",
    "           y_hr[:,0].reshape(*img_shape_hr)[::s,::s],\n",
    "           y_hr[:,1].reshape(*img_shape_hr)[::s,::s], scale=10)"
   ]
  },
  {
   "cell_type": "code",
   "execution_count": 29,
   "id": "addd0d9c",
   "metadata": {},
   "outputs": [
    {
     "name": "stdout",
     "output_type": "stream",
     "text": [
      "{'reconstruction': 0.08113489300012589, 'angular_degree': 13.339993476867676, 'log_err_specturm': 1.8108177185058594}\n",
      "{'reconstruction': 0.24562937021255493, 'angular_degree': 19.685131072998047, 'log_err_specturm': 3.4083011150360107}\n"
     ]
    }
   ],
   "source": [
    "print(compute_all_metrics(y_hat_lr, y_lr))\n",
    "print(compute_all_metrics(y_hat_hr, y_hr))"
   ]
  },
  {
   "cell_type": "code",
   "execution_count": 30,
   "id": "ad6f60e7",
   "metadata": {},
   "outputs": [
    {
     "data": {
      "text/plain": [
       "[<matplotlib.lines.Line2D at 0x7f46f4d414c0>]"
      ]
     },
     "execution_count": 30,
     "metadata": {},
     "output_type": "execute_result"
    },
    {
     "data": {
      "image/png": "[encoded data removed]",
      "text/plain": [
       "<Figure size 432x288 with 1 Axes>"
      ]
     },
     "metadata": {
      "needs_background": "light"
     },
     "output_type": "display_data"
    }
   ],
   "source": [
    "# compute spectrum\n",
    "spec_cat = phy.energy_spectrum(torch.randn(*shape_hr).permute(2,0,1))[0]\n",
    "spec_ns = phy.energy_spectrum(torch.randn(*shape_hr).permute(2,0,1))[0]\n",
    "spec_lr = phy.energy_spectrum(y_lr.view(*shape_lr).permute(2,0,1))[0]\n",
    "spec_hr = phy.energy_spectrum(y_hr.view(*shape_hr).permute(2,0,1))[0]\n",
    "\n",
    "spec_lr_pred = phy.energy_spectrum(y_hat_lr.view(*shape_lr).permute(2,0,1))[0]\n",
    "spec_hr_pred = phy.energy_spectrum(y_hat_hr.view(*shape_hr).permute(2,0,1))[0]\n",
    "\n",
    "# plt.loglog(spec_ns)\n",
    "plt.loglog(spec_lr)\n",
    "plt.loglog(spec_hr)\n",
    "plt.loglog(spec_lr_pred.detach())\n",
    "plt.loglog(spec_hr_pred.detach())"
   ]
  },
  {
   "cell_type": "code",
   "execution_count": null,
   "id": "4f705448",
   "metadata": {},
   "outputs": [],
   "source": [
    "# spec error\n",
    "spec_log_error_lr = torch.norm(torch.log(spec_lr_pred+1e-20) - torch.log(spec_lr+1e-20))**2\n",
    "spec_log_error_hr = torch.norm(torch.log(spec_hr_pred+1e-20) - torch.log(spec_hr+1e-20))**2\n",
    "\n",
    "print(spec_error_lr.item())\n",
    "print(spec_error_hr.item())"
   ]
  },
  {
   "cell_type": "code",
   "execution_count": null,
   "id": "b426d8be",
   "metadata": {},
   "outputs": [],
   "source": [
    "# angular error\n",
    "def ang_error(x, x_ref, avg=True):\n",
    "    assert x.shape == x_ref.shape\n",
    "    assert x.shape[1] == 2\n",
    "    N = x.shape[0]\n",
    "    \n",
    "    w1 = torch.cat([x, torch.ones(x.shape[0], 1)], dim=1)\n",
    "    w2 = torch.cat([x_ref, torch.ones(x_ref.shape[0], 1)], dim=1)\n",
    "    \n",
    "    err = torch.sum(w1 * w2, dim=1) / (torch.norm(w1, dim=1) * torch.norm(w2, dim=1))\n",
    "    assert err.sum() < N\n",
    "    err = torch.rad2deg(torch.acos(err))\n",
    "    if avg:\n",
    "        return err.mean()\n",
    "    return err\n",
    "    \n",
    "\n",
    "ang_err_lr = ang_error(y_lr, y_hat_lr, avg=True)\n",
    "ang_err_hr = ang_error(y_hr, y_hat_hr, avg=True)\n",
    "\n",
    "print(torch.max(ang_error(y_lr, y_hat_lr, avg=False)))\n",
    "print(torch.max(ang_error(y_hr, y_hat_hr, avg=False)))\n"
   ]
  },
  {
   "cell_type": "code",
   "execution_count": null,
   "id": "47c34579",
   "metadata": {},
   "outputs": [],
   "source": [
    "model = plDivFreeRFFNet.load_from_checkpoint(checkpoint_callback.best_model_path)\n",
    "trainer.test(model, dm)"
   ]
  },
  {
   "cell_type": "code",
   "execution_count": null,
   "id": "a535b9eb",
   "metadata": {},
   "outputs": [],
   "source": [
    "spec_lr_err = phy.energy_spectrum(((y_hat_lr-y_lr)**2).view(*img_shape_lr).permute(2,0,1))[0]\n",
    "spec_hr_err = phy.energy_spectrum(((y_hat_hr-y_hr)**2).view(*img_shape_hr).permute(2,0,1))[0]\n",
    "\n",
    "plt.loglog(spec_lr_err.detach())\n",
    "plt.loglog(spec_hr_err.detach())"
   ]
  },
  {
   "cell_type": "code",
   "execution_count": null,
   "id": "8abfbd67",
   "metadata": {},
   "outputs": [],
   "source": [
    "y_hat, Py_hat = model(X_lr)\n",
    "u, v = torch.split(y_hat,1,-1)\n",
    "du_xy = torch.autograd.grad(u, X_lr, torch.ones_like(u), create_graph=True)[0]       \n",
    "dv_xy = torch.autograd.grad(v, X_lr, torch.ones_like(v), create_graph=True)[0]\n",
    "# div_autograd = du_xy[...,0] + dv_xy[...,1]\n",
    "div_autograd = dv_xy[...,1]\n",
    "div_autograd = div_autograd.view(*img_shape_lr[:2])\n",
    "\n",
    "plt.imshow(div_autograd.detach())\n",
    "plt.colorbar()\n",
    "plt.show()\n",
    "\n",
    "du_x = tch._my_field_grad(y_hat.view(*img_shape_lr)[:,:,0], 1)\n",
    "du_y = tch._my_field_grad(y_hat.view(*img_shape_lr)[:,:,1], 0)\n",
    "div_numerical = du_y\n",
    "    \n",
    "plt.imshow(div_numerical.detach())\n",
    "plt.colorbar()\n",
    "plt.show()\n",
    "\n",
    "plt.imshow((div_numerical - div_autograd).detach())\n",
    "plt.colorbar()\n",
    "plt.show()\n"
   ]
  },
  {
   "cell_type": "code",
   "execution_count": null,
   "id": "67538680",
   "metadata": {},
   "outputs": [],
   "source": [
    "y_hat, Py_hat = model(X_hr)\n",
    "u, v = torch.split(y_hat,1,-1)\n",
    "du_xy = torch.autograd.grad(u, X_hr, torch.ones_like(u), create_graph=True)[0]       \n",
    "dv_xy = torch.autograd.grad(v, X_hr, torch.ones_like(v), create_graph=True)[0]\n",
    "# div_autograd = du_xy[...,0] + dv_xy[...,1]\n",
    "div_autograd = dv_xy[...,1]\n",
    "div_autograd = div_autograd.view(*img_shape_hr[:2])\n",
    "\n",
    "plt.imshow(div_autograd[2:-2,2:-2].detach())\n",
    "plt.colorbar()\n",
    "plt.show()\n",
    "\n",
    "du_x = tch._my_field_grad(y_hat.view(*img_shape_hr)[:,:,0], 1)\n",
    "du_y = tch._my_field_grad(y_hat.view(*img_shape_hr)[:,:,1], 0)\n",
    "div_numerical = du_y\n",
    "    \n",
    "plt.imshow(div_numerical[2:-2,2:-2].detach())\n",
    "plt.colorbar()\n",
    "plt.show()\n",
    "\n",
    "plt.imshow((div_numerical[2:-2,2:-2] - div_autograd[2:-2,2:-2]).detach())\n",
    "plt.colorbar()\n",
    "plt.show()\n"
   ]
  },
  {
   "cell_type": "code",
   "execution_count": null,
   "id": "8f883a78",
   "metadata": {},
   "outputs": [],
   "source": []
  }
 ],
 "metadata": {
  "kernelspec": {
   "display_name": "Python 3 (ipykernel)",
   "language": "python",
   "name": "python3"
  },
  "language_info": {
   "codemirror_mode": {
    "name": "ipython",
    "version": 3
   },
   "file_extension": ".py",
   "mimetype": "text/x-python",
   "name": "python",
   "nbconvert_exporter": "python",
   "pygments_lexer": "ipython3",
   "version": "3.8.5"
  }
 },
 "nbformat": 4,
 "nbformat_minor": 5
}
