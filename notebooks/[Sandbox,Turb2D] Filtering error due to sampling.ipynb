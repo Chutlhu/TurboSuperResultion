{
 "cells": [
  {
   "cell_type": "code",
   "execution_count": 2,
   "id": "6328122a",
   "metadata": {},
   "outputs": [],
   "source": [
    "%load_ext autoreload\n",
    "%autoreload 2"
   ]
  },
  {
   "cell_type": "code",
   "execution_count": 22,
   "id": "046de65b",
   "metadata": {},
   "outputs": [],
   "source": [
    "from argparse import Namespace\n",
    "from pathlib import Path\n",
    "import numpy as np\n",
    "import scipy.io as sio \n",
    "\n",
    "import torch\n",
    "import torch.nn.functional as F\n",
    "\n",
    "from turboflow.dataloaders import TurboFlowDataModule\n",
    "\n",
    "from turboflow.utils import phy_utils as phy\n",
    "from turboflow.utils import torch_utils as tch\n",
    "\n",
    "import matplotlib.pyplot as plt"
   ]
  },
  {
   "cell_type": "code",
   "execution_count": 16,
   "id": "7ed20650",
   "metadata": {},
   "outputs": [],
   "source": [
    "# load dataset\n",
    "data_dir = Path('/','home','dicarlo_d','Documents','Datasets','Turb2D.hdf5')\n",
    "dm = TurboFlowDataModule(dataset='Turb2D', \n",
    "                         data_dir=data_dir,\n",
    "                         batch_size=100000,\n",
    "                         time_idx=666,\n",
    "                         train_downsampling_space=1,\n",
    "                         val_downsampling_space=1,\n",
    "                         test_downsampling_space=1,\n",
    "                         train_downsampling_time=1,\n",
    "                         val_downsampling_time=1,\n",
    "                         test_downsampling_time=1,\n",
    "                         num_workers=1)\n",
    "dm.setup()"
   ]
  },
  {
   "cell_type": "code",
   "execution_count": 17,
   "id": "d4e75c17",
   "metadata": {},
   "outputs": [
    {
     "name": "stdout",
     "output_type": "stream",
     "text": [
      "Low Resolution data: 65536 256\n",
      "High Resolution data: 65536 256\n"
     ]
    }
   ],
   "source": [
    "X_lr, y_lr = dm.val_dataset[:]\n",
    "img_shape_lr = dm.val_dataset.img_shape[:2]\n",
    "shape_lr = dm.val_dataset.img_shape\n",
    "L = shape_lr[0]\n",
    "N_lr = X_lr.shape[0]\n",
    "print('Low Resolution data:', N_lr, L)\n",
    "\n",
    "X_hr, y_hr = dm.test_dataset[:]\n",
    "img_shape_hr = dm.test_dataset.img_shape[:2]\n",
    "shape_hr = dm.test_dataset.img_shape\n",
    "H = shape_hr[0]\n",
    "N_hr = X_hr.shape[0]\n",
    "print('High Resolution data:', N_hr, H)"
   ]
  },
  {
   "cell_type": "code",
   "execution_count": 25,
   "id": "20e648f5",
   "metadata": {},
   "outputs": [],
   "source": [
    "coords_lr = X_lr.reshape(256,256,2).numpy()\n",
    "vels_lr = y_lr.reshape(256,256,2).numpy()\n",
    "\n",
    "mat = {}\n",
    "mat['coords'] = coords_lr\n",
    "mat['vels'] = vels_lr\n",
    "\n",
    "sio.savemat('./turb2D_sample666_xy_uv_256x256x2.mat', mat)"
   ]
  },
  {
   "cell_type": "code",
   "execution_count": null,
   "id": "8f883a78",
   "metadata": {},
   "outputs": [],
   "source": [
    "# compute and visualize divergence at highest scale\n",
    "uv = y_hr.reshape(shape_hr)\n",
    "xy = X_hr.reshape(shape_hr)\n",
    "print(uv.shape)\n",
    "print(type(uv))\n",
    "\n",
    "x = xy[:,:,0].numpy()\n",
    "y = xy[:,:,1].numpy()\n",
    "u = uv[:,:,0].numpy()\n",
    "v = uv[:,:,1].numpy()\n",
    "\n",
    "plt.figure(figsize=(20,5))\n",
    "plt.subplot(141)\n",
    "plt.imshow(x)\n",
    "plt.subplot(142)\n",
    "plt.imshow(y)\n",
    "plt.subplot(143)\n",
    "plt.imshow(u)\n",
    "plt.subplot(144)\n",
    "plt.imshow(v)\n",
    "plt.show()\n",
    "\n",
    "D = phy.compute_divergence((x,y),(u,v))\n",
    "D = D[2:-2,2:-2]\n",
    "plt.imshow(D)\n",
    "plt.colorbar()\n",
    "plt.show()\n",
    "print(np.linalg.norm(D))\n",
    "\n",
    "W = phy.compute_vorticity((x,y),(u,v))\n",
    "plt.imshow(W)\n",
    "plt.colorbar()\n",
    "plt.show()"
   ]
  },
  {
   "cell_type": "code",
   "execution_count": null,
   "id": "faa4d403",
   "metadata": {},
   "outputs": [],
   "source": [
    "ds = 4\n",
    "plt.figure(figsize=(10,10))\n",
    "plt.quiver (x[::ds,::ds], y[::ds,::ds],\n",
    "            u[::ds,::ds], v[::ds,::ds])\n",
    "plt.show()"
   ]
  },
  {
   "cell_type": "code",
   "execution_count": null,
   "id": "0f24abac",
   "metadata": {},
   "outputs": [],
   "source": [
    "R, C = u.shape\n",
    "print(R, C)\n",
    "padd = 2\n",
    "u_pad = np.pad(u, (padd*R,padd*C), mode='symmetric')\n",
    "v_pad = np.pad(v, (padd*R,padd*C), mode='symmetric')\n",
    "\n",
    "print(u_pad.shape)\n",
    "plt.imshow(u_pad)\n",
    "plt.show()\n",
    "\n",
    "nR, nC = u_pad.shape"
   ]
  },
  {
   "cell_type": "code",
   "execution_count": null,
   "id": "b7fbfcf0",
   "metadata": {},
   "outputs": [],
   "source": [
    "beta = np.arange(nR) - nR/2 + 0.5\n",
    "t = np.ones(nC)\n",
    "print(beta[0], beta[-1])\n",
    "beta = beta[:,None]*t[None,:]\n",
    "\n",
    "alpha = np.arange(nC) - nC/2 + 0.5\n",
    "t = np.ones(nR)\n",
    "print(alpha[0], alpha[-1])\n",
    "alpha = alpha[None,:]*t[:,None]\n",
    "\n",
    "plt.imshow(beta)\n",
    "plt.show()\n",
    "\n",
    "plt.imshow(alpha)\n",
    "plt.show()"
   ]
  },
  {
   "cell_type": "code",
   "execution_count": null,
   "id": "7829a558",
   "metadata": {},
   "outputs": [],
   "source": [
    "coef = 2*1j*np.pi / np.sqrt(nR*nC)"
   ]
  },
  {
   "cell_type": "code",
   "execution_count": null,
   "id": "5ce5e0bd",
   "metadata": {},
   "outputs": [],
   "source": [
    "Fu = np.fft.fftshift( np.fft.fft2(u, s=(nR,nC)))\n",
    "Fv = np.fft.fftshift( np.fft.fft2(v, s=(nR,nC)))\n",
    "\n",
    "print(Fu.shape, Fv.shape)\n",
    "\n",
    "Fs = (alpha * Fv - beta * Fu) / (coef*(alpha * alpha + beta * beta))\n",
    "Fp = (alpha * Fu + beta * Fv) / (coef*(alpha * alpha + beta * beta))\n",
    "\n",
    "print(Fs.shape, Fp.shape)\n",
    "\n",
    "plt.imshow(np.abs(Fu))\n",
    "plt.show()\n",
    "\n",
    "plt.imshow(np.abs(Fv))\n",
    "plt.show()\n"
   ]
  },
  {
   "cell_type": "code",
   "execution_count": null,
   "id": "4aafcfc1",
   "metadata": {},
   "outputs": [],
   "source": [
    "sf_t = np.fft.ifft2(np.fft.ifftshift(Fs), s=(nR,nC))\n",
    "fp_t = np.fft.ifft2(np.fft.ifftshift(Fp), s=(nR,nC))\n",
    "\n",
    "print(sf_t.shape)\n",
    "plt.imshow(np.abs(sf_t))\n",
    "plt.show()\n",
    "\n",
    "plt.imshow(np.real(sf_t))\n",
    "plt.colorbar()\n",
    "plt.show()\n",
    "\n",
    "plt.imshow(np.imag(sf_t))\n",
    "plt.colorbar()\n",
    "plt.show()\n",
    "\n",
    "print(fp_t.shape)\n",
    "plt.imshow(np.abs(fp_t))\n",
    "plt.show()"
   ]
  },
  {
   "cell_type": "code",
   "execution_count": null,
   "id": "69bd45ff",
   "metadata": {},
   "outputs": [],
   "source": [
    "R1 = nR // 2\n",
    "C1 = nC // 2\n",
    "R2 = R1 + R\n",
    "C2 = C1 + C\n",
    "\n",
    "R1, R2 = 0, 256\n",
    "C1, C2 = 0, 256\n",
    "\n",
    "print(R1, R2)\n",
    "print(C1, C2)\n",
    "\n",
    "plt.imshow(np.abs(sf_t[R1:R2,C1:C2]))\n",
    "plt.show()\n",
    "\n",
    "plt.imshow(np.abs(fp_t[R1:R2,C1:C2]))\n",
    "plt.show()"
   ]
  },
  {
   "cell_type": "code",
   "execution_count": null,
   "id": "ff3bb717",
   "metadata": {},
   "outputs": [],
   "source": [
    "sf = sf_t[R1:R2,C1:C2]\n",
    "fp = fp_t[R1:R2,C1:C2]\n",
    "\n",
    "stf=np.real(sf)\n",
    "fpt=np.real(fp)\n",
    "\n",
    "plt.imshow(stf)\n",
    "plt.show()\n",
    "\n",
    "plt.imshow(fpt)\n",
    "plt.show()"
   ]
  },
  {
   "cell_type": "code",
   "execution_count": null,
   "id": "52d5e102",
   "metadata": {
    "scrolled": false
   },
   "outputs": [],
   "source": [
    "print(x.shape)\n",
    "print(fpt.shape)\n",
    "\n",
    "uirr, virr = phy.my_grad([fpt], [x[:,0], y[0,:]], indexing='ij')[0]\n",
    "vsol, usol = phy.my_grad([stf], [x[:,0], y[0,:]], indexing='ij')[0]\n",
    "usol = -usol\n",
    "\n",
    "plt.imshow(uirr)\n",
    "plt.colorbar()\n",
    "plt.show()\n",
    "plt.imshow(virr)\n",
    "plt.show()\n",
    "\n",
    "ds = 4\n",
    "plt.figure(figsize=(10,10))\n",
    "plt.quiver(x[::ds,::ds], y[::ds,::ds],\n",
    "          uirr[::ds,::ds], virr[::ds,::ds])\n",
    "plt.show()"
   ]
  },
  {
   "cell_type": "code",
   "execution_count": null,
   "id": "f1826f20",
   "metadata": {},
   "outputs": [],
   "source": [
    "plt.imshow(usol)\n",
    "plt.show()\n",
    "plt.imshow(vsol)\n",
    "plt.show()\n",
    "\n",
    "ds = 4\n",
    "plt.figure(figsize=(10,10))\n",
    "plt.quiver(x[::ds,::ds], y[::ds,::ds],\n",
    "          usol[::ds,::ds], vsol[::ds,::ds])\n",
    "plt.show()"
   ]
  },
  {
   "cell_type": "code",
   "execution_count": null,
   "id": "4036e8c0",
   "metadata": {},
   "outputs": [],
   "source": [
    "ds = 4\n",
    "plt.figure(figsize=(10,10))\n",
    "plt.quiver(x[::ds,::ds], y[::ds,::ds],\n",
    "           u[::ds,::ds], v[::ds,::ds])\n",
    "plt.show()\n",
    "\n",
    "ds = 4\n",
    "plt.figure(figsize=(10,10))\n",
    "plt.quiver(x[::ds,::ds], y[::ds,::ds],\n",
    "           (uirr + usol)[::ds,::ds], (virr+vsol)[::ds,::ds])\n",
    "plt.show()"
   ]
  },
  {
   "cell_type": "code",
   "execution_count": null,
   "id": "b98d42ad",
   "metadata": {},
   "outputs": [],
   "source": [
    "ulam = u - (uirr + usol)\n",
    "plt.imshow(ulam)"
   ]
  },
  {
   "cell_type": "code",
   "execution_count": null,
   "id": "2d59e568",
   "metadata": {},
   "outputs": [],
   "source": []
  }
 ],
 "metadata": {
  "kernelspec": {
   "display_name": "Python 3 (ipykernel)",
   "language": "python",
   "name": "python3"
  },
  "language_info": {
   "codemirror_mode": {
    "name": "ipython",
    "version": 3
   },
   "file_extension": ".py",
   "mimetype": "text/x-python",
   "name": "python",
   "nbconvert_exporter": "python",
   "pygments_lexer": "ipython3",
   "version": "3.8.5"
  }
 },
 "nbformat": 4,
 "nbformat_minor": 5
}
